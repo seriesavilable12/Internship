{
 "cells": [
  {
   "cell_type": "markdown",
   "id": "0040084b",
   "metadata": {},
   "source": [
    "# Q1.-Glass Identification:"
   ]
  },
  {
   "cell_type": "code",
   "execution_count": 1,
   "id": "45366cce",
   "metadata": {},
   "outputs": [],
   "source": [
    "import numpy as np\n",
    "import pandas as pd\n",
    "import seaborn as sns\n",
    "import matplotlib.pyplot as plt\n",
    "from sklearn.preprocessing import StandardScaler\n",
    "from sklearn.model_selection import train_test_split\n",
    "\n",
    "import warnings\n",
    "warnings.filterwarnings('ignore')"
   ]
  },
  {
   "cell_type": "markdown",
   "id": "c6584af9",
   "metadata": {},
   "source": [
    "### https://raw.githubusercontent.com/dsrscientist/dataset3/main/glass.csv"
   ]
  },
  {
   "cell_type": "markdown",
   "id": "f74945be",
   "metadata": {},
   "source": [
    "### https://github.com/dsrscientist/dataset3"
   ]
  },
  {
   "cell_type": "code",
   "execution_count": 2,
   "id": "abeb2bed",
   "metadata": {},
   "outputs": [],
   "source": [
    "df = pd.read_csv(\"https://raw.githubusercontent.com/dsrscientist/dataset3/main/glass.csv\")"
   ]
  },
  {
   "cell_type": "code",
   "execution_count": 3,
   "id": "b8b39a7c",
   "metadata": {},
   "outputs": [
    {
     "data": {
      "text/html": [
       "<div>\n",
       "<style scoped>\n",
       "    .dataframe tbody tr th:only-of-type {\n",
       "        vertical-align: middle;\n",
       "    }\n",
       "\n",
       "    .dataframe tbody tr th {\n",
       "        vertical-align: top;\n",
       "    }\n",
       "\n",
       "    .dataframe thead th {\n",
       "        text-align: right;\n",
       "    }\n",
       "</style>\n",
       "<table border=\"1\" class=\"dataframe\">\n",
       "  <thead>\n",
       "    <tr style=\"text-align: right;\">\n",
       "      <th></th>\n",
       "      <th>1</th>\n",
       "      <th>1.52101</th>\n",
       "      <th>13.64</th>\n",
       "      <th>4.49</th>\n",
       "      <th>1.10</th>\n",
       "      <th>71.78</th>\n",
       "      <th>0.06</th>\n",
       "      <th>8.75</th>\n",
       "      <th>0.00</th>\n",
       "      <th>0.00.1</th>\n",
       "      <th>1.1</th>\n",
       "    </tr>\n",
       "  </thead>\n",
       "  <tbody>\n",
       "    <tr>\n",
       "      <th>0</th>\n",
       "      <td>2</td>\n",
       "      <td>1.51761</td>\n",
       "      <td>13.89</td>\n",
       "      <td>3.60</td>\n",
       "      <td>1.36</td>\n",
       "      <td>72.73</td>\n",
       "      <td>0.48</td>\n",
       "      <td>7.83</td>\n",
       "      <td>0.0</td>\n",
       "      <td>0.00</td>\n",
       "      <td>1</td>\n",
       "    </tr>\n",
       "    <tr>\n",
       "      <th>1</th>\n",
       "      <td>3</td>\n",
       "      <td>1.51618</td>\n",
       "      <td>13.53</td>\n",
       "      <td>3.55</td>\n",
       "      <td>1.54</td>\n",
       "      <td>72.99</td>\n",
       "      <td>0.39</td>\n",
       "      <td>7.78</td>\n",
       "      <td>0.0</td>\n",
       "      <td>0.00</td>\n",
       "      <td>1</td>\n",
       "    </tr>\n",
       "    <tr>\n",
       "      <th>2</th>\n",
       "      <td>4</td>\n",
       "      <td>1.51766</td>\n",
       "      <td>13.21</td>\n",
       "      <td>3.69</td>\n",
       "      <td>1.29</td>\n",
       "      <td>72.61</td>\n",
       "      <td>0.57</td>\n",
       "      <td>8.22</td>\n",
       "      <td>0.0</td>\n",
       "      <td>0.00</td>\n",
       "      <td>1</td>\n",
       "    </tr>\n",
       "    <tr>\n",
       "      <th>3</th>\n",
       "      <td>5</td>\n",
       "      <td>1.51742</td>\n",
       "      <td>13.27</td>\n",
       "      <td>3.62</td>\n",
       "      <td>1.24</td>\n",
       "      <td>73.08</td>\n",
       "      <td>0.55</td>\n",
       "      <td>8.07</td>\n",
       "      <td>0.0</td>\n",
       "      <td>0.00</td>\n",
       "      <td>1</td>\n",
       "    </tr>\n",
       "    <tr>\n",
       "      <th>4</th>\n",
       "      <td>6</td>\n",
       "      <td>1.51596</td>\n",
       "      <td>12.79</td>\n",
       "      <td>3.61</td>\n",
       "      <td>1.62</td>\n",
       "      <td>72.97</td>\n",
       "      <td>0.64</td>\n",
       "      <td>8.07</td>\n",
       "      <td>0.0</td>\n",
       "      <td>0.26</td>\n",
       "      <td>1</td>\n",
       "    </tr>\n",
       "  </tbody>\n",
       "</table>\n",
       "</div>"
      ],
      "text/plain": [
       "   1  1.52101  13.64  4.49  1.10  71.78  0.06  8.75  0.00  0.00.1  1.1\n",
       "0  2  1.51761  13.89  3.60  1.36  72.73  0.48  7.83   0.0    0.00    1\n",
       "1  3  1.51618  13.53  3.55  1.54  72.99  0.39  7.78   0.0    0.00    1\n",
       "2  4  1.51766  13.21  3.69  1.29  72.61  0.57  8.22   0.0    0.00    1\n",
       "3  5  1.51742  13.27  3.62  1.24  73.08  0.55  8.07   0.0    0.00    1\n",
       "4  6  1.51596  12.79  3.61  1.62  72.97  0.64  8.07   0.0    0.26    1"
      ]
     },
     "execution_count": 3,
     "metadata": {},
     "output_type": "execute_result"
    }
   ],
   "source": [
    "df.head()"
   ]
  },
  {
   "cell_type": "markdown",
   "id": "2017b597",
   "metadata": {},
   "source": [
    "### Let's give the Heading in our data set."
   ]
  },
  {
   "cell_type": "code",
   "execution_count": 4,
   "id": "276b2fc7",
   "metadata": {},
   "outputs": [
    {
     "data": {
      "text/html": [
       "<div>\n",
       "<style scoped>\n",
       "    .dataframe tbody tr th:only-of-type {\n",
       "        vertical-align: middle;\n",
       "    }\n",
       "\n",
       "    .dataframe tbody tr th {\n",
       "        vertical-align: top;\n",
       "    }\n",
       "\n",
       "    .dataframe thead th {\n",
       "        text-align: right;\n",
       "    }\n",
       "</style>\n",
       "<table border=\"1\" class=\"dataframe\">\n",
       "  <thead>\n",
       "    <tr style=\"text-align: right;\">\n",
       "      <th></th>\n",
       "      <th>0</th>\n",
       "      <th>1</th>\n",
       "      <th>2</th>\n",
       "      <th>3</th>\n",
       "      <th>4</th>\n",
       "      <th>5</th>\n",
       "      <th>6</th>\n",
       "      <th>7</th>\n",
       "      <th>8</th>\n",
       "      <th>9</th>\n",
       "      <th>10</th>\n",
       "    </tr>\n",
       "  </thead>\n",
       "  <tbody>\n",
       "    <tr>\n",
       "      <th>0</th>\n",
       "      <td>1</td>\n",
       "      <td>1.52101</td>\n",
       "      <td>13.64</td>\n",
       "      <td>4.49</td>\n",
       "      <td>1.10</td>\n",
       "      <td>71.78</td>\n",
       "      <td>0.06</td>\n",
       "      <td>8.75</td>\n",
       "      <td>0.00</td>\n",
       "      <td>0.0</td>\n",
       "      <td>1</td>\n",
       "    </tr>\n",
       "    <tr>\n",
       "      <th>1</th>\n",
       "      <td>2</td>\n",
       "      <td>1.51761</td>\n",
       "      <td>13.89</td>\n",
       "      <td>3.60</td>\n",
       "      <td>1.36</td>\n",
       "      <td>72.73</td>\n",
       "      <td>0.48</td>\n",
       "      <td>7.83</td>\n",
       "      <td>0.00</td>\n",
       "      <td>0.0</td>\n",
       "      <td>1</td>\n",
       "    </tr>\n",
       "    <tr>\n",
       "      <th>2</th>\n",
       "      <td>3</td>\n",
       "      <td>1.51618</td>\n",
       "      <td>13.53</td>\n",
       "      <td>3.55</td>\n",
       "      <td>1.54</td>\n",
       "      <td>72.99</td>\n",
       "      <td>0.39</td>\n",
       "      <td>7.78</td>\n",
       "      <td>0.00</td>\n",
       "      <td>0.0</td>\n",
       "      <td>1</td>\n",
       "    </tr>\n",
       "    <tr>\n",
       "      <th>3</th>\n",
       "      <td>4</td>\n",
       "      <td>1.51766</td>\n",
       "      <td>13.21</td>\n",
       "      <td>3.69</td>\n",
       "      <td>1.29</td>\n",
       "      <td>72.61</td>\n",
       "      <td>0.57</td>\n",
       "      <td>8.22</td>\n",
       "      <td>0.00</td>\n",
       "      <td>0.0</td>\n",
       "      <td>1</td>\n",
       "    </tr>\n",
       "    <tr>\n",
       "      <th>4</th>\n",
       "      <td>5</td>\n",
       "      <td>1.51742</td>\n",
       "      <td>13.27</td>\n",
       "      <td>3.62</td>\n",
       "      <td>1.24</td>\n",
       "      <td>73.08</td>\n",
       "      <td>0.55</td>\n",
       "      <td>8.07</td>\n",
       "      <td>0.00</td>\n",
       "      <td>0.0</td>\n",
       "      <td>1</td>\n",
       "    </tr>\n",
       "    <tr>\n",
       "      <th>...</th>\n",
       "      <td>...</td>\n",
       "      <td>...</td>\n",
       "      <td>...</td>\n",
       "      <td>...</td>\n",
       "      <td>...</td>\n",
       "      <td>...</td>\n",
       "      <td>...</td>\n",
       "      <td>...</td>\n",
       "      <td>...</td>\n",
       "      <td>...</td>\n",
       "      <td>...</td>\n",
       "    </tr>\n",
       "    <tr>\n",
       "      <th>209</th>\n",
       "      <td>210</td>\n",
       "      <td>1.51623</td>\n",
       "      <td>14.14</td>\n",
       "      <td>0.00</td>\n",
       "      <td>2.88</td>\n",
       "      <td>72.61</td>\n",
       "      <td>0.08</td>\n",
       "      <td>9.18</td>\n",
       "      <td>1.06</td>\n",
       "      <td>0.0</td>\n",
       "      <td>7</td>\n",
       "    </tr>\n",
       "    <tr>\n",
       "      <th>210</th>\n",
       "      <td>211</td>\n",
       "      <td>1.51685</td>\n",
       "      <td>14.92</td>\n",
       "      <td>0.00</td>\n",
       "      <td>1.99</td>\n",
       "      <td>73.06</td>\n",
       "      <td>0.00</td>\n",
       "      <td>8.40</td>\n",
       "      <td>1.59</td>\n",
       "      <td>0.0</td>\n",
       "      <td>7</td>\n",
       "    </tr>\n",
       "    <tr>\n",
       "      <th>211</th>\n",
       "      <td>212</td>\n",
       "      <td>1.52065</td>\n",
       "      <td>14.36</td>\n",
       "      <td>0.00</td>\n",
       "      <td>2.02</td>\n",
       "      <td>73.42</td>\n",
       "      <td>0.00</td>\n",
       "      <td>8.44</td>\n",
       "      <td>1.64</td>\n",
       "      <td>0.0</td>\n",
       "      <td>7</td>\n",
       "    </tr>\n",
       "    <tr>\n",
       "      <th>212</th>\n",
       "      <td>213</td>\n",
       "      <td>1.51651</td>\n",
       "      <td>14.38</td>\n",
       "      <td>0.00</td>\n",
       "      <td>1.94</td>\n",
       "      <td>73.61</td>\n",
       "      <td>0.00</td>\n",
       "      <td>8.48</td>\n",
       "      <td>1.57</td>\n",
       "      <td>0.0</td>\n",
       "      <td>7</td>\n",
       "    </tr>\n",
       "    <tr>\n",
       "      <th>213</th>\n",
       "      <td>214</td>\n",
       "      <td>1.51711</td>\n",
       "      <td>14.23</td>\n",
       "      <td>0.00</td>\n",
       "      <td>2.08</td>\n",
       "      <td>73.36</td>\n",
       "      <td>0.00</td>\n",
       "      <td>8.62</td>\n",
       "      <td>1.67</td>\n",
       "      <td>0.0</td>\n",
       "      <td>7</td>\n",
       "    </tr>\n",
       "  </tbody>\n",
       "</table>\n",
       "<p>214 rows × 11 columns</p>\n",
       "</div>"
      ],
      "text/plain": [
       "      0        1      2     3     4      5     6     7     8    9   10\n",
       "0      1  1.52101  13.64  4.49  1.10  71.78  0.06  8.75  0.00  0.0   1\n",
       "1      2  1.51761  13.89  3.60  1.36  72.73  0.48  7.83  0.00  0.0   1\n",
       "2      3  1.51618  13.53  3.55  1.54  72.99  0.39  7.78  0.00  0.0   1\n",
       "3      4  1.51766  13.21  3.69  1.29  72.61  0.57  8.22  0.00  0.0   1\n",
       "4      5  1.51742  13.27  3.62  1.24  73.08  0.55  8.07  0.00  0.0   1\n",
       "..   ...      ...    ...   ...   ...    ...   ...   ...   ...  ...  ..\n",
       "209  210  1.51623  14.14  0.00  2.88  72.61  0.08  9.18  1.06  0.0   7\n",
       "210  211  1.51685  14.92  0.00  1.99  73.06  0.00  8.40  1.59  0.0   7\n",
       "211  212  1.52065  14.36  0.00  2.02  73.42  0.00  8.44  1.64  0.0   7\n",
       "212  213  1.51651  14.38  0.00  1.94  73.61  0.00  8.48  1.57  0.0   7\n",
       "213  214  1.51711  14.23  0.00  2.08  73.36  0.00  8.62  1.67  0.0   7\n",
       "\n",
       "[214 rows x 11 columns]"
      ]
     },
     "execution_count": 4,
     "metadata": {},
     "output_type": "execute_result"
    }
   ],
   "source": [
    "df = pd.read_csv('https://raw.githubusercontent.com/dsrscientist/dataset3/main/glass.csv',header = None)\n",
    "df"
   ]
  },
  {
   "cell_type": "code",
   "execution_count": 5,
   "id": "e4336ac5",
   "metadata": {},
   "outputs": [
    {
     "data": {
      "text/html": [
       "<div>\n",
       "<style scoped>\n",
       "    .dataframe tbody tr th:only-of-type {\n",
       "        vertical-align: middle;\n",
       "    }\n",
       "\n",
       "    .dataframe tbody tr th {\n",
       "        vertical-align: top;\n",
       "    }\n",
       "\n",
       "    .dataframe thead th {\n",
       "        text-align: right;\n",
       "    }\n",
       "</style>\n",
       "<table border=\"1\" class=\"dataframe\">\n",
       "  <thead>\n",
       "    <tr style=\"text-align: right;\">\n",
       "      <th></th>\n",
       "      <th>Id number</th>\n",
       "      <th>RI</th>\n",
       "      <th>Na</th>\n",
       "      <th>Mg</th>\n",
       "      <th>Al</th>\n",
       "      <th>Si</th>\n",
       "      <th>K</th>\n",
       "      <th>Ca</th>\n",
       "      <th>Ba</th>\n",
       "      <th>Fe</th>\n",
       "      <th>Type</th>\n",
       "    </tr>\n",
       "  </thead>\n",
       "  <tbody>\n",
       "    <tr>\n",
       "      <th>0</th>\n",
       "      <td>1</td>\n",
       "      <td>1.52101</td>\n",
       "      <td>13.64</td>\n",
       "      <td>4.49</td>\n",
       "      <td>1.10</td>\n",
       "      <td>71.78</td>\n",
       "      <td>0.06</td>\n",
       "      <td>8.75</td>\n",
       "      <td>0.00</td>\n",
       "      <td>0.0</td>\n",
       "      <td>1</td>\n",
       "    </tr>\n",
       "    <tr>\n",
       "      <th>1</th>\n",
       "      <td>2</td>\n",
       "      <td>1.51761</td>\n",
       "      <td>13.89</td>\n",
       "      <td>3.60</td>\n",
       "      <td>1.36</td>\n",
       "      <td>72.73</td>\n",
       "      <td>0.48</td>\n",
       "      <td>7.83</td>\n",
       "      <td>0.00</td>\n",
       "      <td>0.0</td>\n",
       "      <td>1</td>\n",
       "    </tr>\n",
       "    <tr>\n",
       "      <th>2</th>\n",
       "      <td>3</td>\n",
       "      <td>1.51618</td>\n",
       "      <td>13.53</td>\n",
       "      <td>3.55</td>\n",
       "      <td>1.54</td>\n",
       "      <td>72.99</td>\n",
       "      <td>0.39</td>\n",
       "      <td>7.78</td>\n",
       "      <td>0.00</td>\n",
       "      <td>0.0</td>\n",
       "      <td>1</td>\n",
       "    </tr>\n",
       "    <tr>\n",
       "      <th>3</th>\n",
       "      <td>4</td>\n",
       "      <td>1.51766</td>\n",
       "      <td>13.21</td>\n",
       "      <td>3.69</td>\n",
       "      <td>1.29</td>\n",
       "      <td>72.61</td>\n",
       "      <td>0.57</td>\n",
       "      <td>8.22</td>\n",
       "      <td>0.00</td>\n",
       "      <td>0.0</td>\n",
       "      <td>1</td>\n",
       "    </tr>\n",
       "    <tr>\n",
       "      <th>4</th>\n",
       "      <td>5</td>\n",
       "      <td>1.51742</td>\n",
       "      <td>13.27</td>\n",
       "      <td>3.62</td>\n",
       "      <td>1.24</td>\n",
       "      <td>73.08</td>\n",
       "      <td>0.55</td>\n",
       "      <td>8.07</td>\n",
       "      <td>0.00</td>\n",
       "      <td>0.0</td>\n",
       "      <td>1</td>\n",
       "    </tr>\n",
       "    <tr>\n",
       "      <th>...</th>\n",
       "      <td>...</td>\n",
       "      <td>...</td>\n",
       "      <td>...</td>\n",
       "      <td>...</td>\n",
       "      <td>...</td>\n",
       "      <td>...</td>\n",
       "      <td>...</td>\n",
       "      <td>...</td>\n",
       "      <td>...</td>\n",
       "      <td>...</td>\n",
       "      <td>...</td>\n",
       "    </tr>\n",
       "    <tr>\n",
       "      <th>209</th>\n",
       "      <td>210</td>\n",
       "      <td>1.51623</td>\n",
       "      <td>14.14</td>\n",
       "      <td>0.00</td>\n",
       "      <td>2.88</td>\n",
       "      <td>72.61</td>\n",
       "      <td>0.08</td>\n",
       "      <td>9.18</td>\n",
       "      <td>1.06</td>\n",
       "      <td>0.0</td>\n",
       "      <td>7</td>\n",
       "    </tr>\n",
       "    <tr>\n",
       "      <th>210</th>\n",
       "      <td>211</td>\n",
       "      <td>1.51685</td>\n",
       "      <td>14.92</td>\n",
       "      <td>0.00</td>\n",
       "      <td>1.99</td>\n",
       "      <td>73.06</td>\n",
       "      <td>0.00</td>\n",
       "      <td>8.40</td>\n",
       "      <td>1.59</td>\n",
       "      <td>0.0</td>\n",
       "      <td>7</td>\n",
       "    </tr>\n",
       "    <tr>\n",
       "      <th>211</th>\n",
       "      <td>212</td>\n",
       "      <td>1.52065</td>\n",
       "      <td>14.36</td>\n",
       "      <td>0.00</td>\n",
       "      <td>2.02</td>\n",
       "      <td>73.42</td>\n",
       "      <td>0.00</td>\n",
       "      <td>8.44</td>\n",
       "      <td>1.64</td>\n",
       "      <td>0.0</td>\n",
       "      <td>7</td>\n",
       "    </tr>\n",
       "    <tr>\n",
       "      <th>212</th>\n",
       "      <td>213</td>\n",
       "      <td>1.51651</td>\n",
       "      <td>14.38</td>\n",
       "      <td>0.00</td>\n",
       "      <td>1.94</td>\n",
       "      <td>73.61</td>\n",
       "      <td>0.00</td>\n",
       "      <td>8.48</td>\n",
       "      <td>1.57</td>\n",
       "      <td>0.0</td>\n",
       "      <td>7</td>\n",
       "    </tr>\n",
       "    <tr>\n",
       "      <th>213</th>\n",
       "      <td>214</td>\n",
       "      <td>1.51711</td>\n",
       "      <td>14.23</td>\n",
       "      <td>0.00</td>\n",
       "      <td>2.08</td>\n",
       "      <td>73.36</td>\n",
       "      <td>0.00</td>\n",
       "      <td>8.62</td>\n",
       "      <td>1.67</td>\n",
       "      <td>0.0</td>\n",
       "      <td>7</td>\n",
       "    </tr>\n",
       "  </tbody>\n",
       "</table>\n",
       "<p>214 rows × 11 columns</p>\n",
       "</div>"
      ],
      "text/plain": [
       "     Id number       RI     Na    Mg    Al     Si     K    Ca    Ba   Fe  Type\n",
       "0            1  1.52101  13.64  4.49  1.10  71.78  0.06  8.75  0.00  0.0     1\n",
       "1            2  1.51761  13.89  3.60  1.36  72.73  0.48  7.83  0.00  0.0     1\n",
       "2            3  1.51618  13.53  3.55  1.54  72.99  0.39  7.78  0.00  0.0     1\n",
       "3            4  1.51766  13.21  3.69  1.29  72.61  0.57  8.22  0.00  0.0     1\n",
       "4            5  1.51742  13.27  3.62  1.24  73.08  0.55  8.07  0.00  0.0     1\n",
       "..         ...      ...    ...   ...   ...    ...   ...   ...   ...  ...   ...\n",
       "209        210  1.51623  14.14  0.00  2.88  72.61  0.08  9.18  1.06  0.0     7\n",
       "210        211  1.51685  14.92  0.00  1.99  73.06  0.00  8.40  1.59  0.0     7\n",
       "211        212  1.52065  14.36  0.00  2.02  73.42  0.00  8.44  1.64  0.0     7\n",
       "212        213  1.51651  14.38  0.00  1.94  73.61  0.00  8.48  1.57  0.0     7\n",
       "213        214  1.51711  14.23  0.00  2.08  73.36  0.00  8.62  1.67  0.0     7\n",
       "\n",
       "[214 rows x 11 columns]"
      ]
     },
     "execution_count": 5,
     "metadata": {},
     "output_type": "execute_result"
    }
   ],
   "source": [
    "df.columns=['Id number','RI','Na','Mg','Al','Si','K','Ca','Ba','Fe','Type']\n",
    "df"
   ]
  },
  {
   "cell_type": "raw",
   "id": "596206af",
   "metadata": {},
   "source": [
    "Id number: 1 to 214\n",
    "RI: refractive index\n",
    "Na: Sodium (unit measurement: weight percent in corresponding oxide, as are attributes 4-10)\n",
    "Mg: Magnesium\n",
    "Al: Aluminum\n",
    "Si: Silicon\n",
    "K: Potassium\n",
    "Ca: Calcium\n",
    "Ba: Barium\n",
    "Fe: Iron\n",
    "Type of glass: (class attribute)\n"
   ]
  },
  {
   "cell_type": "code",
   "execution_count": 6,
   "id": "c0cf82bc",
   "metadata": {},
   "outputs": [
    {
     "data": {
      "text/plain": [
       "Index(['Id number', 'RI', 'Na', 'Mg', 'Al', 'Si', 'K', 'Ca', 'Ba', 'Fe',\n",
       "       'Type'],\n",
       "      dtype='object')"
      ]
     },
     "execution_count": 6,
     "metadata": {},
     "output_type": "execute_result"
    }
   ],
   "source": [
    "df.columns"
   ]
  },
  {
   "cell_type": "code",
   "execution_count": 7,
   "id": "8236481b",
   "metadata": {},
   "outputs": [
    {
     "data": {
      "text/plain": [
       "(214, 11)"
      ]
     },
     "execution_count": 7,
     "metadata": {},
     "output_type": "execute_result"
    }
   ],
   "source": [
    "df.shape"
   ]
  },
  {
   "cell_type": "markdown",
   "id": "d0437a0a",
   "metadata": {},
   "source": [
    "In our data set there is 214 rows and 11 columns."
   ]
  },
  {
   "cell_type": "code",
   "execution_count": 8,
   "id": "0e44c5cb",
   "metadata": {},
   "outputs": [
    {
     "data": {
      "text/plain": [
       "Id number      int64\n",
       "RI           float64\n",
       "Na           float64\n",
       "Mg           float64\n",
       "Al           float64\n",
       "Si           float64\n",
       "K            float64\n",
       "Ca           float64\n",
       "Ba           float64\n",
       "Fe           float64\n",
       "Type           int64\n",
       "dtype: object"
      ]
     },
     "execution_count": 8,
     "metadata": {},
     "output_type": "execute_result"
    }
   ],
   "source": [
    "df.dtypes"
   ]
  },
  {
   "cell_type": "code",
   "execution_count": 9,
   "id": "deeb7fa0",
   "metadata": {},
   "outputs": [
    {
     "data": {
      "text/plain": [
       "2    76\n",
       "1    70\n",
       "7    29\n",
       "3    17\n",
       "5    13\n",
       "6     9\n",
       "Name: Type, dtype: int64"
      ]
     },
     "execution_count": 9,
     "metadata": {},
     "output_type": "execute_result"
    }
   ],
   "source": [
    "df['Type'].value_counts()"
   ]
  },
  {
   "cell_type": "markdown",
   "id": "e5942f2f",
   "metadata": {},
   "source": [
    "The data set is pretty unbalanced.The instances of type 1 and 2 constitute more than 67% of the glass type."
   ]
  },
  {
   "cell_type": "code",
   "execution_count": 10,
   "id": "45e01572",
   "metadata": {},
   "outputs": [
    {
     "data": {
      "text/plain": [
       "Id number    0\n",
       "RI           0\n",
       "Na           0\n",
       "Mg           0\n",
       "Al           0\n",
       "Si           0\n",
       "K            0\n",
       "Ca           0\n",
       "Ba           0\n",
       "Fe           0\n",
       "Type         0\n",
       "dtype: int64"
      ]
     },
     "execution_count": 10,
     "metadata": {},
     "output_type": "execute_result"
    }
   ],
   "source": [
    "# checkking the missing values\n",
    "df.isnull().sum()"
   ]
  },
  {
   "cell_type": "markdown",
   "id": "bead0eb2",
   "metadata": {},
   "source": [
    "there is no null value in our df"
   ]
  },
  {
   "cell_type": "code",
   "execution_count": 11,
   "id": "bd380199",
   "metadata": {},
   "outputs": [
    {
     "data": {
      "text/plain": [
       "0      False\n",
       "1      False\n",
       "2      False\n",
       "3      False\n",
       "4      False\n",
       "       ...  \n",
       "209    False\n",
       "210    False\n",
       "211    False\n",
       "212    False\n",
       "213    False\n",
       "Length: 214, dtype: bool"
      ]
     },
     "execution_count": 11,
     "metadata": {},
     "output_type": "execute_result"
    }
   ],
   "source": [
    "# checking duplicate value\n",
    "df.duplicated()"
   ]
  },
  {
   "cell_type": "markdown",
   "id": "a4b2f436",
   "metadata": {},
   "source": [
    "no duplicate values in our dataset."
   ]
  },
  {
   "cell_type": "code",
   "execution_count": 12,
   "id": "a995d8df",
   "metadata": {},
   "outputs": [
    {
     "data": {
      "text/html": [
       "<div>\n",
       "<style scoped>\n",
       "    .dataframe tbody tr th:only-of-type {\n",
       "        vertical-align: middle;\n",
       "    }\n",
       "\n",
       "    .dataframe tbody tr th {\n",
       "        vertical-align: top;\n",
       "    }\n",
       "\n",
       "    .dataframe thead th {\n",
       "        text-align: right;\n",
       "    }\n",
       "</style>\n",
       "<table border=\"1\" class=\"dataframe\">\n",
       "  <thead>\n",
       "    <tr style=\"text-align: right;\">\n",
       "      <th></th>\n",
       "      <th>Id number</th>\n",
       "      <th>RI</th>\n",
       "      <th>Na</th>\n",
       "      <th>Mg</th>\n",
       "      <th>Al</th>\n",
       "      <th>Si</th>\n",
       "      <th>K</th>\n",
       "      <th>Ca</th>\n",
       "      <th>Ba</th>\n",
       "      <th>Fe</th>\n",
       "      <th>Type</th>\n",
       "    </tr>\n",
       "  </thead>\n",
       "  <tbody>\n",
       "    <tr>\n",
       "      <th>count</th>\n",
       "      <td>214.000000</td>\n",
       "      <td>214.000000</td>\n",
       "      <td>214.000000</td>\n",
       "      <td>214.000000</td>\n",
       "      <td>214.000000</td>\n",
       "      <td>214.000000</td>\n",
       "      <td>214.000000</td>\n",
       "      <td>214.000000</td>\n",
       "      <td>214.000000</td>\n",
       "      <td>214.000000</td>\n",
       "      <td>214.000000</td>\n",
       "    </tr>\n",
       "    <tr>\n",
       "      <th>mean</th>\n",
       "      <td>107.500000</td>\n",
       "      <td>1.518365</td>\n",
       "      <td>13.407850</td>\n",
       "      <td>2.684533</td>\n",
       "      <td>1.444907</td>\n",
       "      <td>72.650935</td>\n",
       "      <td>0.497056</td>\n",
       "      <td>8.956963</td>\n",
       "      <td>0.175047</td>\n",
       "      <td>0.057009</td>\n",
       "      <td>2.780374</td>\n",
       "    </tr>\n",
       "    <tr>\n",
       "      <th>std</th>\n",
       "      <td>61.920648</td>\n",
       "      <td>0.003037</td>\n",
       "      <td>0.816604</td>\n",
       "      <td>1.442408</td>\n",
       "      <td>0.499270</td>\n",
       "      <td>0.774546</td>\n",
       "      <td>0.652192</td>\n",
       "      <td>1.423153</td>\n",
       "      <td>0.497219</td>\n",
       "      <td>0.097439</td>\n",
       "      <td>2.103739</td>\n",
       "    </tr>\n",
       "    <tr>\n",
       "      <th>min</th>\n",
       "      <td>1.000000</td>\n",
       "      <td>1.511150</td>\n",
       "      <td>10.730000</td>\n",
       "      <td>0.000000</td>\n",
       "      <td>0.290000</td>\n",
       "      <td>69.810000</td>\n",
       "      <td>0.000000</td>\n",
       "      <td>5.430000</td>\n",
       "      <td>0.000000</td>\n",
       "      <td>0.000000</td>\n",
       "      <td>1.000000</td>\n",
       "    </tr>\n",
       "    <tr>\n",
       "      <th>25%</th>\n",
       "      <td>54.250000</td>\n",
       "      <td>1.516522</td>\n",
       "      <td>12.907500</td>\n",
       "      <td>2.115000</td>\n",
       "      <td>1.190000</td>\n",
       "      <td>72.280000</td>\n",
       "      <td>0.122500</td>\n",
       "      <td>8.240000</td>\n",
       "      <td>0.000000</td>\n",
       "      <td>0.000000</td>\n",
       "      <td>1.000000</td>\n",
       "    </tr>\n",
       "    <tr>\n",
       "      <th>50%</th>\n",
       "      <td>107.500000</td>\n",
       "      <td>1.517680</td>\n",
       "      <td>13.300000</td>\n",
       "      <td>3.480000</td>\n",
       "      <td>1.360000</td>\n",
       "      <td>72.790000</td>\n",
       "      <td>0.555000</td>\n",
       "      <td>8.600000</td>\n",
       "      <td>0.000000</td>\n",
       "      <td>0.000000</td>\n",
       "      <td>2.000000</td>\n",
       "    </tr>\n",
       "    <tr>\n",
       "      <th>75%</th>\n",
       "      <td>160.750000</td>\n",
       "      <td>1.519157</td>\n",
       "      <td>13.825000</td>\n",
       "      <td>3.600000</td>\n",
       "      <td>1.630000</td>\n",
       "      <td>73.087500</td>\n",
       "      <td>0.610000</td>\n",
       "      <td>9.172500</td>\n",
       "      <td>0.000000</td>\n",
       "      <td>0.100000</td>\n",
       "      <td>3.000000</td>\n",
       "    </tr>\n",
       "    <tr>\n",
       "      <th>max</th>\n",
       "      <td>214.000000</td>\n",
       "      <td>1.533930</td>\n",
       "      <td>17.380000</td>\n",
       "      <td>4.490000</td>\n",
       "      <td>3.500000</td>\n",
       "      <td>75.410000</td>\n",
       "      <td>6.210000</td>\n",
       "      <td>16.190000</td>\n",
       "      <td>3.150000</td>\n",
       "      <td>0.510000</td>\n",
       "      <td>7.000000</td>\n",
       "    </tr>\n",
       "  </tbody>\n",
       "</table>\n",
       "</div>"
      ],
      "text/plain": [
       "        Id number          RI          Na          Mg          Al          Si  \\\n",
       "count  214.000000  214.000000  214.000000  214.000000  214.000000  214.000000   \n",
       "mean   107.500000    1.518365   13.407850    2.684533    1.444907   72.650935   \n",
       "std     61.920648    0.003037    0.816604    1.442408    0.499270    0.774546   \n",
       "min      1.000000    1.511150   10.730000    0.000000    0.290000   69.810000   \n",
       "25%     54.250000    1.516522   12.907500    2.115000    1.190000   72.280000   \n",
       "50%    107.500000    1.517680   13.300000    3.480000    1.360000   72.790000   \n",
       "75%    160.750000    1.519157   13.825000    3.600000    1.630000   73.087500   \n",
       "max    214.000000    1.533930   17.380000    4.490000    3.500000   75.410000   \n",
       "\n",
       "                K          Ca          Ba          Fe        Type  \n",
       "count  214.000000  214.000000  214.000000  214.000000  214.000000  \n",
       "mean     0.497056    8.956963    0.175047    0.057009    2.780374  \n",
       "std      0.652192    1.423153    0.497219    0.097439    2.103739  \n",
       "min      0.000000    5.430000    0.000000    0.000000    1.000000  \n",
       "25%      0.122500    8.240000    0.000000    0.000000    1.000000  \n",
       "50%      0.555000    8.600000    0.000000    0.000000    2.000000  \n",
       "75%      0.610000    9.172500    0.000000    0.100000    3.000000  \n",
       "max      6.210000   16.190000    3.150000    0.510000    7.000000  "
      ]
     },
     "execution_count": 12,
     "metadata": {},
     "output_type": "execute_result"
    }
   ],
   "source": [
    "df.describe()"
   ]
  },
  {
   "cell_type": "code",
   "execution_count": 13,
   "id": "408647f0",
   "metadata": {},
   "outputs": [
    {
     "name": "stdout",
     "output_type": "stream",
     "text": [
      "<class 'pandas.core.frame.DataFrame'>\n",
      "RangeIndex: 214 entries, 0 to 213\n",
      "Data columns (total 11 columns):\n",
      " #   Column     Non-Null Count  Dtype  \n",
      "---  ------     --------------  -----  \n",
      " 0   Id number  214 non-null    int64  \n",
      " 1   RI         214 non-null    float64\n",
      " 2   Na         214 non-null    float64\n",
      " 3   Mg         214 non-null    float64\n",
      " 4   Al         214 non-null    float64\n",
      " 5   Si         214 non-null    float64\n",
      " 6   K          214 non-null    float64\n",
      " 7   Ca         214 non-null    float64\n",
      " 8   Ba         214 non-null    float64\n",
      " 9   Fe         214 non-null    float64\n",
      " 10  Type       214 non-null    int64  \n",
      "dtypes: float64(9), int64(2)\n",
      "memory usage: 18.5 KB\n"
     ]
    }
   ],
   "source": [
    "df.info()"
   ]
  },
  {
   "cell_type": "markdown",
   "id": "ea0adc5b",
   "metadata": {},
   "source": [
    "# EDA:"
   ]
  },
  {
   "cell_type": "code",
   "execution_count": 14,
   "id": "cfe2100f",
   "metadata": {},
   "outputs": [
    {
     "data": {
      "text/plain": [
       "Text(0.5, 1.0, 'Distributin of Classes')"
      ]
     },
     "execution_count": 14,
     "metadata": {},
     "output_type": "execute_result"
    },
    {
     "data": {
      "image/png": "[encoded data removed]",
      "text/plain": [
       "<Figure size 720x360 with 1 Axes>"
      ]
     },
     "metadata": {
      "needs_background": "light"
     },
     "output_type": "display_data"
    }
   ],
   "source": [
    "plt.figure(figsize=(10,5))\n",
    "sns.countplot(df['Type'])\n",
    "plt.title('Distributin of Classes')"
   ]
  },
  {
   "cell_type": "markdown",
   "id": "f89c56c3",
   "metadata": {},
   "source": [
    "This tis the distribution of types in diffrebt classes."
   ]
  },
  {
   "cell_type": "code",
   "execution_count": 15,
   "id": "043d6bf5",
   "metadata": {},
   "outputs": [
    {
     "data": {
      "text/plain": [
       "Id number    3834.166667\n",
       "RI              0.000009\n",
       "Na              0.666841\n",
       "Mg              2.080540\n",
       "Al              0.249270\n",
       "Si              0.599921\n",
       "K               0.425354\n",
       "Ca              2.025366\n",
       "Ba              0.247227\n",
       "Fe              0.009494\n",
       "Type            4.425716\n",
       "dtype: float64"
      ]
     },
     "execution_count": 15,
     "metadata": {},
     "output_type": "execute_result"
    }
   ],
   "source": [
    "df.var()"
   ]
  },
  {
   "cell_type": "markdown",
   "id": "b1cc4618",
   "metadata": {},
   "source": [
    "# visualization:"
   ]
  },
  {
   "cell_type": "code",
   "execution_count": 16,
   "id": "421a48c4",
   "metadata": {},
   "outputs": [
    {
     "name": "stdout",
     "output_type": "stream",
     "text": [
      "1.6254305060087644\n",
      "4.931737386095595\n"
     ]
    },
    {
     "data": {
      "image/png": "[encoded data removed]",
      "text/plain": [
       "<Figure size 432x288 with 1 Axes>"
      ]
     },
     "metadata": {
      "needs_background": "light"
     },
     "output_type": "display_data"
    }
   ],
   "source": [
    "# checking the skewness\n",
    "sns.distplot(df['RI'])\n",
    "\n",
    "print(df['RI'].skew())\n",
    "\n",
    "print(df['RI'].kurt())"
   ]
  },
  {
   "cell_type": "markdown",
   "id": "ecfaaa50",
   "metadata": {},
   "source": [
    "Here we can see in RI (refractive index) the skew is Present."
   ]
  },
  {
   "cell_type": "code",
   "execution_count": 17,
   "id": "99afb9be",
   "metadata": {},
   "outputs": [
    {
     "name": "stdout",
     "output_type": "stream",
     "text": [
      "-1.1525593175802356\n",
      "-0.4103189628915671\n"
     ]
    },
    {
     "data": {
      "image/png": "[encoded data removed]",
      "text/plain": [
       "<Figure size 432x288 with 1 Axes>"
      ]
     },
     "metadata": {
      "needs_background": "light"
     },
     "output_type": "display_data"
    }
   ],
   "source": [
    "sns.distplot(df['Mg'])\n",
    "\n",
    "print(df['Mg'].skew())\n",
    "\n",
    "print(df['Mg'].kurt())"
   ]
  },
  {
   "cell_type": "markdown",
   "id": "4277b872",
   "metadata": {},
   "source": [
    "In Mg(Magnesium) It looks like a normal distrribution and skew is noot present."
   ]
  },
  {
   "cell_type": "code",
   "execution_count": 18,
   "id": "285b1abf",
   "metadata": {},
   "outputs": [
    {
     "name": "stdout",
     "output_type": "stream",
     "text": [
      "0.4541814536577495\n",
      "3.0522324094919218\n"
     ]
    },
    {
     "data": {
      "image/png": "[encoded data removed]",
      "text/plain": [
       "<Figure size 432x288 with 1 Axes>"
      ]
     },
     "metadata": {
      "needs_background": "light"
     },
     "output_type": "display_data"
    }
   ],
   "source": [
    "sns.distplot(df['Na'])\n",
    "\n",
    "print(df['Na'].skew())\n",
    "\n",
    "print(df['Na'].kurt())"
   ]
  },
  {
   "cell_type": "markdown",
   "id": "bf6b1f5c",
   "metadata": {},
   "source": [
    "There is no skewneess is present in Na(Sodium)so we can say that it is Normaly distributed."
   ]
  },
  {
   "cell_type": "code",
   "execution_count": 19,
   "id": "def99136",
   "metadata": {},
   "outputs": [
    {
     "name": "stdout",
     "output_type": "stream",
     "text": [
      "1.754327470435831\n",
      "2.662015617441455\n"
     ]
    },
    {
     "data": {
      "image/png": "[encoded data removed]",
      "text/plain": [
       "<Figure size 432x288 with 1 Axes>"
      ]
     },
     "metadata": {
      "needs_background": "light"
     },
     "output_type": "display_data"
    }
   ],
   "source": [
    "sns.kdeplot(df['Fe'])\n",
    "\n",
    "print(df['Fe'].skew())\n",
    "\n",
    "print(df['Fe'].kurt())"
   ]
  },
  {
   "cell_type": "markdown",
   "id": "2a282320",
   "metadata": {},
   "source": [
    "Fe(Iron) have also Right Skewness is presnt."
   ]
  },
  {
   "cell_type": "code",
   "execution_count": 20,
   "id": "95736811",
   "metadata": {},
   "outputs": [
    {
     "name": "stdout",
     "output_type": "stream",
     "text": [
      "3.4164245693025577\n",
      "12.541083582809152\n"
     ]
    },
    {
     "data": {
      "image/png": "[encoded data removed]",
      "text/plain": [
       "<Figure size 360x360 with 1 Axes>"
      ]
     },
     "metadata": {
      "needs_background": "light"
     },
     "output_type": "display_data"
    }
   ],
   "source": [
    "sns.displot(df['Ba'])\n",
    "\n",
    "print(df['Ba'].skew())\n",
    "\n",
    "print(df['Ba'].kurt())"
   ]
  },
  {
   "cell_type": "markdown",
   "id": "f41a0844",
   "metadata": {},
   "source": [
    "There is highly skewness is Present in Ba(Barium)"
   ]
  },
  {
   "cell_type": "code",
   "execution_count": 21,
   "id": "87e4b899",
   "metadata": {},
   "outputs": [
    {
     "name": "stdout",
     "output_type": "stream",
     "text": [
      "2.0470539131183103\n",
      "6.681977951411165\n"
     ]
    },
    {
     "data": {
      "image/png": "[encoded data removed]",
      "text/plain": [
       "<Figure size 432x288 with 1 Axes>"
      ]
     },
     "metadata": {
      "needs_background": "light"
     },
     "output_type": "display_data"
    }
   ],
   "source": [
    "sns.kdeplot(df['Ca'])\n",
    "\n",
    "print(df['Ca'].skew())\n",
    "\n",
    "print(df['Ca'].kurt())"
   ]
  },
  {
   "cell_type": "markdown",
   "id": "9642d787",
   "metadata": {},
   "source": [
    "there is also highly Skewness is present in Ca(Calsium)"
   ]
  },
  {
   "cell_type": "code",
   "execution_count": 22,
   "id": "654acc7a",
   "metadata": {},
   "outputs": [
    {
     "name": "stdout",
     "output_type": "stream",
     "text": [
      "0.9072898090246346\n",
      "2.0605689689461246\n"
     ]
    },
    {
     "data": {
      "image/png": "[encoded data removed]",
      "text/plain": [
       "<Figure size 432x288 with 1 Axes>"
      ]
     },
     "metadata": {
      "needs_background": "light"
     },
     "output_type": "display_data"
    }
   ],
   "source": [
    "sns.distplot(df['Al'])\n",
    "\n",
    "print(df['Al'].skew())\n",
    "\n",
    "print(df['Al'].kurt())"
   ]
  },
  {
   "cell_type": "markdown",
   "id": "b7519f13",
   "metadata": {},
   "source": [
    "Al (Aluminium)is looks like Normal distribution."
   ]
  },
  {
   "cell_type": "code",
   "execution_count": 23,
   "id": "89cb4850",
   "metadata": {},
   "outputs": [
    {
     "name": "stdout",
     "output_type": "stream",
     "text": [
      "6.55164830960496\n",
      "54.689698529942525\n"
     ]
    },
    {
     "data": {
      "image/png": "[encoded data removed]",
      "text/plain": [
       "<Figure size 432x288 with 1 Axes>"
      ]
     },
     "metadata": {
      "needs_background": "light"
     },
     "output_type": "display_data"
    }
   ],
   "source": [
    "sns.kdeplot(df['K'])\n",
    "\n",
    "print(df['K'].skew())\n",
    "\n",
    "print(df['K'].kurt())"
   ]
  },
  {
   "cell_type": "markdown",
   "id": "3b5c06d8",
   "metadata": {},
   "source": [
    "In K(Potasium) there is high skewness is present."
   ]
  },
  {
   "cell_type": "code",
   "execution_count": 24,
   "id": "ce5690f7",
   "metadata": {},
   "outputs": [
    {
     "name": "stdout",
     "output_type": "stream",
     "text": [
      "-0.7304472251318588\n",
      "2.967902955966007\n"
     ]
    },
    {
     "data": {
      "image/png": "[encoded data removed]",
      "text/plain": [
       "<Figure size 432x288 with 1 Axes>"
      ]
     },
     "metadata": {
      "needs_background": "light"
     },
     "output_type": "display_data"
    }
   ],
   "source": [
    "sns.kdeplot(df['Si'])\n",
    "\n",
    "print(df['Si'].skew())\n",
    "\n",
    "print(df['Si'].kurt())"
   ]
  },
  {
   "cell_type": "markdown",
   "id": "8d58d9e3",
   "metadata": {},
   "source": [
    "In Si(Silicon) the skewness is not present it looks like almost Normal distribution."
   ]
  },
  {
   "cell_type": "markdown",
   "id": "4a2a0068",
   "metadata": {},
   "source": [
    "### Lets visualized some correlations."
   ]
  },
  {
   "cell_type": "code",
   "execution_count": 25,
   "id": "cf0515a3",
   "metadata": {},
   "outputs": [
    {
     "data": {
      "image/png": "[encoded data removed]",
      "text/plain": [
       "<Figure size 432x288 with 1 Axes>"
      ]
     },
     "metadata": {
      "needs_background": "light"
     },
     "output_type": "display_data"
    }
   ],
   "source": [
    "sns.regplot(x='RI',y='Na',data=df)\n",
    "plt.show()"
   ]
  },
  {
   "cell_type": "markdown",
   "id": "d39d0924",
   "metadata": {},
   "source": [
    "RI and Na have strong relationship."
   ]
  },
  {
   "cell_type": "code",
   "execution_count": 26,
   "id": "5aa5b77d",
   "metadata": {},
   "outputs": [
    {
     "data": {
      "image/png": "[encoded data removed]",
      "text/plain": [
       "<Figure size 432x288 with 1 Axes>"
      ]
     },
     "metadata": {
      "needs_background": "light"
     },
     "output_type": "display_data"
    }
   ],
   "source": [
    "sns.regplot(x='RI',y='Mg',data=df)\n",
    "plt.show()"
   ]
  },
  {
   "cell_type": "markdown",
   "id": "47fb3e94",
   "metadata": {},
   "source": [
    "RI and Mg have also strong relation."
   ]
  },
  {
   "cell_type": "markdown",
   "id": "4e0f99a3",
   "metadata": {},
   "source": [
    "### Detect the outliers:"
   ]
  },
  {
   "cell_type": "code",
   "execution_count": 27,
   "id": "a2c5618e",
   "metadata": {},
   "outputs": [
    {
     "data": {
      "image/png": "[encoded data removed]",
      "text/plain": [
       "<Figure size 432x288 with 1 Axes>"
      ]
     },
     "metadata": {
      "needs_background": "light"
     },
     "output_type": "display_data"
    },
    {
     "data": {
      "image/png": "[encoded data removed]",
      "text/plain": [
       "<Figure size 432x288 with 1 Axes>"
      ]
     },
     "metadata": {
      "needs_background": "light"
     },
     "output_type": "display_data"
    },
    {
     "data": {
      "image/png": "[encoded data removed]",
      "text/plain": [
       "<Figure size 432x288 with 1 Axes>"
      ]
     },
     "metadata": {
      "needs_background": "light"
     },
     "output_type": "display_data"
    },
    {
     "data": {
      "image/png": "[encoded data removed]",
      "text/plain": [
       "<Figure size 432x288 with 1 Axes>"
      ]
     },
     "metadata": {
      "needs_background": "light"
     },
     "output_type": "display_data"
    },
    {
     "data": {
      "image/png": "[encoded data removed]",
      "text/plain": [
       "<Figure size 432x288 with 1 Axes>"
      ]
     },
     "metadata": {
      "needs_background": "light"
     },
     "output_type": "display_data"
    },
    {
     "data": {
      "image/png": "[encoded data removed]",
      "text/plain": [
       "<Figure size 432x288 with 1 Axes>"
      ]
     },
     "metadata": {
      "needs_background": "light"
     },
     "output_type": "display_data"
    },
    {
     "data": {
      "image/png": "[encoded data removed]",
      "text/plain": [
       "<Figure size 432x288 with 1 Axes>"
      ]
     },
     "metadata": {
      "needs_background": "light"
     },
     "output_type": "display_data"
    },
    {
     "data": {
      "image/png": "[encoded data removed]",
      "text/plain": [
       "<Figure size 432x288 with 1 Axes>"
      ]
     },
     "metadata": {
      "needs_background": "light"
     },
     "output_type": "display_data"
    },
    {
     "data": {
      "image/png": "[encoded data removed]",
      "text/plain": [
       "<Figure size 432x288 with 1 Axes>"
      ]
     },
     "metadata": {
      "needs_background": "light"
     },
     "output_type": "display_data"
    }
   ],
   "source": [
    "col = ['RI','Na','Mg','Al','Si','K','Ca','Ba','Fe']\n",
    "\n",
    "for i in range(0,9):\n",
    "    sns.boxplot(y=col[i],x='Type',data=df)\n",
    "    plt.show()"
   ]
  },
  {
   "cell_type": "markdown",
   "id": "43ad1e1b",
   "metadata": {},
   "source": [
    "The dimond shaped dots outside the boxplot indicates the outliers There are some extreme cases in K,Baand Fe."
   ]
  },
  {
   "cell_type": "code",
   "execution_count": 28,
   "id": "41234344",
   "metadata": {},
   "outputs": [
    {
     "data": {
      "text/plain": [
       "<AxesSubplot:>"
      ]
     },
     "execution_count": 28,
     "metadata": {},
     "output_type": "execute_result"
    },
    {
     "data": {
      "image/png": "[encoded data removed]",
      "text/plain": [
       "<Figure size 1440x1080 with 2 Axes>"
      ]
     },
     "metadata": {
      "needs_background": "light"
     },
     "output_type": "display_data"
    }
   ],
   "source": [
    "plt.figure(figsize=(20,15))\n",
    "sns.heatmap(df.corr(),annot=True)"
   ]
  },
  {
   "cell_type": "raw",
   "id": "511dd6ba",
   "metadata": {},
   "source": [
    "There seems to be a strong +ve correlation between RI and Ca.This could be a hint to \n",
    "performe Principle component analysis  in order to decorrelated some of the iput  features."
   ]
  },
  {
   "cell_type": "markdown",
   "id": "ef59030f",
   "metadata": {},
   "source": [
    "### Feature Transformation"
   ]
  },
  {
   "cell_type": "code",
   "execution_count": 29,
   "id": "9fd45959",
   "metadata": {},
   "outputs": [
    {
     "data": {
      "text/html": [
       "<div>\n",
       "<style scoped>\n",
       "    .dataframe tbody tr th:only-of-type {\n",
       "        vertical-align: middle;\n",
       "    }\n",
       "\n",
       "    .dataframe tbody tr th {\n",
       "        vertical-align: top;\n",
       "    }\n",
       "\n",
       "    .dataframe thead th {\n",
       "        text-align: right;\n",
       "    }\n",
       "</style>\n",
       "<table border=\"1\" class=\"dataframe\">\n",
       "  <thead>\n",
       "    <tr style=\"text-align: right;\">\n",
       "      <th></th>\n",
       "      <th>skew</th>\n",
       "      <th>kurtosis</th>\n",
       "    </tr>\n",
       "  </thead>\n",
       "  <tbody>\n",
       "    <tr>\n",
       "      <th>Id number</th>\n",
       "      <td>0.000000</td>\n",
       "      <td>-1.200000</td>\n",
       "    </tr>\n",
       "    <tr>\n",
       "      <th>RI</th>\n",
       "      <td>1.625431</td>\n",
       "      <td>4.931737</td>\n",
       "    </tr>\n",
       "    <tr>\n",
       "      <th>Na</th>\n",
       "      <td>0.454181</td>\n",
       "      <td>3.052232</td>\n",
       "    </tr>\n",
       "    <tr>\n",
       "      <th>Mg</th>\n",
       "      <td>-1.152559</td>\n",
       "      <td>-0.410319</td>\n",
       "    </tr>\n",
       "    <tr>\n",
       "      <th>Al</th>\n",
       "      <td>0.907290</td>\n",
       "      <td>2.060569</td>\n",
       "    </tr>\n",
       "    <tr>\n",
       "      <th>Si</th>\n",
       "      <td>-0.730447</td>\n",
       "      <td>2.967903</td>\n",
       "    </tr>\n",
       "    <tr>\n",
       "      <th>K</th>\n",
       "      <td>6.551648</td>\n",
       "      <td>54.689699</td>\n",
       "    </tr>\n",
       "    <tr>\n",
       "      <th>Ca</th>\n",
       "      <td>2.047054</td>\n",
       "      <td>6.681978</td>\n",
       "    </tr>\n",
       "    <tr>\n",
       "      <th>Ba</th>\n",
       "      <td>3.416425</td>\n",
       "      <td>12.541084</td>\n",
       "    </tr>\n",
       "    <tr>\n",
       "      <th>Fe</th>\n",
       "      <td>1.754327</td>\n",
       "      <td>2.662016</td>\n",
       "    </tr>\n",
       "    <tr>\n",
       "      <th>Type</th>\n",
       "      <td>1.114915</td>\n",
       "      <td>-0.279518</td>\n",
       "    </tr>\n",
       "  </tbody>\n",
       "</table>\n",
       "</div>"
      ],
      "text/plain": [
       "               skew   kurtosis\n",
       "Id number  0.000000  -1.200000\n",
       "RI         1.625431   4.931737\n",
       "Na         0.454181   3.052232\n",
       "Mg        -1.152559  -0.410319\n",
       "Al         0.907290   2.060569\n",
       "Si        -0.730447   2.967903\n",
       "K          6.551648  54.689699\n",
       "Ca         2.047054   6.681978\n",
       "Ba         3.416425  12.541084\n",
       "Fe         1.754327   2.662016\n",
       "Type       1.114915  -0.279518"
      ]
     },
     "execution_count": 29,
     "metadata": {},
     "output_type": "execute_result"
    }
   ],
   "source": [
    "df.agg(['skew','kurtosis']).transpose()"
   ]
  },
  {
   "cell_type": "markdown",
   "id": "ee42986b",
   "metadata": {},
   "source": [
    ".From the upper obseration there  is skew and Outliers are presents."
   ]
  },
  {
   "cell_type": "markdown",
   "id": "91e83064",
   "metadata": {},
   "source": [
    "### Let's Eleminate the Skew:"
   ]
  },
  {
   "cell_type": "code",
   "execution_count": 30,
   "id": "c92ea1c3",
   "metadata": {},
   "outputs": [],
   "source": [
    "df['RI'] =np.sqrt(df['RI'])\n",
    "df['K'] = np.sqrt(df['K']) \n",
    "df['Ca'] =np.sqrt(df['Ca'])\n",
    "df['Ba']=np.sqrt(df['Ba'])\n",
    "df['Fe']=np.sqrt(df['Fe'])\n",
    "                "
   ]
  },
  {
   "cell_type": "code",
   "execution_count": 31,
   "id": "e571bca9",
   "metadata": {},
   "outputs": [
    {
     "name": "stdout",
     "output_type": "stream",
     "text": [
      "1.6191430663221709\n",
      "4.903158530222255\n"
     ]
    },
    {
     "data": {
      "image/png": "[encoded data removed]",
      "text/plain": [
       "<Figure size 432x288 with 1 Axes>"
      ]
     },
     "metadata": {
      "needs_background": "light"
     },
     "output_type": "display_data"
    }
   ],
   "source": [
    "sns.distplot(df['RI'])\n",
    "\n",
    "print(df['RI'].skew())\n",
    "\n",
    "print(df['RI'].kurt())"
   ]
  },
  {
   "cell_type": "code",
   "execution_count": 32,
   "id": "7145982e",
   "metadata": {},
   "outputs": [
    {
     "data": {
      "text/plain": [
       "<AxesSubplot:xlabel='Fe', ylabel='Density'>"
      ]
     },
     "execution_count": 32,
     "metadata": {},
     "output_type": "execute_result"
    },
    {
     "data": {
      "image/png": "[encoded data removed]",
      "text/plain": [
       "<Figure size 432x288 with 5 Axes>"
      ]
     },
     "metadata": {
      "needs_background": "light"
     },
     "output_type": "display_data"
    }
   ],
   "source": [
    "fig,axes=plt.subplots(5)\n",
    "sns.kdeplot(df['RI'],ax=axes[0])\n",
    "sns.kdeplot(df['K'],ax=axes[1])\n",
    "sns.kdeplot(df['Ca'],ax=axes[2])\n",
    "sns.kdeplot(df['Ba'],ax=axes[3])\n",
    "sns.kdeplot(df['Fe'],ax=axes[4])"
   ]
  },
  {
   "cell_type": "markdown",
   "id": "c1365b3c",
   "metadata": {},
   "source": [
    ".Here we can see that all skewness will be eleminated in our data set."
   ]
  },
  {
   "cell_type": "markdown",
   "id": "3c80150a",
   "metadata": {},
   "source": [
    "### Seprating the Features and label:"
   ]
  },
  {
   "cell_type": "code",
   "execution_count": 33,
   "id": "8143e5c2",
   "metadata": {},
   "outputs": [],
   "source": [
    "x = df.drop('Type',axis=1)\n",
    "y = df['Type']"
   ]
  },
  {
   "cell_type": "markdown",
   "id": "d408536b",
   "metadata": {},
   "source": [
    "### Using StandarScalrization:"
   ]
  },
  {
   "cell_type": "code",
   "execution_count": 34,
   "id": "42fa00a2",
   "metadata": {},
   "outputs": [
    {
     "data": {
      "text/html": [
       "<div>\n",
       "<style scoped>\n",
       "    .dataframe tbody tr th:only-of-type {\n",
       "        vertical-align: middle;\n",
       "    }\n",
       "\n",
       "    .dataframe tbody tr th {\n",
       "        vertical-align: top;\n",
       "    }\n",
       "\n",
       "    .dataframe thead th {\n",
       "        text-align: right;\n",
       "    }\n",
       "</style>\n",
       "<table border=\"1\" class=\"dataframe\">\n",
       "  <thead>\n",
       "    <tr style=\"text-align: right;\">\n",
       "      <th></th>\n",
       "      <th>Id number</th>\n",
       "      <th>RI</th>\n",
       "      <th>Na</th>\n",
       "      <th>Mg</th>\n",
       "      <th>Al</th>\n",
       "      <th>Si</th>\n",
       "      <th>K</th>\n",
       "      <th>Ca</th>\n",
       "      <th>Ba</th>\n",
       "      <th>Fe</th>\n",
       "    </tr>\n",
       "  </thead>\n",
       "  <tbody>\n",
       "    <tr>\n",
       "      <th>0</th>\n",
       "      <td>-1.723976</td>\n",
       "      <td>0.873686</td>\n",
       "      <td>0.284953</td>\n",
       "      <td>1.254639</td>\n",
       "      <td>-0.692442</td>\n",
       "      <td>-1.127082</td>\n",
       "      <td>-0.992606</td>\n",
       "      <td>-0.117724</td>\n",
       "      <td>-0.417679</td>\n",
       "      <td>-0.6609</td>\n",
       "    </tr>\n",
       "    <tr>\n",
       "      <th>1</th>\n",
       "      <td>-1.707788</td>\n",
       "      <td>-0.249066</td>\n",
       "      <td>0.591817</td>\n",
       "      <td>0.636168</td>\n",
       "      <td>-0.170460</td>\n",
       "      <td>0.102319</td>\n",
       "      <td>0.243070</td>\n",
       "      <td>-0.831001</td>\n",
       "      <td>-0.417679</td>\n",
       "      <td>-0.6609</td>\n",
       "    </tr>\n",
       "    <tr>\n",
       "      <th>2</th>\n",
       "      <td>-1.691601</td>\n",
       "      <td>-0.721658</td>\n",
       "      <td>0.149933</td>\n",
       "      <td>0.601422</td>\n",
       "      <td>0.190912</td>\n",
       "      <td>0.438787</td>\n",
       "      <td>0.054574</td>\n",
       "      <td>-0.870937</td>\n",
       "      <td>-0.417679</td>\n",
       "      <td>-0.6609</td>\n",
       "    </tr>\n",
       "    <tr>\n",
       "      <th>3</th>\n",
       "      <td>-1.675413</td>\n",
       "      <td>-0.232546</td>\n",
       "      <td>-0.242853</td>\n",
       "      <td>0.698710</td>\n",
       "      <td>-0.310994</td>\n",
       "      <td>-0.052974</td>\n",
       "      <td>0.414578</td>\n",
       "      <td>-0.523778</td>\n",
       "      <td>-0.417679</td>\n",
       "      <td>-0.6609</td>\n",
       "    </tr>\n",
       "    <tr>\n",
       "      <th>4</th>\n",
       "      <td>-1.659226</td>\n",
       "      <td>-0.311845</td>\n",
       "      <td>-0.169205</td>\n",
       "      <td>0.650066</td>\n",
       "      <td>-0.411375</td>\n",
       "      <td>0.555256</td>\n",
       "      <td>0.377708</td>\n",
       "      <td>-0.641059</td>\n",
       "      <td>-0.417679</td>\n",
       "      <td>-0.6609</td>\n",
       "    </tr>\n",
       "    <tr>\n",
       "      <th>...</th>\n",
       "      <td>...</td>\n",
       "      <td>...</td>\n",
       "      <td>...</td>\n",
       "      <td>...</td>\n",
       "      <td>...</td>\n",
       "      <td>...</td>\n",
       "      <td>...</td>\n",
       "      <td>...</td>\n",
       "      <td>...</td>\n",
       "      <td>...</td>\n",
       "    </tr>\n",
       "    <tr>\n",
       "      <th>209</th>\n",
       "      <td>1.659226</td>\n",
       "      <td>-0.705130</td>\n",
       "      <td>0.898681</td>\n",
       "      <td>-1.865511</td>\n",
       "      <td>2.881125</td>\n",
       "      <td>-0.052974</td>\n",
       "      <td>-0.888057</td>\n",
       "      <td>0.202760</td>\n",
       "      <td>2.249144</td>\n",
       "      <td>-0.6609</td>\n",
       "    </tr>\n",
       "    <tr>\n",
       "      <th>210</th>\n",
       "      <td>1.675413</td>\n",
       "      <td>-0.500206</td>\n",
       "      <td>1.856097</td>\n",
       "      <td>-1.865511</td>\n",
       "      <td>1.094342</td>\n",
       "      <td>0.529374</td>\n",
       "      <td>-1.668419</td>\n",
       "      <td>-0.384443</td>\n",
       "      <td>2.848499</td>\n",
       "      <td>-0.6609</td>\n",
       "    </tr>\n",
       "    <tr>\n",
       "      <th>211</th>\n",
       "      <td>1.691601</td>\n",
       "      <td>0.754865</td>\n",
       "      <td>1.168721</td>\n",
       "      <td>-1.865511</td>\n",
       "      <td>1.154570</td>\n",
       "      <td>0.995252</td>\n",
       "      <td>-1.668419</td>\n",
       "      <td>-0.353683</td>\n",
       "      <td>2.899457</td>\n",
       "      <td>-0.6609</td>\n",
       "    </tr>\n",
       "    <tr>\n",
       "      <th>212</th>\n",
       "      <td>1.707788</td>\n",
       "      <td>-0.612578</td>\n",
       "      <td>1.193270</td>\n",
       "      <td>-1.865511</td>\n",
       "      <td>0.993960</td>\n",
       "      <td>1.241133</td>\n",
       "      <td>-1.668419</td>\n",
       "      <td>-0.322996</td>\n",
       "      <td>2.827892</td>\n",
       "      <td>-0.6609</td>\n",
       "    </tr>\n",
       "    <tr>\n",
       "      <th>213</th>\n",
       "      <td>1.723976</td>\n",
       "      <td>-0.414282</td>\n",
       "      <td>1.009152</td>\n",
       "      <td>-1.865511</td>\n",
       "      <td>1.275028</td>\n",
       "      <td>0.917606</td>\n",
       "      <td>-1.668419</td>\n",
       "      <td>-0.216157</td>\n",
       "      <td>2.929659</td>\n",
       "      <td>-0.6609</td>\n",
       "    </tr>\n",
       "  </tbody>\n",
       "</table>\n",
       "<p>214 rows × 10 columns</p>\n",
       "</div>"
      ],
      "text/plain": [
       "     Id number        RI        Na        Mg        Al        Si         K  \\\n",
       "0    -1.723976  0.873686  0.284953  1.254639 -0.692442 -1.127082 -0.992606   \n",
       "1    -1.707788 -0.249066  0.591817  0.636168 -0.170460  0.102319  0.243070   \n",
       "2    -1.691601 -0.721658  0.149933  0.601422  0.190912  0.438787  0.054574   \n",
       "3    -1.675413 -0.232546 -0.242853  0.698710 -0.310994 -0.052974  0.414578   \n",
       "4    -1.659226 -0.311845 -0.169205  0.650066 -0.411375  0.555256  0.377708   \n",
       "..         ...       ...       ...       ...       ...       ...       ...   \n",
       "209   1.659226 -0.705130  0.898681 -1.865511  2.881125 -0.052974 -0.888057   \n",
       "210   1.675413 -0.500206  1.856097 -1.865511  1.094342  0.529374 -1.668419   \n",
       "211   1.691601  0.754865  1.168721 -1.865511  1.154570  0.995252 -1.668419   \n",
       "212   1.707788 -0.612578  1.193270 -1.865511  0.993960  1.241133 -1.668419   \n",
       "213   1.723976 -0.414282  1.009152 -1.865511  1.275028  0.917606 -1.668419   \n",
       "\n",
       "           Ca        Ba      Fe  \n",
       "0   -0.117724 -0.417679 -0.6609  \n",
       "1   -0.831001 -0.417679 -0.6609  \n",
       "2   -0.870937 -0.417679 -0.6609  \n",
       "3   -0.523778 -0.417679 -0.6609  \n",
       "4   -0.641059 -0.417679 -0.6609  \n",
       "..        ...       ...     ...  \n",
       "209  0.202760  2.249144 -0.6609  \n",
       "210 -0.384443  2.848499 -0.6609  \n",
       "211 -0.353683  2.899457 -0.6609  \n",
       "212 -0.322996  2.827892 -0.6609  \n",
       "213 -0.216157  2.929659 -0.6609  \n",
       "\n",
       "[214 rows x 10 columns]"
      ]
     },
     "execution_count": 34,
     "metadata": {},
     "output_type": "execute_result"
    }
   ],
   "source": [
    "Scaler =StandardScaler()\n",
    "x = pd.DataFrame(Scaler.fit_transform(x),columns = x.columns)\n",
    "x"
   ]
  },
  {
   "cell_type": "markdown",
   "id": "e677e785",
   "metadata": {},
   "source": [
    "We use this methode to over come to the biasness."
   ]
  },
  {
   "cell_type": "code",
   "execution_count": 35,
   "id": "a40e801f",
   "metadata": {},
   "outputs": [
    {
     "data": {
      "text/plain": [
       "2    76\n",
       "1    70\n",
       "7    29\n",
       "3    17\n",
       "5    13\n",
       "6     9\n",
       "Name: Type, dtype: int64"
      ]
     },
     "execution_count": 35,
     "metadata": {},
     "output_type": "execute_result"
    }
   ],
   "source": [
    "y.value_counts()"
   ]
  },
  {
   "cell_type": "code",
   "execution_count": 36,
   "id": "ac631e6a",
   "metadata": {},
   "outputs": [],
   "source": [
    "#oversampling the data\n",
    "from imblearn.over_sampling import SMOTE\n",
    "SM = SMOTE()\n",
    "x,y = SM.fit_resample(x,y)"
   ]
  },
  {
   "cell_type": "code",
   "execution_count": 37,
   "id": "4fb835b9",
   "metadata": {},
   "outputs": [
    {
     "data": {
      "text/plain": [
       "1    76\n",
       "2    76\n",
       "3    76\n",
       "5    76\n",
       "6    76\n",
       "7    76\n",
       "Name: Type, dtype: int64"
      ]
     },
     "execution_count": 37,
     "metadata": {},
     "output_type": "execute_result"
    }
   ],
   "source": [
    "# checking the count value \n",
    "y.value_counts()"
   ]
  },
  {
   "cell_type": "markdown",
   "id": "29eb8983",
   "metadata": {},
   "source": [
    "### Testing and Spliting:"
   ]
  },
  {
   "cell_type": "code",
   "execution_count": 38,
   "id": "bf83c1ae",
   "metadata": {},
   "outputs": [],
   "source": [
    "x_train,x_test,y_train,y_test = train_test_split(x,y,test_size=0.25, random_state =41)"
   ]
  },
  {
   "cell_type": "code",
   "execution_count": 39,
   "id": "57fb6a35",
   "metadata": {},
   "outputs": [],
   "source": [
    "from sklearn.metrics  import confusion_matrix,classification_report,accuracy_score"
   ]
  },
  {
   "cell_type": "code",
   "execution_count": 40,
   "id": "5eff51ef",
   "metadata": {},
   "outputs": [],
   "source": [
    "def metric_score(clf, x_train,x_test,y_train,y_test,train = True):\n",
    "    if train:\n",
    "        y_pred = clf.predict(x_train)\n",
    "        \n",
    "        print(\"\\n==========Train Result=========\")\n",
    "        \n",
    "        print(f\"Accuracy Score: {accuracy_score(y_train,y_pred)*100: .2f}%\")\n",
    "        \n",
    "    \n",
    "    elif train==False:\n",
    "        pred = clf.predict(x_test)\n",
    "        \n",
    "        print(\"\\n=========Train Result========\")\n",
    "        \n",
    "        print(f\"Accuracy Score: {accuracy_score(y_test, pred)*100: .2f}%\")\n",
    "        \n",
    "        print('\\n \\n Test Cassification Report \\n',classification_report(y_test,pred,digits=2))"
   ]
  },
  {
   "cell_type": "markdown",
   "id": "45135780",
   "metadata": {},
   "source": [
    "### Model Training:"
   ]
  },
  {
   "cell_type": "markdown",
   "id": "659461f7",
   "metadata": {},
   "source": [
    "### For DecisionTreeClassifier:"
   ]
  },
  {
   "cell_type": "code",
   "execution_count": 41,
   "id": "f9441d1d",
   "metadata": {},
   "outputs": [],
   "source": [
    "from sklearn.tree import DecisionTreeClassifier"
   ]
  },
  {
   "cell_type": "code",
   "execution_count": 42,
   "id": "668c4399",
   "metadata": {},
   "outputs": [
    {
     "data": {
      "text/plain": [
       "DecisionTreeClassifier()"
      ]
     },
     "execution_count": 42,
     "metadata": {},
     "output_type": "execute_result"
    }
   ],
   "source": [
    "Dec = DecisionTreeClassifier()\n",
    "Dec.fit(x_train,y_train)"
   ]
  },
  {
   "cell_type": "code",
   "execution_count": 43,
   "id": "f0453b28",
   "metadata": {},
   "outputs": [
    {
     "name": "stdout",
     "output_type": "stream",
     "text": [
      "\n",
      "==========Train Result=========\n",
      "Accuracy Score:  100.00%\n",
      "\n",
      "=========Train Result========\n",
      "Accuracy Score:  99.12%\n",
      "\n",
      " \n",
      " Test Cassification Report \n",
      "               precision    recall  f1-score   support\n",
      "\n",
      "           1       0.95      1.00      0.97        18\n",
      "           2       1.00      0.94      0.97        18\n",
      "           3       1.00      1.00      1.00        19\n",
      "           5       1.00      1.00      1.00        22\n",
      "           6       1.00      1.00      1.00        17\n",
      "           7       1.00      1.00      1.00        20\n",
      "\n",
      "    accuracy                           0.99       114\n",
      "   macro avg       0.99      0.99      0.99       114\n",
      "weighted avg       0.99      0.99      0.99       114\n",
      "\n"
     ]
    }
   ],
   "source": [
    "metric_score(Dec,x_train,x_test,y_train,y_test,train=True)\n",
    "\n",
    "metric_score(Dec,x_train,x_test,y_train,y_test,train=False)"
   ]
  },
  {
   "cell_type": "markdown",
   "id": "c7169352",
   "metadata": {},
   "source": [
    "### RandomForestClassifier:"
   ]
  },
  {
   "cell_type": "code",
   "execution_count": 44,
   "id": "c8cec15e",
   "metadata": {},
   "outputs": [],
   "source": [
    "from sklearn.ensemble import RandomForestClassifier"
   ]
  },
  {
   "cell_type": "code",
   "execution_count": 45,
   "id": "f1fac4aa",
   "metadata": {},
   "outputs": [
    {
     "data": {
      "text/plain": [
       "RandomForestClassifier()"
      ]
     },
     "execution_count": 45,
     "metadata": {},
     "output_type": "execute_result"
    }
   ],
   "source": [
    "RFR = RandomForestClassifier()\n",
    "RFR.fit(x_train,y_train)"
   ]
  },
  {
   "cell_type": "code",
   "execution_count": 46,
   "id": "9259d1dc",
   "metadata": {},
   "outputs": [
    {
     "name": "stdout",
     "output_type": "stream",
     "text": [
      "\n",
      "==========Train Result=========\n",
      "Accuracy Score:  100.00%\n",
      "\n",
      "=========Train Result========\n",
      "Accuracy Score:  98.25%\n",
      "\n",
      " \n",
      " Test Cassification Report \n",
      "               precision    recall  f1-score   support\n",
      "\n",
      "           1       0.95      1.00      0.97        18\n",
      "           2       1.00      0.94      0.97        18\n",
      "           3       0.95      1.00      0.97        19\n",
      "           5       1.00      1.00      1.00        22\n",
      "           6       1.00      1.00      1.00        17\n",
      "           7       1.00      0.95      0.97        20\n",
      "\n",
      "    accuracy                           0.98       114\n",
      "   macro avg       0.98      0.98      0.98       114\n",
      "weighted avg       0.98      0.98      0.98       114\n",
      "\n"
     ]
    }
   ],
   "source": [
    "metric_score(RFR,x_train,x_test,y_train,y_test,train=True)\n",
    "metric_score(RFR,x_train,x_test,y_train,y_test,train=False)"
   ]
  },
  {
   "cell_type": "markdown",
   "id": "51a0aa3d",
   "metadata": {},
   "source": [
    "### AdaBoostClassifier Model:"
   ]
  },
  {
   "cell_type": "code",
   "execution_count": 47,
   "id": "4a878507",
   "metadata": {},
   "outputs": [],
   "source": [
    "from sklearn.ensemble import AdaBoostClassifier"
   ]
  },
  {
   "cell_type": "code",
   "execution_count": 48,
   "id": "13cfd7dd",
   "metadata": {},
   "outputs": [
    {
     "data": {
      "text/plain": [
       "AdaBoostClassifier()"
      ]
     },
     "execution_count": 48,
     "metadata": {},
     "output_type": "execute_result"
    }
   ],
   "source": [
    "Adb = AdaBoostClassifier()\n",
    "Adb.fit(x_train,y_train)"
   ]
  },
  {
   "cell_type": "code",
   "execution_count": 49,
   "id": "e0a57756",
   "metadata": {},
   "outputs": [
    {
     "name": "stdout",
     "output_type": "stream",
     "text": [
      "\n",
      "==========Train Result=========\n",
      "Accuracy Score:  50.58%\n",
      "\n",
      "=========Train Result========\n",
      "Accuracy Score:  48.25%\n",
      "\n",
      " \n",
      " Test Cassification Report \n",
      "               precision    recall  f1-score   support\n",
      "\n",
      "           1       0.95      1.00      0.97        18\n",
      "           2       0.00      0.00      0.00        18\n",
      "           3       0.00      0.00      0.00        19\n",
      "           5       0.00      0.00      0.00        22\n",
      "           6       0.23      1.00      0.37        17\n",
      "           7       1.00      1.00      1.00        20\n",
      "\n",
      "    accuracy                           0.48       114\n",
      "   macro avg       0.36      0.50      0.39       114\n",
      "weighted avg       0.36      0.48      0.38       114\n",
      "\n"
     ]
    }
   ],
   "source": [
    "metric_score(Adb,x_train,x_test,y_train,y_test,train=True)\n",
    "metric_score(Adb,x_train,x_test,y_train,y_test,train=False)"
   ]
  },
  {
   "cell_type": "markdown",
   "id": "078f8da8",
   "metadata": {},
   "source": [
    "### GradientBoostingClassifier:"
   ]
  },
  {
   "cell_type": "code",
   "execution_count": 50,
   "id": "a8aef1de",
   "metadata": {},
   "outputs": [],
   "source": [
    "from sklearn.ensemble import GradientBoostingClassifier"
   ]
  },
  {
   "cell_type": "code",
   "execution_count": 51,
   "id": "432b734e",
   "metadata": {},
   "outputs": [
    {
     "data": {
      "text/plain": [
       "GradientBoostingClassifier()"
      ]
     },
     "execution_count": 51,
     "metadata": {},
     "output_type": "execute_result"
    }
   ],
   "source": [
    "Grb =GradientBoostingClassifier ()\n",
    "Grb.fit(x_train,y_train)"
   ]
  },
  {
   "cell_type": "code",
   "execution_count": 52,
   "id": "3ed731f5",
   "metadata": {},
   "outputs": [
    {
     "name": "stdout",
     "output_type": "stream",
     "text": [
      "\n",
      "==========Train Result=========\n",
      "Accuracy Score:  100.00%\n",
      "\n",
      "=========Train Result========\n",
      "Accuracy Score:  98.25%\n",
      "\n",
      " \n",
      " Test Cassification Report \n",
      "               precision    recall  f1-score   support\n",
      "\n",
      "           1       0.95      1.00      0.97        18\n",
      "           2       1.00      0.94      0.97        18\n",
      "           3       1.00      0.95      0.97        19\n",
      "           5       1.00      1.00      1.00        22\n",
      "           6       0.94      1.00      0.97        17\n",
      "           7       1.00      1.00      1.00        20\n",
      "\n",
      "    accuracy                           0.98       114\n",
      "   macro avg       0.98      0.98      0.98       114\n",
      "weighted avg       0.98      0.98      0.98       114\n",
      "\n"
     ]
    }
   ],
   "source": [
    "metric_score(Grb,x_train,x_test,y_train,y_test,train=True)\n",
    "metric_score(Grb,x_train,x_test,y_train,y_test,train=False)"
   ]
  },
  {
   "cell_type": "markdown",
   "id": "ddc091a8",
   "metadata": {},
   "source": [
    "### Cross-Validation-Score:"
   ]
  },
  {
   "cell_type": "code",
   "execution_count": 53,
   "id": "301556c2",
   "metadata": {},
   "outputs": [],
   "source": [
    "from sklearn.model_selection import cross_val_score"
   ]
  },
  {
   "cell_type": "code",
   "execution_count": 54,
   "id": "6566b03d",
   "metadata": {},
   "outputs": [
    {
     "name": "stdout",
     "output_type": "stream",
     "text": [
      "[0.91304348 1.         1.         1.         0.85714286]\n",
      "0.9540372670807453\n"
     ]
    }
   ],
   "source": [
    "#checkig cv score for DecisionTreeClassifier\n",
    "score = cross_val_score(Dec,x,y)\n",
    "print(score)\n",
    "print(score.mean())"
   ]
  },
  {
   "cell_type": "code",
   "execution_count": 55,
   "id": "2979835e",
   "metadata": {},
   "outputs": [
    {
     "name": "stdout",
     "output_type": "stream",
     "text": [
      "[0.95652174 1.         0.97802198 1.         0.87912088]\n",
      "0.9627329192546583\n"
     ]
    }
   ],
   "source": [
    "# checking cv score for RandomForestClassifier\n",
    "score = cross_val_score(RFR,x,y)\n",
    "print(score)\n",
    "print(score.mean())"
   ]
  },
  {
   "cell_type": "code",
   "execution_count": 56,
   "id": "b88de650",
   "metadata": {},
   "outputs": [
    {
     "name": "stdout",
     "output_type": "stream",
     "text": [
      "[0.58695652 0.49450549 0.49450549 0.49450549 0.43956044]\n",
      "0.5020066889632107\n"
     ]
    }
   ],
   "source": [
    "# checking cv score for AdaBoostClassifier\n",
    "score = cross_val_score(Adb,x,y)\n",
    "print(score)\n",
    "print(score.mean())"
   ]
  },
  {
   "cell_type": "code",
   "execution_count": 57,
   "id": "a733938b",
   "metadata": {},
   "outputs": [
    {
     "name": "stdout",
     "output_type": "stream",
     "text": [
      "[0.89130435 1.         1.         1.         0.85714286]\n",
      "0.9496894409937887\n"
     ]
    }
   ],
   "source": [
    "# checking cv score for GradientBoostingClassifier\n",
    "score = cross_val_score(Grb,x,y)\n",
    "print(score)\n",
    "print(score.mean())"
   ]
  },
  {
   "cell_type": "raw",
   "id": "535aa8ae",
   "metadata": {},
   "source": [
    "I will chose RandomForestClassifier as my best model\n",
    "Because its cross-val score and accuracy score have very least difference."
   ]
  },
  {
   "cell_type": "markdown",
   "id": "1298f54d",
   "metadata": {},
   "source": [
    "### Hypertuning Parameters:"
   ]
  },
  {
   "cell_type": "code",
   "execution_count": 60,
   "id": "69670001",
   "metadata": {},
   "outputs": [],
   "source": [
    "#  RandomForestClassifier:\n",
    "from sklearn.model_selection import RandomizedSearchCV\n",
    "\n",
    "parameters = {'max_depth':[2,8,],\n",
    "              'max_features':[0.2,0.6,1.0],\n",
    "              'n_estimators':[20,60,100,120],\n",
    "              'max_samples':[0.5,0.75,1.0],\n",
    "              'criterion':['gini','entropy'],\n",
    "              'bootstrap':[True,False]}\n",
    "             \n",
    "             "
   ]
  },
  {
   "cell_type": "code",
   "execution_count": 61,
   "id": "67c4bfe4",
   "metadata": {},
   "outputs": [],
   "source": [
    "RFR=  RandomizedSearchCV(RandomForestClassifier(),parameters,cv= 5)"
   ]
  },
  {
   "cell_type": "code",
   "execution_count": 62,
   "id": "37f7a821",
   "metadata": {},
   "outputs": [
    {
     "data": {
      "text/plain": [
       "RandomizedSearchCV(cv=5, estimator=RandomForestClassifier(),\n",
       "                   param_distributions={'bootstrap': [True, False],\n",
       "                                        'criterion': ['gini', 'entropy'],\n",
       "                                        'max_depth': [2, 8],\n",
       "                                        'max_features': [0.2, 0.6, 1.0],\n",
       "                                        'max_samples': [0.5, 0.75, 1.0],\n",
       "                                        'n_estimators': [20, 60, 100, 120]})"
      ]
     },
     "execution_count": 62,
     "metadata": {},
     "output_type": "execute_result"
    }
   ],
   "source": [
    "RFR.fit(x_train,y_train)"
   ]
  },
  {
   "cell_type": "code",
   "execution_count": 63,
   "id": "006fc96d",
   "metadata": {},
   "outputs": [
    {
     "data": {
      "text/plain": [
       "{'n_estimators': 20,\n",
       " 'max_samples': 1.0,\n",
       " 'max_features': 0.6,\n",
       " 'max_depth': 8,\n",
       " 'criterion': 'entropy',\n",
       " 'bootstrap': True}"
      ]
     },
     "execution_count": 63,
     "metadata": {},
     "output_type": "execute_result"
    }
   ],
   "source": [
    "RFR.best_params_"
   ]
  },
  {
   "cell_type": "code",
   "execution_count": 64,
   "id": "c92a25b1",
   "metadata": {},
   "outputs": [
    {
     "name": "stdout",
     "output_type": "stream",
     "text": [
      "99.12280701754386\n"
     ]
    }
   ],
   "source": [
    "Final_model = RandomForestClassifier(n_estimators = 20,max_samples= 1.0, max_features= 1.0,max_depth= 8,criterion= 'gini',bootstrap='True')\n",
    "Final_model.fit(x_train,y_train)\n",
    "pred = Final_model.predict(x_test)\n",
    "acc = accuracy_score(y_test,pred)\n",
    "print(acc*100)"
   ]
  },
  {
   "cell_type": "raw",
   "id": "84ae0059",
   "metadata": {},
   "source": [
    "Here we can see after  using Hyperparameters tuning our RandomForestClassifier model\n",
    "accuracy is increases.Here we are using RandomSearchCV because it is a best for small dataset and \n",
    "gives us faster results."
   ]
  },
  {
   "cell_type": "markdown",
   "id": "40a65bb8",
   "metadata": {},
   "source": [
    "### Save the Model:"
   ]
  },
  {
   "cell_type": "code",
   "execution_count": 65,
   "id": "15ad5c56",
   "metadata": {},
   "outputs": [
    {
     "data": {
      "text/plain": [
       "['Glass Identification']"
      ]
     },
     "execution_count": 65,
     "metadata": {},
     "output_type": "execute_result"
    }
   ],
   "source": [
    "# we use joblib methode for save the model\n",
    "import joblib\n",
    "joblib.dump(Final_model,\"Glass Identification\")"
   ]
  },
  {
   "cell_type": "code",
   "execution_count": 66,
   "id": "27b3caf7",
   "metadata": {},
   "outputs": [
    {
     "data": {
      "text/plain": [
       "array([6, 5, 3, 1, 3, 5, 7, 1, 5, 7, 2, 3, 1, 5, 7, 7, 1, 7, 3, 5, 7, 1,\n",
       "       7, 7, 6, 1, 5, 5, 5, 5, 1, 7, 7, 5, 6, 7, 7, 3, 3, 1, 5, 3, 2, 6,\n",
       "       7, 5, 5, 5, 2, 6, 6, 5, 1, 7, 2, 5, 7, 6, 1, 7, 2, 2, 6, 6, 3, 1,\n",
       "       3, 2, 7, 2, 1, 6, 2, 6, 6, 3, 3, 5, 6, 2, 5, 5, 2, 7, 3, 6, 2, 2,\n",
       "       3, 1, 1, 2, 2, 6, 6, 1, 6, 3, 3, 7, 3, 5, 5, 1, 1, 5, 3, 2, 7, 1,\n",
       "       2, 3, 3, 1], dtype=int64)"
      ]
     },
     "execution_count": 66,
     "metadata": {},
     "output_type": "execute_result"
    }
   ],
   "source": [
    "# load the saved model\n",
    "model = joblib.load(\"Glass Identification\")\n",
    "\n",
    "#pediction\n",
    "prediction = model.predict(x_test)\n",
    "prediction"
   ]
  },
  {
   "cell_type": "markdown",
   "id": "b4d94906",
   "metadata": {},
   "source": [
    "These are our prediction values."
   ]
  },
  {
   "cell_type": "markdown",
   "id": "b7abc2aa",
   "metadata": {},
   "source": [
    "### Q2. Bank Marketing :Term Deposit Prediction"
   ]
  },
  {
   "cell_type": "code",
   "execution_count": 1,
   "id": "3507d75f",
   "metadata": {},
   "outputs": [],
   "source": [
    "import pandas as pd\n",
    "import numpy as np\n",
    "import seaborn as sns\n",
    "import matplotlib.pyplot as plt\n",
    "from sklearn.preprocessing import StandardScaler\n",
    "from sklearn.model_selection import train_test_split\n",
    "\n",
    "import warnings\n",
    "warnings.filterwarnings('ignore')"
   ]
  },
  {
   "cell_type": "markdown",
   "id": "c1c109cb",
   "metadata": {},
   "source": [
    "### https://raw.githubusercontent.com/dsrscientist/dataset5/main/termdeposit_train.csv"
   ]
  },
  {
   "cell_type": "code",
   "execution_count": 2,
   "id": "73b57660",
   "metadata": {},
   "outputs": [],
   "source": [
    "df = pd.read_csv(\"https://raw.githubusercontent.com/dsrscientist/dataset5/main/termdeposit_train.csv\")"
   ]
  },
  {
   "cell_type": "code",
   "execution_count": 3,
   "id": "c8d99362",
   "metadata": {},
   "outputs": [
    {
     "data": {
      "text/html": [
       "<div>\n",
       "<style scoped>\n",
       "    .dataframe tbody tr th:only-of-type {\n",
       "        vertical-align: middle;\n",
       "    }\n",
       "\n",
       "    .dataframe tbody tr th {\n",
       "        vertical-align: top;\n",
       "    }\n",
       "\n",
       "    .dataframe thead th {\n",
       "        text-align: right;\n",
       "    }\n",
       "</style>\n",
       "<table border=\"1\" class=\"dataframe\">\n",
       "  <thead>\n",
       "    <tr style=\"text-align: right;\">\n",
       "      <th></th>\n",
       "      <th>ID</th>\n",
       "      <th>age</th>\n",
       "      <th>job</th>\n",
       "      <th>marital</th>\n",
       "      <th>education</th>\n",
       "      <th>default</th>\n",
       "      <th>balance</th>\n",
       "      <th>housing</th>\n",
       "      <th>loan</th>\n",
       "      <th>contact</th>\n",
       "      <th>day</th>\n",
       "      <th>month</th>\n",
       "      <th>duration</th>\n",
       "      <th>campaign</th>\n",
       "      <th>pdays</th>\n",
       "      <th>previous</th>\n",
       "      <th>poutcome</th>\n",
       "      <th>subscribed</th>\n",
       "    </tr>\n",
       "  </thead>\n",
       "  <tbody>\n",
       "    <tr>\n",
       "      <th>0</th>\n",
       "      <td>26110</td>\n",
       "      <td>56</td>\n",
       "      <td>admin.</td>\n",
       "      <td>married</td>\n",
       "      <td>unknown</td>\n",
       "      <td>no</td>\n",
       "      <td>1933</td>\n",
       "      <td>no</td>\n",
       "      <td>no</td>\n",
       "      <td>telephone</td>\n",
       "      <td>19</td>\n",
       "      <td>nov</td>\n",
       "      <td>44</td>\n",
       "      <td>2</td>\n",
       "      <td>-1</td>\n",
       "      <td>0</td>\n",
       "      <td>unknown</td>\n",
       "      <td>no</td>\n",
       "    </tr>\n",
       "    <tr>\n",
       "      <th>1</th>\n",
       "      <td>40576</td>\n",
       "      <td>31</td>\n",
       "      <td>unknown</td>\n",
       "      <td>married</td>\n",
       "      <td>secondary</td>\n",
       "      <td>no</td>\n",
       "      <td>3</td>\n",
       "      <td>no</td>\n",
       "      <td>no</td>\n",
       "      <td>cellular</td>\n",
       "      <td>20</td>\n",
       "      <td>jul</td>\n",
       "      <td>91</td>\n",
       "      <td>2</td>\n",
       "      <td>-1</td>\n",
       "      <td>0</td>\n",
       "      <td>unknown</td>\n",
       "      <td>no</td>\n",
       "    </tr>\n",
       "    <tr>\n",
       "      <th>2</th>\n",
       "      <td>15320</td>\n",
       "      <td>27</td>\n",
       "      <td>services</td>\n",
       "      <td>married</td>\n",
       "      <td>secondary</td>\n",
       "      <td>no</td>\n",
       "      <td>891</td>\n",
       "      <td>yes</td>\n",
       "      <td>no</td>\n",
       "      <td>cellular</td>\n",
       "      <td>18</td>\n",
       "      <td>jul</td>\n",
       "      <td>240</td>\n",
       "      <td>1</td>\n",
       "      <td>-1</td>\n",
       "      <td>0</td>\n",
       "      <td>unknown</td>\n",
       "      <td>no</td>\n",
       "    </tr>\n",
       "    <tr>\n",
       "      <th>3</th>\n",
       "      <td>43962</td>\n",
       "      <td>57</td>\n",
       "      <td>management</td>\n",
       "      <td>divorced</td>\n",
       "      <td>tertiary</td>\n",
       "      <td>no</td>\n",
       "      <td>3287</td>\n",
       "      <td>no</td>\n",
       "      <td>no</td>\n",
       "      <td>cellular</td>\n",
       "      <td>22</td>\n",
       "      <td>jun</td>\n",
       "      <td>867</td>\n",
       "      <td>1</td>\n",
       "      <td>84</td>\n",
       "      <td>3</td>\n",
       "      <td>success</td>\n",
       "      <td>yes</td>\n",
       "    </tr>\n",
       "    <tr>\n",
       "      <th>4</th>\n",
       "      <td>29842</td>\n",
       "      <td>31</td>\n",
       "      <td>technician</td>\n",
       "      <td>married</td>\n",
       "      <td>secondary</td>\n",
       "      <td>no</td>\n",
       "      <td>119</td>\n",
       "      <td>yes</td>\n",
       "      <td>no</td>\n",
       "      <td>cellular</td>\n",
       "      <td>4</td>\n",
       "      <td>feb</td>\n",
       "      <td>380</td>\n",
       "      <td>1</td>\n",
       "      <td>-1</td>\n",
       "      <td>0</td>\n",
       "      <td>unknown</td>\n",
       "      <td>no</td>\n",
       "    </tr>\n",
       "    <tr>\n",
       "      <th>...</th>\n",
       "      <td>...</td>\n",
       "      <td>...</td>\n",
       "      <td>...</td>\n",
       "      <td>...</td>\n",
       "      <td>...</td>\n",
       "      <td>...</td>\n",
       "      <td>...</td>\n",
       "      <td>...</td>\n",
       "      <td>...</td>\n",
       "      <td>...</td>\n",
       "      <td>...</td>\n",
       "      <td>...</td>\n",
       "      <td>...</td>\n",
       "      <td>...</td>\n",
       "      <td>...</td>\n",
       "      <td>...</td>\n",
       "      <td>...</td>\n",
       "      <td>...</td>\n",
       "    </tr>\n",
       "    <tr>\n",
       "      <th>31642</th>\n",
       "      <td>36483</td>\n",
       "      <td>29</td>\n",
       "      <td>management</td>\n",
       "      <td>single</td>\n",
       "      <td>tertiary</td>\n",
       "      <td>no</td>\n",
       "      <td>0</td>\n",
       "      <td>yes</td>\n",
       "      <td>no</td>\n",
       "      <td>cellular</td>\n",
       "      <td>12</td>\n",
       "      <td>may</td>\n",
       "      <td>116</td>\n",
       "      <td>2</td>\n",
       "      <td>-1</td>\n",
       "      <td>0</td>\n",
       "      <td>unknown</td>\n",
       "      <td>no</td>\n",
       "    </tr>\n",
       "    <tr>\n",
       "      <th>31643</th>\n",
       "      <td>40178</td>\n",
       "      <td>53</td>\n",
       "      <td>management</td>\n",
       "      <td>divorced</td>\n",
       "      <td>tertiary</td>\n",
       "      <td>no</td>\n",
       "      <td>380</td>\n",
       "      <td>no</td>\n",
       "      <td>yes</td>\n",
       "      <td>cellular</td>\n",
       "      <td>5</td>\n",
       "      <td>jun</td>\n",
       "      <td>438</td>\n",
       "      <td>2</td>\n",
       "      <td>-1</td>\n",
       "      <td>0</td>\n",
       "      <td>unknown</td>\n",
       "      <td>yes</td>\n",
       "    </tr>\n",
       "    <tr>\n",
       "      <th>31644</th>\n",
       "      <td>19710</td>\n",
       "      <td>32</td>\n",
       "      <td>management</td>\n",
       "      <td>single</td>\n",
       "      <td>tertiary</td>\n",
       "      <td>no</td>\n",
       "      <td>312</td>\n",
       "      <td>no</td>\n",
       "      <td>no</td>\n",
       "      <td>cellular</td>\n",
       "      <td>7</td>\n",
       "      <td>aug</td>\n",
       "      <td>37</td>\n",
       "      <td>3</td>\n",
       "      <td>-1</td>\n",
       "      <td>0</td>\n",
       "      <td>unknown</td>\n",
       "      <td>no</td>\n",
       "    </tr>\n",
       "    <tr>\n",
       "      <th>31645</th>\n",
       "      <td>38556</td>\n",
       "      <td>57</td>\n",
       "      <td>technician</td>\n",
       "      <td>married</td>\n",
       "      <td>secondary</td>\n",
       "      <td>no</td>\n",
       "      <td>225</td>\n",
       "      <td>yes</td>\n",
       "      <td>no</td>\n",
       "      <td>telephone</td>\n",
       "      <td>15</td>\n",
       "      <td>may</td>\n",
       "      <td>22</td>\n",
       "      <td>7</td>\n",
       "      <td>337</td>\n",
       "      <td>12</td>\n",
       "      <td>failure</td>\n",
       "      <td>no</td>\n",
       "    </tr>\n",
       "    <tr>\n",
       "      <th>31646</th>\n",
       "      <td>14156</td>\n",
       "      <td>55</td>\n",
       "      <td>management</td>\n",
       "      <td>divorced</td>\n",
       "      <td>secondary</td>\n",
       "      <td>no</td>\n",
       "      <td>204</td>\n",
       "      <td>yes</td>\n",
       "      <td>no</td>\n",
       "      <td>cellular</td>\n",
       "      <td>11</td>\n",
       "      <td>jul</td>\n",
       "      <td>1973</td>\n",
       "      <td>2</td>\n",
       "      <td>-1</td>\n",
       "      <td>0</td>\n",
       "      <td>unknown</td>\n",
       "      <td>yes</td>\n",
       "    </tr>\n",
       "  </tbody>\n",
       "</table>\n",
       "<p>31647 rows × 18 columns</p>\n",
       "</div>"
      ],
      "text/plain": [
       "          ID  age         job   marital  education default  balance housing  \\\n",
       "0      26110   56      admin.   married    unknown      no     1933      no   \n",
       "1      40576   31     unknown   married  secondary      no        3      no   \n",
       "2      15320   27    services   married  secondary      no      891     yes   \n",
       "3      43962   57  management  divorced   tertiary      no     3287      no   \n",
       "4      29842   31  technician   married  secondary      no      119     yes   \n",
       "...      ...  ...         ...       ...        ...     ...      ...     ...   \n",
       "31642  36483   29  management    single   tertiary      no        0     yes   \n",
       "31643  40178   53  management  divorced   tertiary      no      380      no   \n",
       "31644  19710   32  management    single   tertiary      no      312      no   \n",
       "31645  38556   57  technician   married  secondary      no      225     yes   \n",
       "31646  14156   55  management  divorced  secondary      no      204     yes   \n",
       "\n",
       "      loan    contact  day month  duration  campaign  pdays  previous  \\\n",
       "0       no  telephone   19   nov        44         2     -1         0   \n",
       "1       no   cellular   20   jul        91         2     -1         0   \n",
       "2       no   cellular   18   jul       240         1     -1         0   \n",
       "3       no   cellular   22   jun       867         1     84         3   \n",
       "4       no   cellular    4   feb       380         1     -1         0   \n",
       "...    ...        ...  ...   ...       ...       ...    ...       ...   \n",
       "31642   no   cellular   12   may       116         2     -1         0   \n",
       "31643  yes   cellular    5   jun       438         2     -1         0   \n",
       "31644   no   cellular    7   aug        37         3     -1         0   \n",
       "31645   no  telephone   15   may        22         7    337        12   \n",
       "31646   no   cellular   11   jul      1973         2     -1         0   \n",
       "\n",
       "      poutcome subscribed  \n",
       "0      unknown         no  \n",
       "1      unknown         no  \n",
       "2      unknown         no  \n",
       "3      success        yes  \n",
       "4      unknown         no  \n",
       "...        ...        ...  \n",
       "31642  unknown         no  \n",
       "31643  unknown        yes  \n",
       "31644  unknown         no  \n",
       "31645  failure         no  \n",
       "31646  unknown        yes  \n",
       "\n",
       "[31647 rows x 18 columns]"
      ]
     },
     "execution_count": 3,
     "metadata": {},
     "output_type": "execute_result"
    }
   ],
   "source": [
    "df"
   ]
  },
  {
   "cell_type": "code",
   "execution_count": 4,
   "id": "fbf2fa35",
   "metadata": {},
   "outputs": [
    {
     "data": {
      "text/plain": [
       "(31647, 18)"
      ]
     },
     "execution_count": 4,
     "metadata": {},
     "output_type": "execute_result"
    }
   ],
   "source": [
    "df.shape"
   ]
  },
  {
   "cell_type": "code",
   "execution_count": 5,
   "id": "5cb328f4",
   "metadata": {},
   "outputs": [
    {
     "data": {
      "text/plain": [
       "Index(['ID', 'age', 'job', 'marital', 'education', 'default', 'balance',\n",
       "       'housing', 'loan', 'contact', 'day', 'month', 'duration', 'campaign',\n",
       "       'pdays', 'previous', 'poutcome', 'subscribed'],\n",
       "      dtype='object')"
      ]
     },
     "execution_count": 5,
     "metadata": {},
     "output_type": "execute_result"
    }
   ],
   "source": [
    "df.columns"
   ]
  },
  {
   "cell_type": "code",
   "execution_count": 6,
   "id": "527b48ec",
   "metadata": {},
   "outputs": [
    {
     "data": {
      "text/plain": [
       "ID             int64\n",
       "age            int64\n",
       "job           object\n",
       "marital       object\n",
       "education     object\n",
       "default       object\n",
       "balance        int64\n",
       "housing       object\n",
       "loan          object\n",
       "contact       object\n",
       "day            int64\n",
       "month         object\n",
       "duration       int64\n",
       "campaign       int64\n",
       "pdays          int64\n",
       "previous       int64\n",
       "poutcome      object\n",
       "subscribed    object\n",
       "dtype: object"
      ]
     },
     "execution_count": 6,
     "metadata": {},
     "output_type": "execute_result"
    }
   ],
   "source": [
    "df.dtypes"
   ]
  },
  {
   "cell_type": "code",
   "execution_count": 7,
   "id": "0898416d",
   "metadata": {},
   "outputs": [
    {
     "data": {
      "text/plain": [
       "ID            0\n",
       "age           0\n",
       "job           0\n",
       "marital       0\n",
       "education     0\n",
       "default       0\n",
       "balance       0\n",
       "housing       0\n",
       "loan          0\n",
       "contact       0\n",
       "day           0\n",
       "month         0\n",
       "duration      0\n",
       "campaign      0\n",
       "pdays         0\n",
       "previous      0\n",
       "poutcome      0\n",
       "subscribed    0\n",
       "dtype: int64"
      ]
     },
     "execution_count": 7,
     "metadata": {},
     "output_type": "execute_result"
    }
   ],
   "source": [
    "#checking the null values\n",
    "df.isnull().sum()"
   ]
  },
  {
   "cell_type": "code",
   "execution_count": 8,
   "id": "77971676",
   "metadata": {},
   "outputs": [
    {
     "data": {
      "text/plain": [
       "0"
      ]
     },
     "execution_count": 8,
     "metadata": {},
     "output_type": "execute_result"
    }
   ],
   "source": [
    "df.duplicated().sum()"
   ]
  },
  {
   "cell_type": "code",
   "execution_count": 9,
   "id": "50bada8c",
   "metadata": {},
   "outputs": [
    {
     "data": {
      "text/html": [
       "<div>\n",
       "<style scoped>\n",
       "    .dataframe tbody tr th:only-of-type {\n",
       "        vertical-align: middle;\n",
       "    }\n",
       "\n",
       "    .dataframe tbody tr th {\n",
       "        vertical-align: top;\n",
       "    }\n",
       "\n",
       "    .dataframe thead th {\n",
       "        text-align: right;\n",
       "    }\n",
       "</style>\n",
       "<table border=\"1\" class=\"dataframe\">\n",
       "  <thead>\n",
       "    <tr style=\"text-align: right;\">\n",
       "      <th></th>\n",
       "      <th>ID</th>\n",
       "      <th>age</th>\n",
       "      <th>balance</th>\n",
       "      <th>day</th>\n",
       "      <th>duration</th>\n",
       "      <th>campaign</th>\n",
       "      <th>pdays</th>\n",
       "      <th>previous</th>\n",
       "    </tr>\n",
       "  </thead>\n",
       "  <tbody>\n",
       "    <tr>\n",
       "      <th>count</th>\n",
       "      <td>31647.000000</td>\n",
       "      <td>31647.000000</td>\n",
       "      <td>31647.000000</td>\n",
       "      <td>31647.000000</td>\n",
       "      <td>31647.000000</td>\n",
       "      <td>31647.000000</td>\n",
       "      <td>31647.000000</td>\n",
       "      <td>31647.000000</td>\n",
       "    </tr>\n",
       "    <tr>\n",
       "      <th>mean</th>\n",
       "      <td>22563.972162</td>\n",
       "      <td>40.957247</td>\n",
       "      <td>1363.890258</td>\n",
       "      <td>15.835466</td>\n",
       "      <td>258.113534</td>\n",
       "      <td>2.765697</td>\n",
       "      <td>39.576042</td>\n",
       "      <td>0.574272</td>\n",
       "    </tr>\n",
       "    <tr>\n",
       "      <th>std</th>\n",
       "      <td>13075.936990</td>\n",
       "      <td>10.625134</td>\n",
       "      <td>3028.304293</td>\n",
       "      <td>8.337097</td>\n",
       "      <td>257.118973</td>\n",
       "      <td>3.113830</td>\n",
       "      <td>99.317592</td>\n",
       "      <td>2.422529</td>\n",
       "    </tr>\n",
       "    <tr>\n",
       "      <th>min</th>\n",
       "      <td>2.000000</td>\n",
       "      <td>18.000000</td>\n",
       "      <td>-8019.000000</td>\n",
       "      <td>1.000000</td>\n",
       "      <td>0.000000</td>\n",
       "      <td>1.000000</td>\n",
       "      <td>-1.000000</td>\n",
       "      <td>0.000000</td>\n",
       "    </tr>\n",
       "    <tr>\n",
       "      <th>25%</th>\n",
       "      <td>11218.000000</td>\n",
       "      <td>33.000000</td>\n",
       "      <td>73.000000</td>\n",
       "      <td>8.000000</td>\n",
       "      <td>104.000000</td>\n",
       "      <td>1.000000</td>\n",
       "      <td>-1.000000</td>\n",
       "      <td>0.000000</td>\n",
       "    </tr>\n",
       "    <tr>\n",
       "      <th>50%</th>\n",
       "      <td>22519.000000</td>\n",
       "      <td>39.000000</td>\n",
       "      <td>450.000000</td>\n",
       "      <td>16.000000</td>\n",
       "      <td>180.000000</td>\n",
       "      <td>2.000000</td>\n",
       "      <td>-1.000000</td>\n",
       "      <td>0.000000</td>\n",
       "    </tr>\n",
       "    <tr>\n",
       "      <th>75%</th>\n",
       "      <td>33879.500000</td>\n",
       "      <td>48.000000</td>\n",
       "      <td>1431.000000</td>\n",
       "      <td>21.000000</td>\n",
       "      <td>318.500000</td>\n",
       "      <td>3.000000</td>\n",
       "      <td>-1.000000</td>\n",
       "      <td>0.000000</td>\n",
       "    </tr>\n",
       "    <tr>\n",
       "      <th>max</th>\n",
       "      <td>45211.000000</td>\n",
       "      <td>95.000000</td>\n",
       "      <td>102127.000000</td>\n",
       "      <td>31.000000</td>\n",
       "      <td>4918.000000</td>\n",
       "      <td>63.000000</td>\n",
       "      <td>871.000000</td>\n",
       "      <td>275.000000</td>\n",
       "    </tr>\n",
       "  </tbody>\n",
       "</table>\n",
       "</div>"
      ],
      "text/plain": [
       "                 ID           age        balance           day      duration  \\\n",
       "count  31647.000000  31647.000000   31647.000000  31647.000000  31647.000000   \n",
       "mean   22563.972162     40.957247    1363.890258     15.835466    258.113534   \n",
       "std    13075.936990     10.625134    3028.304293      8.337097    257.118973   \n",
       "min        2.000000     18.000000   -8019.000000      1.000000      0.000000   \n",
       "25%    11218.000000     33.000000      73.000000      8.000000    104.000000   \n",
       "50%    22519.000000     39.000000     450.000000     16.000000    180.000000   \n",
       "75%    33879.500000     48.000000    1431.000000     21.000000    318.500000   \n",
       "max    45211.000000     95.000000  102127.000000     31.000000   4918.000000   \n",
       "\n",
       "           campaign         pdays      previous  \n",
       "count  31647.000000  31647.000000  31647.000000  \n",
       "mean       2.765697     39.576042      0.574272  \n",
       "std        3.113830     99.317592      2.422529  \n",
       "min        1.000000     -1.000000      0.000000  \n",
       "25%        1.000000     -1.000000      0.000000  \n",
       "50%        2.000000     -1.000000      0.000000  \n",
       "75%        3.000000     -1.000000      0.000000  \n",
       "max       63.000000    871.000000    275.000000  "
      ]
     },
     "execution_count": 9,
     "metadata": {},
     "output_type": "execute_result"
    }
   ],
   "source": [
    "df.describe()"
   ]
  },
  {
   "cell_type": "code",
   "execution_count": 10,
   "id": "1f6dce12",
   "metadata": {},
   "outputs": [
    {
     "name": "stdout",
     "output_type": "stream",
     "text": [
      "<class 'pandas.core.frame.DataFrame'>\n",
      "RangeIndex: 31647 entries, 0 to 31646\n",
      "Data columns (total 18 columns):\n",
      " #   Column      Non-Null Count  Dtype \n",
      "---  ------      --------------  ----- \n",
      " 0   ID          31647 non-null  int64 \n",
      " 1   age         31647 non-null  int64 \n",
      " 2   job         31647 non-null  object\n",
      " 3   marital     31647 non-null  object\n",
      " 4   education   31647 non-null  object\n",
      " 5   default     31647 non-null  object\n",
      " 6   balance     31647 non-null  int64 \n",
      " 7   housing     31647 non-null  object\n",
      " 8   loan        31647 non-null  object\n",
      " 9   contact     31647 non-null  object\n",
      " 10  day         31647 non-null  int64 \n",
      " 11  month       31647 non-null  object\n",
      " 12  duration    31647 non-null  int64 \n",
      " 13  campaign    31647 non-null  int64 \n",
      " 14  pdays       31647 non-null  int64 \n",
      " 15  previous    31647 non-null  int64 \n",
      " 16  poutcome    31647 non-null  object\n",
      " 17  subscribed  31647 non-null  object\n",
      "dtypes: int64(8), object(10)\n",
      "memory usage: 4.3+ MB\n"
     ]
    }
   ],
   "source": [
    "df.info()"
   ]
  },
  {
   "cell_type": "markdown",
   "id": "ff47a48f",
   "metadata": {},
   "source": [
    "### Explore the Catagorical Features:"
   ]
  },
  {
   "cell_type": "code",
   "execution_count": 11,
   "id": "6527c74e",
   "metadata": {},
   "outputs": [
    {
     "data": {
      "text/plain": [
       "['job',\n",
       " 'marital',\n",
       " 'education',\n",
       " 'default',\n",
       " 'housing',\n",
       " 'loan',\n",
       " 'contact',\n",
       " 'month',\n",
       " 'poutcome']"
      ]
     },
     "execution_count": 11,
     "metadata": {},
     "output_type": "execute_result"
    }
   ],
   "source": [
    "categorical_features=[feature for feature in df.columns if ((df[feature].dtypes=='O')& (feature not in['subscribed']))]\n",
    "categorical_features"
   ]
  },
  {
   "cell_type": "markdown",
   "id": "6175bfa1",
   "metadata": {},
   "source": [
    " .There is 9 catagorical features"
   ]
  },
  {
   "cell_type": "markdown",
   "id": "5ba1d447",
   "metadata": {},
   "source": [
    "### Find Categorical features Distriution:"
   ]
  },
  {
   "cell_type": "code",
   "execution_count": 12,
   "id": "eb72c4ab",
   "metadata": {},
   "outputs": [
    {
     "name": "stdout",
     "output_type": "stream",
     "text": [
      "blue-collar      6842\n",
      "management       6639\n",
      "technician       5307\n",
      "admin.           3631\n",
      "services         2903\n",
      "retired          1574\n",
      "self-employed    1123\n",
      "entrepreneur     1008\n",
      "unemployed        905\n",
      "housemaid         874\n",
      "student           635\n",
      "unknown           206\n",
      "Name: job, dtype: int64\n"
     ]
    },
    {
     "data": {
      "text/plain": [
       "<AxesSubplot:xlabel='job', ylabel='count'>"
      ]
     },
     "execution_count": 12,
     "metadata": {},
     "output_type": "execute_result"
    },
    {
     "data": {
      "image/png": "[encoded data removed]",
      "text/plain": [
       "<Figure size 1080x720 with 1 Axes>"
      ]
     },
     "metadata": {
      "needs_background": "light"
     },
     "output_type": "display_data"
    }
   ],
   "source": [
    "plt.figure(figsize=(15,10))\n",
    "print((df['job'].value_counts()))\n",
    "sns.countplot(df['job'])"
   ]
  },
  {
   "cell_type": "code",
   "execution_count": 13,
   "id": "e7cb4c1e",
   "metadata": {},
   "outputs": [
    {
     "name": "stdout",
     "output_type": "stream",
     "text": [
      "married     19095\n",
      "single       8922\n",
      "divorced     3630\n",
      "Name: marital, dtype: int64\n"
     ]
    },
    {
     "data": {
      "text/plain": [
       "<AxesSubplot:xlabel='marital', ylabel='count'>"
      ]
     },
     "execution_count": 13,
     "metadata": {},
     "output_type": "execute_result"
    },
    {
     "data": {
      "image/png": "[encoded data removed]",
      "text/plain": [
       "<Figure size 720x360 with 1 Axes>"
      ]
     },
     "metadata": {
      "needs_background": "light"
     },
     "output_type": "display_data"
    }
   ],
   "source": [
    "plt.figure(figsize=(10,5))\n",
    "print((df['marital'].value_counts()))\n",
    "sns.countplot(df['marital'])"
   ]
  },
  {
   "cell_type": "code",
   "execution_count": 14,
   "id": "6edf12fd",
   "metadata": {},
   "outputs": [
    {
     "name": "stdout",
     "output_type": "stream",
     "text": [
      "secondary    16224\n",
      "tertiary      9301\n",
      "primary       4808\n",
      "unknown       1314\n",
      "Name: education, dtype: int64\n"
     ]
    },
    {
     "data": {
      "text/plain": [
       "<AxesSubplot:xlabel='education', ylabel='count'>"
      ]
     },
     "execution_count": 14,
     "metadata": {},
     "output_type": "execute_result"
    },
    {
     "data": {
      "image/png": "[encoded data removed]",
      "text/plain": [
       "<Figure size 720x360 with 1 Axes>"
      ]
     },
     "metadata": {
      "needs_background": "light"
     },
     "output_type": "display_data"
    }
   ],
   "source": [
    "plt.figure(figsize=(10,5))\n",
    "print((df['education'].value_counts()))\n",
    "sns.countplot(df['education'])"
   ]
  },
  {
   "cell_type": "code",
   "execution_count": 15,
   "id": "d27bd08b",
   "metadata": {},
   "outputs": [
    {
     "name": "stdout",
     "output_type": "stream",
     "text": [
      "no     31062\n",
      "yes      585\n",
      "Name: default, dtype: int64\n"
     ]
    },
    {
     "data": {
      "text/plain": [
       "<AxesSubplot:xlabel='default', ylabel='count'>"
      ]
     },
     "execution_count": 15,
     "metadata": {},
     "output_type": "execute_result"
    },
    {
     "data": {
      "image/png": "[encoded data removed]",
      "text/plain": [
       "<Figure size 648x360 with 1 Axes>"
      ]
     },
     "metadata": {
      "needs_background": "light"
     },
     "output_type": "display_data"
    }
   ],
   "source": [
    "plt.figure(figsize=(9,5))\n",
    "print((df['default'].value_counts()))\n",
    "sns.countplot(df['default'])"
   ]
  },
  {
   "cell_type": "code",
   "execution_count": 16,
   "id": "529adb07",
   "metadata": {},
   "outputs": [
    {
     "name": "stdout",
     "output_type": "stream",
     "text": [
      "yes    17584\n",
      "no     14063\n",
      "Name: housing, dtype: int64\n"
     ]
    },
    {
     "data": {
      "text/plain": [
       "<AxesSubplot:xlabel='housing', ylabel='count'>"
      ]
     },
     "execution_count": 16,
     "metadata": {},
     "output_type": "execute_result"
    },
    {
     "data": {
      "image/png": "[encoded data removed]",
      "text/plain": [
       "<Figure size 648x360 with 1 Axes>"
      ]
     },
     "metadata": {
      "needs_background": "light"
     },
     "output_type": "display_data"
    }
   ],
   "source": [
    "plt.figure(figsize=(9,5))\n",
    "print((df['housing'].value_counts()))\n",
    "sns.countplot(df['housing'])"
   ]
  },
  {
   "cell_type": "code",
   "execution_count": 17,
   "id": "7017c304",
   "metadata": {},
   "outputs": [
    {
     "name": "stdout",
     "output_type": "stream",
     "text": [
      "no     26516\n",
      "yes     5131\n",
      "Name: loan, dtype: int64\n"
     ]
    },
    {
     "data": {
      "text/plain": [
       "<AxesSubplot:xlabel='loan', ylabel='count'>"
      ]
     },
     "execution_count": 17,
     "metadata": {},
     "output_type": "execute_result"
    },
    {
     "data": {
      "image/png": "[encoded data removed]",
      "text/plain": [
       "<Figure size 648x360 with 1 Axes>"
      ]
     },
     "metadata": {
      "needs_background": "light"
     },
     "output_type": "display_data"
    }
   ],
   "source": [
    "plt.figure(figsize=(9,5))\n",
    "print((df['loan'].value_counts()))\n",
    "sns.countplot(df['loan'])"
   ]
  },
  {
   "cell_type": "code",
   "execution_count": 18,
   "id": "ba4d9da5",
   "metadata": {},
   "outputs": [
    {
     "name": "stdout",
     "output_type": "stream",
     "text": [
      "cellular     20423\n",
      "unknown       9177\n",
      "telephone     2047\n",
      "Name: contact, dtype: int64\n"
     ]
    },
    {
     "data": {
      "text/plain": [
       "<AxesSubplot:xlabel='contact', ylabel='count'>"
      ]
     },
     "execution_count": 18,
     "metadata": {},
     "output_type": "execute_result"
    },
    {
     "data": {
      "image/png": "[encoded data removed]",
      "text/plain": [
       "<Figure size 648x360 with 1 Axes>"
      ]
     },
     "metadata": {
      "needs_background": "light"
     },
     "output_type": "display_data"
    }
   ],
   "source": [
    "plt.figure(figsize=(9,5))\n",
    "print((df['contact'].value_counts()))\n",
    "sns.countplot(df['contact'])"
   ]
  },
  {
   "cell_type": "code",
   "execution_count": 19,
   "id": "1b203e80",
   "metadata": {},
   "outputs": [
    {
     "name": "stdout",
     "output_type": "stream",
     "text": [
      "may    9669\n",
      "jul    4844\n",
      "aug    4333\n",
      "jun    3738\n",
      "nov    2783\n",
      "apr    2055\n",
      "feb    1827\n",
      "jan     977\n",
      "oct     512\n",
      "sep     410\n",
      "mar     342\n",
      "dec     157\n",
      "Name: month, dtype: int64\n"
     ]
    },
    {
     "data": {
      "text/plain": [
       "<AxesSubplot:xlabel='month', ylabel='count'>"
      ]
     },
     "execution_count": 19,
     "metadata": {},
     "output_type": "execute_result"
    },
    {
     "data": {
      "image/png": "[encoded data removed]",
      "text/plain": [
       "<Figure size 648x360 with 1 Axes>"
      ]
     },
     "metadata": {
      "needs_background": "light"
     },
     "output_type": "display_data"
    }
   ],
   "source": [
    "plt.figure(figsize=(9,5))\n",
    "print((df['month'].value_counts()))\n",
    "sns.countplot(df['month'])"
   ]
  },
  {
   "cell_type": "code",
   "execution_count": 20,
   "id": "b11751ac",
   "metadata": {},
   "outputs": [
    {
     "name": "stdout",
     "output_type": "stream",
     "text": [
      "unknown    25929\n",
      "failure     3362\n",
      "other       1288\n",
      "success     1068\n",
      "Name: poutcome, dtype: int64\n"
     ]
    },
    {
     "data": {
      "text/plain": [
       "<AxesSubplot:xlabel='poutcome', ylabel='count'>"
      ]
     },
     "execution_count": 20,
     "metadata": {},
     "output_type": "execute_result"
    },
    {
     "data": {
      "image/png": "[encoded data removed]",
      "text/plain": [
       "<Figure size 648x360 with 1 Axes>"
      ]
     },
     "metadata": {
      "needs_background": "light"
     },
     "output_type": "display_data"
    }
   ],
   "source": [
    "plt.figure(figsize=(9,5))\n",
    "print((df['poutcome'].value_counts()))\n",
    "sns.countplot(df['poutcome'])"
   ]
  },
  {
   "cell_type": "markdown",
   "id": "18c26d54",
   "metadata": {},
   "source": [
    "### upper observation:"
   ]
  },
  {
   "cell_type": "raw",
   "id": "90450871",
   "metadata": {},
   "source": [
    ".Client with job type as blue-collor records are high in given dataset and hosemade are very less.\n",
    ".Client who married are high in records in given dataset and devorsed are less.\n",
    ".Client whoes education background is secondary are in high numbers in given dataset.\n",
    ".Default feature seems to be does not play important role as it has value of no at high ratio to value yes which can drop.\n",
    ".data in month may is higher then others."
   ]
  },
  {
   "cell_type": "markdown",
   "id": "f4c2ff13",
   "metadata": {},
   "source": [
    "### Relationship between Categorical Features and Label"
   ]
  },
  {
   "cell_type": "code",
   "execution_count": 21,
   "id": "02f236f6",
   "metadata": {},
   "outputs": [
    {
     "data": {
      "image/png": "[encoded data removed]",
      "text/plain": [
       "<Figure size 4320x360 with 12 Axes>"
      ]
     },
     "metadata": {
      "needs_background": "light"
     },
     "output_type": "display_data"
    },
    {
     "data": {
      "image/png": "[encoded data removed]",
      "text/plain": [
       "<Figure size 1080x360 with 3 Axes>"
      ]
     },
     "metadata": {
      "needs_background": "light"
     },
     "output_type": "display_data"
    },
    {
     "data": {
      "image/png": "[encoded data removed]",
      "text/plain": [
       "<Figure size 1440x360 with 4 Axes>"
      ]
     },
     "metadata": {
      "needs_background": "light"
     },
     "output_type": "display_data"
    },
    {
     "data": {
      "image/png": "[encoded data removed]",
      "text/plain": [
       "<Figure size 720x360 with 2 Axes>"
      ]
     },
     "metadata": {
      "needs_background": "light"
     },
     "output_type": "display_data"
    },
    {
     "data": {
      "image/png": "[encoded data removed]",
      "text/plain": [
       "<Figure size 720x360 with 2 Axes>"
      ]
     },
     "metadata": {
      "needs_background": "light"
     },
     "output_type": "display_data"
    },
    {
     "data": {
      "image/png": "[encoded data removed]",
      "text/plain": [
       "<Figure size 720x360 with 2 Axes>"
      ]
     },
     "metadata": {
      "needs_background": "light"
     },
     "output_type": "display_data"
    },
    {
     "data": {
      "image/png": "[encoded data removed]",
      "text/plain": [
       "<Figure size 1080x360 with 3 Axes>"
      ]
     },
     "metadata": {
      "needs_background": "light"
     },
     "output_type": "display_data"
    },
    {
     "data": {
      "image/png": "[encoded data removed]",
      "text/plain": [
       "<Figure size 4320x360 with 12 Axes>"
      ]
     },
     "metadata": {
      "needs_background": "light"
     },
     "output_type": "display_data"
    },
    {
     "data": {
      "image/png": "[encoded data removed]",
      "text/plain": [
       "<Figure size 1440x360 with 4 Axes>"
      ]
     },
     "metadata": {
      "needs_background": "light"
     },
     "output_type": "display_data"
    }
   ],
   "source": [
    "for categorical_feature in categorical_features:\n",
    "    sns.catplot(x='subscribed',col=categorical_feature,kind='count',data=df)\n",
    "plt.show()"
   ]
  },
  {
   "cell_type": "code",
   "execution_count": 22,
   "id": "30cb8e61",
   "metadata": {},
   "outputs": [
    {
     "name": "stdout",
     "output_type": "stream",
     "text": [
      "subscribed  job          \n",
      "no          admin.           3179\n",
      "            blue-collar      6353\n",
      "            entrepreneur      923\n",
      "            housemaid         795\n",
      "            management       5716\n",
      "            retired          1212\n",
      "            self-employed     983\n",
      "            services         2649\n",
      "            student           453\n",
      "            technician       4713\n",
      "            unemployed        776\n",
      "            unknown           180\n",
      "yes         admin.            452\n",
      "            blue-collar       489\n",
      "            entrepreneur       85\n",
      "            housemaid          79\n",
      "            management        923\n",
      "            retired           362\n",
      "            self-employed     140\n",
      "            services          254\n",
      "            student           182\n",
      "            technician        594\n",
      "            unemployed        129\n",
      "            unknown            26\n",
      "dtype: int64\n",
      "subscribed  marital \n",
      "no          divorced     3185\n",
      "            married     17176\n",
      "            single       7571\n",
      "yes         divorced      445\n",
      "            married      1919\n",
      "            single       1351\n",
      "dtype: int64\n",
      "subscribed  education\n",
      "no          primary       4381\n",
      "            secondary    14527\n",
      "            tertiary      7886\n",
      "            unknown       1138\n",
      "yes         primary        427\n",
      "            secondary     1697\n",
      "            tertiary      1415\n",
      "            unknown        176\n",
      "dtype: int64\n",
      "subscribed  default\n",
      "no          no         27388\n",
      "            yes          544\n",
      "yes         no          3674\n",
      "            yes           41\n",
      "dtype: int64\n",
      "subscribed  housing\n",
      "no          no         11698\n",
      "            yes        16234\n",
      "yes         no          2365\n",
      "            yes         1350\n",
      "dtype: int64\n",
      "subscribed  loan\n",
      "no          no      23132\n",
      "            yes      4800\n",
      "yes         no       3384\n",
      "            yes       331\n",
      "dtype: int64\n",
      "subscribed  contact  \n",
      "no          cellular     17352\n",
      "            telephone     1779\n",
      "            unknown       8801\n",
      "yes         cellular      3071\n",
      "            telephone      268\n",
      "            unknown        376\n",
      "dtype: int64\n",
      "subscribed  month\n",
      "no          apr      1671\n",
      "            aug      3813\n",
      "            dec        85\n",
      "            feb      1522\n",
      "            jan       880\n",
      "            jul      4403\n",
      "            jun      3355\n",
      "            mar       168\n",
      "            may      9020\n",
      "            nov      2508\n",
      "            oct       288\n",
      "            sep       219\n",
      "yes         apr       384\n",
      "            aug       520\n",
      "            dec        72\n",
      "            feb       305\n",
      "            jan        97\n",
      "            jul       441\n",
      "            jun       383\n",
      "            mar       174\n",
      "            may       649\n",
      "            nov       275\n",
      "            oct       224\n",
      "            sep       191\n",
      "dtype: int64\n",
      "subscribed  poutcome\n",
      "no          failure      2931\n",
      "            other        1071\n",
      "            success       374\n",
      "            unknown     23556\n",
      "yes         failure       431\n",
      "            other         217\n",
      "            success       694\n",
      "            unknown      2373\n",
      "dtype: int64\n"
     ]
    }
   ],
   "source": [
    "# Check target label split  over categorical features and find the count\n",
    "for categorical_feature in categorical_features:\n",
    "    print(df.groupby(['subscribed',categorical_feature]).size())"
   ]
  },
  {
   "cell_type": "markdown",
   "id": "f19745c4",
   "metadata": {},
   "source": [
    "### observation:"
   ]
  },
  {
   "cell_type": "raw",
   "id": "56cc17ce",
   "metadata": {},
   "source": [
    ".blue-collar client has high intrest to subscribed(diposit)\n",
    ".Client wh has housing loan seems to be nt intrested on deposit.\n",
    ".In Poutcome there is high chances of client to show intrested on diposit.\n",
    ".In month of March,September,Octuber and December,client show high intreset to diposit.\n",
    ".In month of may recordes are high but client intrest ratio is very less."
   ]
  },
  {
   "cell_type": "markdown",
   "id": "cf6211fc",
   "metadata": {},
   "source": [
    "### Let's find the Continous Numerical Features:"
   ]
  },
  {
   "cell_type": "code",
   "execution_count": 23,
   "id": "74f9a9a9",
   "metadata": {},
   "outputs": [
    {
     "name": "stdout",
     "output_type": "stream",
     "text": [
      "Number of Numerical variables: 8\n"
     ]
    },
    {
     "data": {
      "text/html": [
       "<div>\n",
       "<style scoped>\n",
       "    .dataframe tbody tr th:only-of-type {\n",
       "        vertical-align: middle;\n",
       "    }\n",
       "\n",
       "    .dataframe tbody tr th {\n",
       "        vertical-align: top;\n",
       "    }\n",
       "\n",
       "    .dataframe thead th {\n",
       "        text-align: right;\n",
       "    }\n",
       "</style>\n",
       "<table border=\"1\" class=\"dataframe\">\n",
       "  <thead>\n",
       "    <tr style=\"text-align: right;\">\n",
       "      <th></th>\n",
       "      <th>ID</th>\n",
       "      <th>age</th>\n",
       "      <th>balance</th>\n",
       "      <th>day</th>\n",
       "      <th>duration</th>\n",
       "      <th>campaign</th>\n",
       "      <th>pdays</th>\n",
       "      <th>previous</th>\n",
       "    </tr>\n",
       "  </thead>\n",
       "  <tbody>\n",
       "    <tr>\n",
       "      <th>0</th>\n",
       "      <td>26110</td>\n",
       "      <td>56</td>\n",
       "      <td>1933</td>\n",
       "      <td>19</td>\n",
       "      <td>44</td>\n",
       "      <td>2</td>\n",
       "      <td>-1</td>\n",
       "      <td>0</td>\n",
       "    </tr>\n",
       "    <tr>\n",
       "      <th>1</th>\n",
       "      <td>40576</td>\n",
       "      <td>31</td>\n",
       "      <td>3</td>\n",
       "      <td>20</td>\n",
       "      <td>91</td>\n",
       "      <td>2</td>\n",
       "      <td>-1</td>\n",
       "      <td>0</td>\n",
       "    </tr>\n",
       "    <tr>\n",
       "      <th>2</th>\n",
       "      <td>15320</td>\n",
       "      <td>27</td>\n",
       "      <td>891</td>\n",
       "      <td>18</td>\n",
       "      <td>240</td>\n",
       "      <td>1</td>\n",
       "      <td>-1</td>\n",
       "      <td>0</td>\n",
       "    </tr>\n",
       "    <tr>\n",
       "      <th>3</th>\n",
       "      <td>43962</td>\n",
       "      <td>57</td>\n",
       "      <td>3287</td>\n",
       "      <td>22</td>\n",
       "      <td>867</td>\n",
       "      <td>1</td>\n",
       "      <td>84</td>\n",
       "      <td>3</td>\n",
       "    </tr>\n",
       "    <tr>\n",
       "      <th>4</th>\n",
       "      <td>29842</td>\n",
       "      <td>31</td>\n",
       "      <td>119</td>\n",
       "      <td>4</td>\n",
       "      <td>380</td>\n",
       "      <td>1</td>\n",
       "      <td>-1</td>\n",
       "      <td>0</td>\n",
       "    </tr>\n",
       "  </tbody>\n",
       "</table>\n",
       "</div>"
      ],
      "text/plain": [
       "      ID  age  balance  day  duration  campaign  pdays  previous\n",
       "0  26110   56     1933   19        44         2     -1         0\n",
       "1  40576   31        3   20        91         2     -1         0\n",
       "2  15320   27      891   18       240         1     -1         0\n",
       "3  43962   57     3287   22       867         1     84         3\n",
       "4  29842   31      119    4       380         1     -1         0"
      ]
     },
     "execution_count": 23,
     "metadata": {},
     "output_type": "execute_result"
    }
   ],
   "source": [
    "#list f numerical features\n",
    "numerical_features = [feature for feature in df.columns if ((df[feature].dtypes !='O') &(feature not in ['subscribed']))]\n",
    "print('Number of Numerical variables:',len(numerical_features))\n",
    "\n",
    "df[numerical_features].head()"
   ]
  },
  {
   "cell_type": "markdown",
   "id": "08783e9a",
   "metadata": {},
   "source": [
    "there are 8 numerical features."
   ]
  },
  {
   "cell_type": "code",
   "execution_count": 24,
   "id": "6ba0f29c",
   "metadata": {},
   "outputs": [
    {
     "name": "stdout",
     "output_type": "stream",
     "text": [
      "Discrete The Variable Count: 0\n"
     ]
    }
   ],
   "source": [
    "# find the Discreat Numerical Features\n",
    "discrete_feature=[feature for feature in numerical_features if len(df[feature].unique())<25]\n",
    "print(\"Discrete The Variable Count: {}\".format(len(discrete_feature)))"
   ]
  },
  {
   "cell_type": "markdown",
   "id": "dc38d4fa",
   "metadata": {},
   "source": [
    "There is no descrete value of given dataset."
   ]
  },
  {
   "cell_type": "code",
   "execution_count": 25,
   "id": "b70b3ae5",
   "metadata": {},
   "outputs": [
    {
     "name": "stdout",
     "output_type": "stream",
     "text": [
      "Continous feature Count{} 8\n"
     ]
    }
   ],
   "source": [
    "continous_features = [feature for feature in numerical_features if feature not in discrete_feature+['subscribed']]\n",
    "print(\"Continous feature Count{}\",format(len(continous_features)))"
   ]
  },
  {
   "cell_type": "markdown",
   "id": "157c40a3",
   "metadata": {},
   "source": [
    "### Distribution of continos Fatures:"
   ]
  },
  {
   "cell_type": "code",
   "execution_count": 26,
   "id": "13de51b1",
   "metadata": {},
   "outputs": [
    {
     "name": "stdout",
     "output_type": "stream",
     "text": [
      "0.6816067818884382\n",
      "0.2979752561545168\n"
     ]
    },
    {
     "data": {
      "image/png": "[encoded data removed]",
      "text/plain": [
       "<Figure size 432x288 with 1 Axes>"
      ]
     },
     "metadata": {
      "needs_background": "light"
     },
     "output_type": "display_data"
    }
   ],
   "source": [
    "# distribution with Age.\n",
    "sns.distplot(df['age'])\n",
    "\n",
    "print(df['age'].skew())\n",
    "\n",
    "print(df['age'].kurt())"
   ]
  },
  {
   "cell_type": "code",
   "execution_count": 27,
   "id": "a349d1ee",
   "metadata": {},
   "outputs": [
    {
     "name": "stdout",
     "output_type": "stream",
     "text": [
      "7.995695573886313\n",
      "126.4512830433201\n"
     ]
    },
    {
     "data": {
      "image/png": "[encoded data removed]",
      "text/plain": [
       "<Figure size 432x288 with 1 Axes>"
      ]
     },
     "metadata": {
      "needs_background": "light"
     },
     "output_type": "display_data"
    }
   ],
   "source": [
    "# disribution of balance\n",
    "sns.distplot(df['balance'])\n",
    "\n",
    "print(df['balance'].skew())\n",
    "\n",
    "print(df['balance'].kurt())"
   ]
  },
  {
   "cell_type": "code",
   "execution_count": 28,
   "id": "8d89d609",
   "metadata": {},
   "outputs": [
    {
     "name": "stdout",
     "output_type": "stream",
     "text": [
      "0.08718543483770899\n",
      "-1.0673970109865178\n"
     ]
    },
    {
     "data": {
      "image/png": "[encoded data removed]",
      "text/plain": [
       "<Figure size 432x288 with 1 Axes>"
      ]
     },
     "metadata": {
      "needs_background": "light"
     },
     "output_type": "display_data"
    }
   ],
   "source": [
    "# distibution of day\n",
    "sns.distplot(df['day'])\n",
    "\n",
    "print(df['day'].skew())\n",
    "\n",
    "print(df['day'].kurt())"
   ]
  },
  {
   "cell_type": "code",
   "execution_count": 29,
   "id": "517f66bf",
   "metadata": {},
   "outputs": [
    {
     "name": "stdout",
     "output_type": "stream",
     "text": [
      "3.1997657339236736\n",
      "19.48762713706081\n"
     ]
    },
    {
     "data": {
      "image/png": "[encoded data removed]",
      "text/plain": [
       "<Figure size 432x288 with 1 Axes>"
      ]
     },
     "metadata": {
      "needs_background": "light"
     },
     "output_type": "display_data"
    }
   ],
   "source": [
    "# distribution of duration\n",
    "sns.distplot(df['duration'])\n",
    "\n",
    "print(df['duration'].skew())\n",
    "\n",
    "print(df['duration'].kurt())"
   ]
  },
  {
   "cell_type": "code",
   "execution_count": 30,
   "id": "a8de34ff",
   "metadata": {},
   "outputs": [
    {
     "name": "stdout",
     "output_type": "stream",
     "text": [
      "4.873934933081073\n",
      "38.05799531921156\n"
     ]
    },
    {
     "data": {
      "image/png": "[encoded data removed]",
      "text/plain": [
       "<Figure size 432x288 with 1 Axes>"
      ]
     },
     "metadata": {
      "needs_background": "light"
     },
     "output_type": "display_data"
    }
   ],
   "source": [
    "#distributin of campaign\n",
    "sns.distplot(df['campaign'])\n",
    "\n",
    "print(df['campaign'].skew())\n",
    "print(df['campaign'].kurt())"
   ]
  },
  {
   "cell_type": "code",
   "execution_count": 31,
   "id": "aa866dc0",
   "metadata": {},
   "outputs": [
    {
     "name": "stdout",
     "output_type": "stream",
     "text": [
      "2.642374162969253\n",
      "7.111294692528443\n"
     ]
    },
    {
     "data": {
      "image/png": "[encoded data removed]",
      "text/plain": [
       "<Figure size 432x288 with 1 Axes>"
      ]
     },
     "metadata": {
      "needs_background": "light"
     },
     "output_type": "display_data"
    }
   ],
   "source": [
    "# distribution of pdays\n",
    "sns.distplot(df['pdays'])\n",
    "print(df['pdays'].skew())\n",
    "print(df['pdays'].kurt())"
   ]
  },
  {
   "cell_type": "code",
   "execution_count": 32,
   "id": "6b840372",
   "metadata": {},
   "outputs": [
    {
     "name": "stdout",
     "output_type": "stream",
     "text": [
      "49.30234792386907\n",
      "5236.411573858868\n"
     ]
    },
    {
     "data": {
      "image/png": "[encoded data removed]",
      "text/plain": [
       "<Figure size 432x288 with 1 Axes>"
      ]
     },
     "metadata": {
      "needs_background": "light"
     },
     "output_type": "display_data"
    }
   ],
   "source": [
    "# distribution of previous\n",
    "sns.distplot(df['previous'])\n",
    "print(df['previous'].skew())\n",
    "print(df['previous'].kurt())"
   ]
  },
  {
   "cell_type": "markdown",
   "id": "8450ce99",
   "metadata": {},
   "source": [
    "### Observation"
   ]
  },
  {
   "cell_type": "raw",
   "id": "d2bc4d56",
   "metadata": {},
   "source": [
    ".it seems age  and days column looks like normal distributed.\n",
    ".But Balance,duration,campagin,pdays and previous are heavely skwed and it seems to be some outliers."
   ]
  },
  {
   "cell_type": "markdown",
   "id": "14714145",
   "metadata": {},
   "source": [
    "### Lets check the utliers in numerical values."
   ]
  },
  {
   "cell_type": "code",
   "execution_count": 33,
   "id": "b38dced0",
   "metadata": {},
   "outputs": [
    {
     "data": {
      "image/png": "[encoded data removed]",
      "text/plain": [
       "<Figure size 1440x4320 with 8 Axes>"
      ]
     },
     "metadata": {},
     "output_type": "display_data"
    }
   ],
   "source": [
    "plt.figure(figsize=(20,60),facecolor ='white')\n",
    "plotnumber =1\n",
    "for numerical_feature in numerical_features:\n",
    "    ax=plt.subplot(12,3,plotnumber)\n",
    "    sns.boxplot(df[numerical_feature])\n",
    "    plt.xlabel(numerical_feature)\n",
    "    plotnumber+=1\n",
    "plt.show()"
   ]
  },
  {
   "cell_type": "markdown",
   "id": "bda647ab",
   "metadata": {},
   "source": [
    "### Observation:"
   ]
  },
  {
   "cell_type": "markdown",
   "id": "8836ce29",
   "metadata": {},
   "source": [
    "Age,balance,duration,campagin and pdays has some outliers."
   ]
  },
  {
   "cell_type": "markdown",
   "id": "cc05f889",
   "metadata": {},
   "source": [
    "### Now let us Explore the correlation b/wt the numerical values."
   ]
  },
  {
   "cell_type": "code",
   "execution_count": 34,
   "id": "dfa79c48",
   "metadata": {},
   "outputs": [
    {
     "data": {
      "text/plain": [
       "<AxesSubplot:>"
      ]
     },
     "execution_count": 34,
     "metadata": {},
     "output_type": "execute_result"
    },
    {
     "data": {
      "image/png": "[encoded data removed]",
      "text/plain": [
       "<Figure size 1080x504 with 2 Axes>"
      ]
     },
     "metadata": {
      "needs_background": "light"
     },
     "output_type": "display_data"
    }
   ],
   "source": [
    "# checking the correlation between numerical values\n",
    "plt.figure(figsize=(15,7))\n",
    "sns.heatmap(df.corr(),annot =True)"
   ]
  },
  {
   "cell_type": "markdown",
   "id": "db94f836",
   "metadata": {},
   "source": [
    "as m observation there is no features which are correlated with each other."
   ]
  },
  {
   "cell_type": "markdown",
   "id": "fb1a28bc",
   "metadata": {},
   "source": [
    "### Features Engineering:"
   ]
  },
  {
   "cell_type": "code",
   "execution_count": 35,
   "id": "707fd0dc",
   "metadata": {},
   "outputs": [
    {
     "data": {
      "text/html": [
       "<div>\n",
       "<style scoped>\n",
       "    .dataframe tbody tr th:only-of-type {\n",
       "        vertical-align: middle;\n",
       "    }\n",
       "\n",
       "    .dataframe tbody tr th {\n",
       "        vertical-align: top;\n",
       "    }\n",
       "\n",
       "    .dataframe thead th {\n",
       "        text-align: right;\n",
       "    }\n",
       "</style>\n",
       "<table border=\"1\" class=\"dataframe\">\n",
       "  <thead>\n",
       "    <tr style=\"text-align: right;\">\n",
       "      <th></th>\n",
       "      <th>ID</th>\n",
       "      <th>age</th>\n",
       "      <th>job</th>\n",
       "      <th>marital</th>\n",
       "      <th>education</th>\n",
       "      <th>default</th>\n",
       "      <th>balance</th>\n",
       "      <th>housing</th>\n",
       "      <th>loan</th>\n",
       "      <th>contact</th>\n",
       "      <th>day</th>\n",
       "      <th>month</th>\n",
       "      <th>duration</th>\n",
       "      <th>campaign</th>\n",
       "      <th>pdays</th>\n",
       "      <th>previous</th>\n",
       "      <th>poutcome</th>\n",
       "      <th>subscribed</th>\n",
       "    </tr>\n",
       "  </thead>\n",
       "  <tbody>\n",
       "    <tr>\n",
       "      <th>0</th>\n",
       "      <td>26110</td>\n",
       "      <td>56</td>\n",
       "      <td>admin.</td>\n",
       "      <td>married</td>\n",
       "      <td>unknown</td>\n",
       "      <td>no</td>\n",
       "      <td>1933</td>\n",
       "      <td>no</td>\n",
       "      <td>no</td>\n",
       "      <td>telephone</td>\n",
       "      <td>19</td>\n",
       "      <td>nov</td>\n",
       "      <td>44</td>\n",
       "      <td>2</td>\n",
       "      <td>-1</td>\n",
       "      <td>0</td>\n",
       "      <td>unknown</td>\n",
       "      <td>no</td>\n",
       "    </tr>\n",
       "    <tr>\n",
       "      <th>1</th>\n",
       "      <td>40576</td>\n",
       "      <td>31</td>\n",
       "      <td>unknown</td>\n",
       "      <td>married</td>\n",
       "      <td>secondary</td>\n",
       "      <td>no</td>\n",
       "      <td>3</td>\n",
       "      <td>no</td>\n",
       "      <td>no</td>\n",
       "      <td>cellular</td>\n",
       "      <td>20</td>\n",
       "      <td>jul</td>\n",
       "      <td>91</td>\n",
       "      <td>2</td>\n",
       "      <td>-1</td>\n",
       "      <td>0</td>\n",
       "      <td>unknown</td>\n",
       "      <td>no</td>\n",
       "    </tr>\n",
       "    <tr>\n",
       "      <th>2</th>\n",
       "      <td>15320</td>\n",
       "      <td>27</td>\n",
       "      <td>services</td>\n",
       "      <td>married</td>\n",
       "      <td>secondary</td>\n",
       "      <td>no</td>\n",
       "      <td>891</td>\n",
       "      <td>yes</td>\n",
       "      <td>no</td>\n",
       "      <td>cellular</td>\n",
       "      <td>18</td>\n",
       "      <td>jul</td>\n",
       "      <td>240</td>\n",
       "      <td>1</td>\n",
       "      <td>-1</td>\n",
       "      <td>0</td>\n",
       "      <td>unknown</td>\n",
       "      <td>no</td>\n",
       "    </tr>\n",
       "    <tr>\n",
       "      <th>3</th>\n",
       "      <td>43962</td>\n",
       "      <td>57</td>\n",
       "      <td>management</td>\n",
       "      <td>divorced</td>\n",
       "      <td>tertiary</td>\n",
       "      <td>no</td>\n",
       "      <td>3287</td>\n",
       "      <td>no</td>\n",
       "      <td>no</td>\n",
       "      <td>cellular</td>\n",
       "      <td>22</td>\n",
       "      <td>jun</td>\n",
       "      <td>867</td>\n",
       "      <td>1</td>\n",
       "      <td>84</td>\n",
       "      <td>3</td>\n",
       "      <td>success</td>\n",
       "      <td>yes</td>\n",
       "    </tr>\n",
       "    <tr>\n",
       "      <th>4</th>\n",
       "      <td>29842</td>\n",
       "      <td>31</td>\n",
       "      <td>technician</td>\n",
       "      <td>married</td>\n",
       "      <td>secondary</td>\n",
       "      <td>no</td>\n",
       "      <td>119</td>\n",
       "      <td>yes</td>\n",
       "      <td>no</td>\n",
       "      <td>cellular</td>\n",
       "      <td>4</td>\n",
       "      <td>feb</td>\n",
       "      <td>380</td>\n",
       "      <td>1</td>\n",
       "      <td>-1</td>\n",
       "      <td>0</td>\n",
       "      <td>unknown</td>\n",
       "      <td>no</td>\n",
       "    </tr>\n",
       "  </tbody>\n",
       "</table>\n",
       "</div>"
      ],
      "text/plain": [
       "      ID  age         job   marital  education default  balance housing loan  \\\n",
       "0  26110   56      admin.   married    unknown      no     1933      no   no   \n",
       "1  40576   31     unknown   married  secondary      no        3      no   no   \n",
       "2  15320   27    services   married  secondary      no      891     yes   no   \n",
       "3  43962   57  management  divorced   tertiary      no     3287      no   no   \n",
       "4  29842   31  technician   married  secondary      no      119     yes   no   \n",
       "\n",
       "     contact  day month  duration  campaign  pdays  previous poutcome  \\\n",
       "0  telephone   19   nov        44         2     -1         0  unknown   \n",
       "1   cellular   20   jul        91         2     -1         0  unknown   \n",
       "2   cellular   18   jul       240         1     -1         0  unknown   \n",
       "3   cellular   22   jun       867         1     84         3  success   \n",
       "4   cellular    4   feb       380         1     -1         0  unknown   \n",
       "\n",
       "  subscribed  \n",
       "0         no  \n",
       "1         no  \n",
       "2         no  \n",
       "3        yes  \n",
       "4         no  "
      ]
     },
     "execution_count": 35,
     "metadata": {},
     "output_type": "execute_result"
    }
   ],
   "source": [
    "df.head()"
   ]
  },
  {
   "cell_type": "code",
   "execution_count": 36,
   "id": "3bc09baa",
   "metadata": {},
   "outputs": [
    {
     "data": {
      "text/plain": [
       "subscribed  default\n",
       "no          no         27388\n",
       "            yes          544\n",
       "yes         no          3674\n",
       "            yes           41\n",
       "dtype: int64"
      ]
     },
     "execution_count": 36,
     "metadata": {},
     "output_type": "execute_result"
    }
   ],
   "source": [
    "df.groupby(['subscribed','default']).size()"
   ]
  },
  {
   "cell_type": "markdown",
   "id": "96ebfd6b",
   "metadata": {},
   "source": [
    "here we can see that default features have mostly no value this feature is not imprtant so we can remove this."
   ]
  },
  {
   "cell_type": "code",
   "execution_count": 37,
   "id": "ba363211",
   "metadata": {},
   "outputs": [],
   "source": [
    "# lets drop the default,ID,pdays frm the  column because these column have not important role.\n",
    "df.drop(['default','pdays','ID'],axis=1,inplace=True)"
   ]
  },
  {
   "cell_type": "code",
   "execution_count": 38,
   "id": "f6dc7593",
   "metadata": {},
   "outputs": [
    {
     "data": {
      "text/plain": [
       "age\n",
       "18     8\n",
       "19    22\n",
       "20    39\n",
       "21    48\n",
       "22    86\n",
       "      ..\n",
       "90     1\n",
       "92     1\n",
       "93     1\n",
       "94     1\n",
       "95     1\n",
       "Name: age, Length: 76, dtype: int64"
      ]
     },
     "execution_count": 38,
     "metadata": {},
     "output_type": "execute_result"
    }
   ],
   "source": [
    "# nw let's eleminate the outliers.\n",
    "df.groupby('age',sort=True)['age'].count()\n",
    "#these can be ignored and values lies in between 18 to 95"
   ]
  },
  {
   "cell_type": "code",
   "execution_count": 39,
   "id": "4aa81acd",
   "metadata": {},
   "outputs": [
    {
     "data": {
      "text/plain": [
       "subscribed  balance\n",
       "no          -8019      1\n",
       "            -6847      1\n",
       "            -4057      1\n",
       "            -3372      1\n",
       "            -2712      1\n",
       "                      ..\n",
       "yes          32685     1\n",
       "             36252     1\n",
       "             45248     1\n",
       "             52587     2\n",
       "             81204     1\n",
       "Name: balance, Length: 7969, dtype: int64"
      ]
     },
     "execution_count": 39,
     "metadata": {},
     "output_type": "execute_result"
    }
   ],
   "source": [
    "# nw let's eleminate the outliers.\n",
    "df.groupby(['subscribed','balance'],sort=True)['balance'].count()\n",
    "# these utliers should not be remove as balance goes high ,client show intrest on deposit"
   ]
  },
  {
   "cell_type": "code",
   "execution_count": 40,
   "id": "ebded9cc",
   "metadata": {},
   "outputs": [
    {
     "data": {
      "text/plain": [
       "subscribed  duration\n",
       "no          0            1\n",
       "            2            3\n",
       "            3            3\n",
       "            4           11\n",
       "            5           20\n",
       "                        ..\n",
       "yes         2775         1\n",
       "            3076         1\n",
       "            3102         1\n",
       "            3183         1\n",
       "            3881         1\n",
       "Name: duration, Length: 2381, dtype: int64"
      ]
     },
     "execution_count": 40,
     "metadata": {},
     "output_type": "execute_result"
    }
   ],
   "source": [
    "# nw let's eleminate the outliers.\n",
    "df.groupby(['subscribed','duration'],sort=True)['duration'].count()"
   ]
  },
  {
   "cell_type": "markdown",
   "id": "a751a9a3",
   "metadata": {},
   "source": [
    "this is also same the client show intrested in duration diposits are high so we not going to remove any outliers from this clumn."
   ]
  },
  {
   "cell_type": "code",
   "execution_count": 41,
   "id": "b4e063b0",
   "metadata": {},
   "outputs": [
    {
     "data": {
      "text/plain": [
       "subscribed  campaign\n",
       "no          1           10486\n",
       "            2            7792\n",
       "            3            3439\n",
       "            4            2213\n",
       "            5            1147\n",
       "                        ...  \n",
       "yes         16              2\n",
       "            17              6\n",
       "            20              1\n",
       "            24              1\n",
       "            32              1\n",
       "Name: campaign, Length: 65, dtype: int64"
      ]
     },
     "execution_count": 41,
     "metadata": {},
     "output_type": "execute_result"
    }
   ],
   "source": [
    "# nw let's eleminate the outliers.\n",
    "df.groupby(['subscribed','campaign'],sort=True)['campaign'].count()"
   ]
  },
  {
   "cell_type": "code",
   "execution_count": 42,
   "id": "13b37db3",
   "metadata": {},
   "outputs": [],
   "source": [
    "df = df[df['campaign']<33]"
   ]
  },
  {
   "cell_type": "code",
   "execution_count": 43,
   "id": "eac40ca0",
   "metadata": {},
   "outputs": [
    {
     "data": {
      "text/plain": [
       "subscribed  campaign\n",
       "no          1           10486\n",
       "            2            7792\n",
       "            3            3439\n",
       "            4            2213\n",
       "            5            1147\n",
       "            6             845\n",
       "            7             484\n",
       "            8             335\n",
       "            9             221\n",
       "            10            173\n",
       "            11            115\n",
       "            12            100\n",
       "            13             88\n",
       "            14             65\n",
       "            15             58\n",
       "            16             52\n",
       "            17             46\n",
       "            18             37\n",
       "            19             30\n",
       "            20             36\n",
       "            21             19\n",
       "            22             18\n",
       "            23             13\n",
       "            24             12\n",
       "            25             17\n",
       "            26              9\n",
       "            27              8\n",
       "            28             14\n",
       "            29             12\n",
       "            30              6\n",
       "            31              9\n",
       "            32              5\n",
       "yes         1            1776\n",
       "            2            1006\n",
       "            3             419\n",
       "            4             229\n",
       "            5              98\n",
       "            6              71\n",
       "            7              34\n",
       "            8              21\n",
       "            9              15\n",
       "            10             11\n",
       "            11             11\n",
       "            12              2\n",
       "            13              5\n",
       "            14              3\n",
       "            15              3\n",
       "            16              2\n",
       "            17              6\n",
       "            20              1\n",
       "            24              1\n",
       "            32              1\n",
       "Name: campaign, dtype: int64"
      ]
     },
     "execution_count": 43,
     "metadata": {},
     "output_type": "execute_result"
    }
   ],
   "source": [
    "df.groupby(['subscribed','campaign'],sort=True)['campaign'].count()"
   ]
  },
  {
   "cell_type": "markdown",
   "id": "c8fcd538",
   "metadata": {},
   "source": [
    "Here we remove the outliers which are above the 32"
   ]
  },
  {
   "cell_type": "code",
   "execution_count": 44,
   "id": "06e99e3c",
   "metadata": {},
   "outputs": [
    {
     "data": {
      "text/plain": [
       "subscribed  previous\n",
       "no          0           23525\n",
       "            1            1499\n",
       "            2            1154\n",
       "            3             580\n",
       "            4             382\n",
       "            5             227\n",
       "            6             128\n",
       "            7             102\n",
       "            8              56\n",
       "            9              46\n",
       "            10             33\n",
       "            11             38\n",
       "            12             25\n",
       "            13             22\n",
       "            14              9\n",
       "            15             15\n",
       "            16              8\n",
       "            17              8\n",
       "            18              5\n",
       "            19              7\n",
       "            20              5\n",
       "            21              3\n",
       "            22              3\n",
       "            23              5\n",
       "            24              2\n",
       "            25              4\n",
       "            26              1\n",
       "            27              4\n",
       "            28              1\n",
       "            29              1\n",
       "            32              1\n",
       "            35              1\n",
       "            37              1\n",
       "            38              1\n",
       "            41              1\n",
       "            275             1\n",
       "yes         0            2371\n",
       "            1             422\n",
       "            2             327\n",
       "            3             200\n",
       "            4             119\n",
       "            5              84\n",
       "            6              60\n",
       "            7              36\n",
       "            8              25\n",
       "            9              18\n",
       "            10             16\n",
       "            11              8\n",
       "            12              5\n",
       "            13              8\n",
       "            14              5\n",
       "            17              3\n",
       "            19              1\n",
       "            21              1\n",
       "            22              1\n",
       "            23              1\n",
       "            26              1\n",
       "            29              1\n",
       "            30              1\n",
       "            58              1\n",
       "Name: previous, dtype: int64"
      ]
     },
     "execution_count": 44,
     "metadata": {},
     "output_type": "execute_result"
    }
   ],
   "source": [
    "df.groupby(['subscribed','previous'],sort=True)['previous'].count()"
   ]
  },
  {
   "cell_type": "code",
   "execution_count": 45,
   "id": "608d24a8",
   "metadata": {},
   "outputs": [],
   "source": [
    "df = df[df['previous'] < 31]"
   ]
  },
  {
   "cell_type": "code",
   "execution_count": 46,
   "id": "f49b2498",
   "metadata": {},
   "outputs": [
    {
     "data": {
      "text/plain": [
       "subscribed  previous\n",
       "no          0           23525\n",
       "            1            1499\n",
       "            2            1154\n",
       "            3             580\n",
       "            4             382\n",
       "            5             227\n",
       "            6             128\n",
       "            7             102\n",
       "            8              56\n",
       "            9              46\n",
       "            10             33\n",
       "            11             38\n",
       "            12             25\n",
       "            13             22\n",
       "            14              9\n",
       "            15             15\n",
       "            16              8\n",
       "            17              8\n",
       "            18              5\n",
       "            19              7\n",
       "            20              5\n",
       "            21              3\n",
       "            22              3\n",
       "            23              5\n",
       "            24              2\n",
       "            25              4\n",
       "            26              1\n",
       "            27              4\n",
       "            28              1\n",
       "            29              1\n",
       "yes         0            2371\n",
       "            1             422\n",
       "            2             327\n",
       "            3             200\n",
       "            4             119\n",
       "            5              84\n",
       "            6              60\n",
       "            7              36\n",
       "            8              25\n",
       "            9              18\n",
       "            10             16\n",
       "            11              8\n",
       "            12              5\n",
       "            13              8\n",
       "            14              5\n",
       "            17              3\n",
       "            19              1\n",
       "            21              1\n",
       "            22              1\n",
       "            23              1\n",
       "            26              1\n",
       "            29              1\n",
       "            30              1\n",
       "Name: previous, dtype: int64"
      ]
     },
     "execution_count": 46,
     "metadata": {},
     "output_type": "execute_result"
    }
   ],
   "source": [
    "df.groupby(['subscribed','previous'],sort=True)['previous'].count()"
   ]
  },
  {
   "cell_type": "markdown",
   "id": "962a9ced",
   "metadata": {},
   "source": [
    ".in previous column after 31 we considring as a ouliers.\n",
    ".So we removed these outliers."
   ]
  },
  {
   "cell_type": "markdown",
   "id": "fcb8dea3",
   "metadata": {},
   "source": [
    "### Now lets handale the catagrical features:"
   ]
  },
  {
   "cell_type": "code",
   "execution_count": 47,
   "id": "09eb9971",
   "metadata": {},
   "outputs": [],
   "source": [
    "oneHotCols = ['job','marital','education','contact','month','poutcome']\n",
    "df = pd.get_dummies(df,columns=oneHotCols)"
   ]
  },
  {
   "cell_type": "code",
   "execution_count": 48,
   "id": "75c973e6",
   "metadata": {},
   "outputs": [],
   "source": [
    "bool_columns = ['housing','loan','subscribed']\n",
    "for col in bool_columns:\n",
    "    df[col+'_new']=df[col].apply(lambda x :1 if x =='yes' else 0)\n",
    "    df.drop(col,axis =1,inplace = True)"
   ]
  },
  {
   "cell_type": "code",
   "execution_count": 49,
   "id": "3f84b3b8",
   "metadata": {},
   "outputs": [
    {
     "data": {
      "text/html": [
       "<div>\n",
       "<style scoped>\n",
       "    .dataframe tbody tr th:only-of-type {\n",
       "        vertical-align: middle;\n",
       "    }\n",
       "\n",
       "    .dataframe tbody tr th {\n",
       "        vertical-align: top;\n",
       "    }\n",
       "\n",
       "    .dataframe thead th {\n",
       "        text-align: right;\n",
       "    }\n",
       "</style>\n",
       "<table border=\"1\" class=\"dataframe\">\n",
       "  <thead>\n",
       "    <tr style=\"text-align: right;\">\n",
       "      <th></th>\n",
       "      <th>age</th>\n",
       "      <th>balance</th>\n",
       "      <th>day</th>\n",
       "      <th>duration</th>\n",
       "      <th>campaign</th>\n",
       "      <th>previous</th>\n",
       "      <th>job_admin.</th>\n",
       "      <th>job_blue-collar</th>\n",
       "      <th>job_entrepreneur</th>\n",
       "      <th>job_housemaid</th>\n",
       "      <th>...</th>\n",
       "      <th>month_nov</th>\n",
       "      <th>month_oct</th>\n",
       "      <th>month_sep</th>\n",
       "      <th>poutcome_failure</th>\n",
       "      <th>poutcome_other</th>\n",
       "      <th>poutcome_success</th>\n",
       "      <th>poutcome_unknown</th>\n",
       "      <th>housing_new</th>\n",
       "      <th>loan_new</th>\n",
       "      <th>subscribed_new</th>\n",
       "    </tr>\n",
       "  </thead>\n",
       "  <tbody>\n",
       "    <tr>\n",
       "      <th>0</th>\n",
       "      <td>56</td>\n",
       "      <td>1933</td>\n",
       "      <td>19</td>\n",
       "      <td>44</td>\n",
       "      <td>2</td>\n",
       "      <td>0</td>\n",
       "      <td>1</td>\n",
       "      <td>0</td>\n",
       "      <td>0</td>\n",
       "      <td>0</td>\n",
       "      <td>...</td>\n",
       "      <td>1</td>\n",
       "      <td>0</td>\n",
       "      <td>0</td>\n",
       "      <td>0</td>\n",
       "      <td>0</td>\n",
       "      <td>0</td>\n",
       "      <td>1</td>\n",
       "      <td>0</td>\n",
       "      <td>0</td>\n",
       "      <td>0</td>\n",
       "    </tr>\n",
       "    <tr>\n",
       "      <th>1</th>\n",
       "      <td>31</td>\n",
       "      <td>3</td>\n",
       "      <td>20</td>\n",
       "      <td>91</td>\n",
       "      <td>2</td>\n",
       "      <td>0</td>\n",
       "      <td>0</td>\n",
       "      <td>0</td>\n",
       "      <td>0</td>\n",
       "      <td>0</td>\n",
       "      <td>...</td>\n",
       "      <td>0</td>\n",
       "      <td>0</td>\n",
       "      <td>0</td>\n",
       "      <td>0</td>\n",
       "      <td>0</td>\n",
       "      <td>0</td>\n",
       "      <td>1</td>\n",
       "      <td>0</td>\n",
       "      <td>0</td>\n",
       "      <td>0</td>\n",
       "    </tr>\n",
       "    <tr>\n",
       "      <th>2</th>\n",
       "      <td>27</td>\n",
       "      <td>891</td>\n",
       "      <td>18</td>\n",
       "      <td>240</td>\n",
       "      <td>1</td>\n",
       "      <td>0</td>\n",
       "      <td>0</td>\n",
       "      <td>0</td>\n",
       "      <td>0</td>\n",
       "      <td>0</td>\n",
       "      <td>...</td>\n",
       "      <td>0</td>\n",
       "      <td>0</td>\n",
       "      <td>0</td>\n",
       "      <td>0</td>\n",
       "      <td>0</td>\n",
       "      <td>0</td>\n",
       "      <td>1</td>\n",
       "      <td>1</td>\n",
       "      <td>0</td>\n",
       "      <td>0</td>\n",
       "    </tr>\n",
       "    <tr>\n",
       "      <th>3</th>\n",
       "      <td>57</td>\n",
       "      <td>3287</td>\n",
       "      <td>22</td>\n",
       "      <td>867</td>\n",
       "      <td>1</td>\n",
       "      <td>3</td>\n",
       "      <td>0</td>\n",
       "      <td>0</td>\n",
       "      <td>0</td>\n",
       "      <td>0</td>\n",
       "      <td>...</td>\n",
       "      <td>0</td>\n",
       "      <td>0</td>\n",
       "      <td>0</td>\n",
       "      <td>0</td>\n",
       "      <td>0</td>\n",
       "      <td>1</td>\n",
       "      <td>0</td>\n",
       "      <td>0</td>\n",
       "      <td>0</td>\n",
       "      <td>1</td>\n",
       "    </tr>\n",
       "    <tr>\n",
       "      <th>4</th>\n",
       "      <td>31</td>\n",
       "      <td>119</td>\n",
       "      <td>4</td>\n",
       "      <td>380</td>\n",
       "      <td>1</td>\n",
       "      <td>0</td>\n",
       "      <td>0</td>\n",
       "      <td>0</td>\n",
       "      <td>0</td>\n",
       "      <td>0</td>\n",
       "      <td>...</td>\n",
       "      <td>0</td>\n",
       "      <td>0</td>\n",
       "      <td>0</td>\n",
       "      <td>0</td>\n",
       "      <td>0</td>\n",
       "      <td>0</td>\n",
       "      <td>1</td>\n",
       "      <td>1</td>\n",
       "      <td>0</td>\n",
       "      <td>0</td>\n",
       "    </tr>\n",
       "  </tbody>\n",
       "</table>\n",
       "<p>5 rows × 47 columns</p>\n",
       "</div>"
      ],
      "text/plain": [
       "   age  balance  day  duration  campaign  previous  job_admin.  \\\n",
       "0   56     1933   19        44         2         0           1   \n",
       "1   31        3   20        91         2         0           0   \n",
       "2   27      891   18       240         1         0           0   \n",
       "3   57     3287   22       867         1         3           0   \n",
       "4   31      119    4       380         1         0           0   \n",
       "\n",
       "   job_blue-collar  job_entrepreneur  job_housemaid  ...  month_nov  \\\n",
       "0                0                 0              0  ...          1   \n",
       "1                0                 0              0  ...          0   \n",
       "2                0                 0              0  ...          0   \n",
       "3                0                 0              0  ...          0   \n",
       "4                0                 0              0  ...          0   \n",
       "\n",
       "   month_oct  month_sep  poutcome_failure  poutcome_other  poutcome_success  \\\n",
       "0          0          0                 0               0                 0   \n",
       "1          0          0                 0               0                 0   \n",
       "2          0          0                 0               0                 0   \n",
       "3          0          0                 0               0                 1   \n",
       "4          0          0                 0               0                 0   \n",
       "\n",
       "   poutcome_unknown  housing_new  loan_new  subscribed_new  \n",
       "0                 1            0         0               0  \n",
       "1                 1            0         0               0  \n",
       "2                 1            1         0               0  \n",
       "3                 0            0         0               1  \n",
       "4                 1            1         0               0  \n",
       "\n",
       "[5 rows x 47 columns]"
      ]
     },
     "execution_count": 49,
     "metadata": {},
     "output_type": "execute_result"
    }
   ],
   "source": [
    "df.head()"
   ]
  },
  {
   "cell_type": "markdown",
   "id": "a409e938",
   "metadata": {},
   "source": [
    "### Seprating the features and labels:"
   ]
  },
  {
   "cell_type": "code",
   "execution_count": 50,
   "id": "47876317",
   "metadata": {},
   "outputs": [],
   "source": [
    "x = df.drop(['subscribed_new'],axis=1)\n",
    "y = df['subscribed_new']"
   ]
  },
  {
   "cell_type": "markdown",
   "id": "f4e1155d",
   "metadata": {},
   "source": [
    "### Using StandardScaler"
   ]
  },
  {
   "cell_type": "code",
   "execution_count": 51,
   "id": "de353c28",
   "metadata": {},
   "outputs": [
    {
     "data": {
      "text/html": [
       "<div>\n",
       "<style scoped>\n",
       "    .dataframe tbody tr th:only-of-type {\n",
       "        vertical-align: middle;\n",
       "    }\n",
       "\n",
       "    .dataframe tbody tr th {\n",
       "        vertical-align: top;\n",
       "    }\n",
       "\n",
       "    .dataframe thead th {\n",
       "        text-align: right;\n",
       "    }\n",
       "</style>\n",
       "<table border=\"1\" class=\"dataframe\">\n",
       "  <thead>\n",
       "    <tr style=\"text-align: right;\">\n",
       "      <th></th>\n",
       "      <th>age</th>\n",
       "      <th>balance</th>\n",
       "      <th>day</th>\n",
       "      <th>duration</th>\n",
       "      <th>campaign</th>\n",
       "      <th>previous</th>\n",
       "      <th>job_admin.</th>\n",
       "      <th>job_blue-collar</th>\n",
       "      <th>job_entrepreneur</th>\n",
       "      <th>job_housemaid</th>\n",
       "      <th>...</th>\n",
       "      <th>month_may</th>\n",
       "      <th>month_nov</th>\n",
       "      <th>month_oct</th>\n",
       "      <th>month_sep</th>\n",
       "      <th>poutcome_failure</th>\n",
       "      <th>poutcome_other</th>\n",
       "      <th>poutcome_success</th>\n",
       "      <th>poutcome_unknown</th>\n",
       "      <th>housing_new</th>\n",
       "      <th>loan_new</th>\n",
       "    </tr>\n",
       "  </thead>\n",
       "  <tbody>\n",
       "    <tr>\n",
       "      <th>0</th>\n",
       "      <td>1.415290</td>\n",
       "      <td>0.187731</td>\n",
       "      <td>0.380686</td>\n",
       "      <td>-0.833458</td>\n",
       "      <td>-0.251506</td>\n",
       "      <td>-0.313186</td>\n",
       "      <td>2.777290</td>\n",
       "      <td>-0.525077</td>\n",
       "      <td>-0.181392</td>\n",
       "      <td>-0.168524</td>\n",
       "      <td>...</td>\n",
       "      <td>-0.663512</td>\n",
       "      <td>3.219169</td>\n",
       "      <td>-0.128308</td>\n",
       "      <td>-0.114489</td>\n",
       "      <td>-0.344804</td>\n",
       "      <td>-0.20576</td>\n",
       "      <td>-0.186992</td>\n",
       "      <td>0.469567</td>\n",
       "      <td>-1.117803</td>\n",
       "      <td>-0.439825</td>\n",
       "    </tr>\n",
       "    <tr>\n",
       "      <th>1</th>\n",
       "      <td>-0.937097</td>\n",
       "      <td>-0.449403</td>\n",
       "      <td>0.500689</td>\n",
       "      <td>-0.650658</td>\n",
       "      <td>-0.251506</td>\n",
       "      <td>-0.313186</td>\n",
       "      <td>-0.360063</td>\n",
       "      <td>-0.525077</td>\n",
       "      <td>-0.181392</td>\n",
       "      <td>-0.168524</td>\n",
       "      <td>...</td>\n",
       "      <td>-0.663512</td>\n",
       "      <td>-0.310639</td>\n",
       "      <td>-0.128308</td>\n",
       "      <td>-0.114489</td>\n",
       "      <td>-0.344804</td>\n",
       "      <td>-0.20576</td>\n",
       "      <td>-0.186992</td>\n",
       "      <td>0.469567</td>\n",
       "      <td>-1.117803</td>\n",
       "      <td>-0.439825</td>\n",
       "    </tr>\n",
       "    <tr>\n",
       "      <th>2</th>\n",
       "      <td>-1.313479</td>\n",
       "      <td>-0.156255</td>\n",
       "      <td>0.260683</td>\n",
       "      <td>-0.071144</td>\n",
       "      <td>-0.594249</td>\n",
       "      <td>-0.313186</td>\n",
       "      <td>-0.360063</td>\n",
       "      <td>-0.525077</td>\n",
       "      <td>-0.181392</td>\n",
       "      <td>-0.168524</td>\n",
       "      <td>...</td>\n",
       "      <td>-0.663512</td>\n",
       "      <td>-0.310639</td>\n",
       "      <td>-0.128308</td>\n",
       "      <td>-0.114489</td>\n",
       "      <td>-0.344804</td>\n",
       "      <td>-0.20576</td>\n",
       "      <td>-0.186992</td>\n",
       "      <td>0.469567</td>\n",
       "      <td>0.894612</td>\n",
       "      <td>-0.439825</td>\n",
       "    </tr>\n",
       "    <tr>\n",
       "      <th>3</th>\n",
       "      <td>1.509385</td>\n",
       "      <td>0.634716</td>\n",
       "      <td>0.740694</td>\n",
       "      <td>2.367481</td>\n",
       "      <td>-0.594249</td>\n",
       "      <td>1.368844</td>\n",
       "      <td>-0.360063</td>\n",
       "      <td>-0.525077</td>\n",
       "      <td>-0.181392</td>\n",
       "      <td>-0.168524</td>\n",
       "      <td>...</td>\n",
       "      <td>-0.663512</td>\n",
       "      <td>-0.310639</td>\n",
       "      <td>-0.128308</td>\n",
       "      <td>-0.114489</td>\n",
       "      <td>-0.344804</td>\n",
       "      <td>-0.20576</td>\n",
       "      <td>5.347827</td>\n",
       "      <td>-2.129620</td>\n",
       "      <td>-1.117803</td>\n",
       "      <td>-0.439825</td>\n",
       "    </tr>\n",
       "    <tr>\n",
       "      <th>4</th>\n",
       "      <td>-0.937097</td>\n",
       "      <td>-0.411109</td>\n",
       "      <td>-1.419356</td>\n",
       "      <td>0.473365</td>\n",
       "      <td>-0.594249</td>\n",
       "      <td>-0.313186</td>\n",
       "      <td>-0.360063</td>\n",
       "      <td>-0.525077</td>\n",
       "      <td>-0.181392</td>\n",
       "      <td>-0.168524</td>\n",
       "      <td>...</td>\n",
       "      <td>-0.663512</td>\n",
       "      <td>-0.310639</td>\n",
       "      <td>-0.128308</td>\n",
       "      <td>-0.114489</td>\n",
       "      <td>-0.344804</td>\n",
       "      <td>-0.20576</td>\n",
       "      <td>-0.186992</td>\n",
       "      <td>0.469567</td>\n",
       "      <td>0.894612</td>\n",
       "      <td>-0.439825</td>\n",
       "    </tr>\n",
       "    <tr>\n",
       "      <th>...</th>\n",
       "      <td>...</td>\n",
       "      <td>...</td>\n",
       "      <td>...</td>\n",
       "      <td>...</td>\n",
       "      <td>...</td>\n",
       "      <td>...</td>\n",
       "      <td>...</td>\n",
       "      <td>...</td>\n",
       "      <td>...</td>\n",
       "      <td>...</td>\n",
       "      <td>...</td>\n",
       "      <td>...</td>\n",
       "      <td>...</td>\n",
       "      <td>...</td>\n",
       "      <td>...</td>\n",
       "      <td>...</td>\n",
       "      <td>...</td>\n",
       "      <td>...</td>\n",
       "      <td>...</td>\n",
       "      <td>...</td>\n",
       "      <td>...</td>\n",
       "    </tr>\n",
       "    <tr>\n",
       "      <th>31607</th>\n",
       "      <td>-1.125288</td>\n",
       "      <td>-0.450393</td>\n",
       "      <td>-0.459334</td>\n",
       "      <td>-0.553424</td>\n",
       "      <td>-0.251506</td>\n",
       "      <td>-0.313186</td>\n",
       "      <td>-0.360063</td>\n",
       "      <td>-0.525077</td>\n",
       "      <td>-0.181392</td>\n",
       "      <td>-0.168524</td>\n",
       "      <td>...</td>\n",
       "      <td>1.507132</td>\n",
       "      <td>-0.310639</td>\n",
       "      <td>-0.128308</td>\n",
       "      <td>-0.114489</td>\n",
       "      <td>-0.344804</td>\n",
       "      <td>-0.20576</td>\n",
       "      <td>-0.186992</td>\n",
       "      <td>0.469567</td>\n",
       "      <td>0.894612</td>\n",
       "      <td>-0.439825</td>\n",
       "    </tr>\n",
       "    <tr>\n",
       "      <th>31608</th>\n",
       "      <td>1.133003</td>\n",
       "      <td>-0.324947</td>\n",
       "      <td>-1.299354</td>\n",
       "      <td>0.698948</td>\n",
       "      <td>-0.251506</td>\n",
       "      <td>-0.313186</td>\n",
       "      <td>-0.360063</td>\n",
       "      <td>-0.525077</td>\n",
       "      <td>-0.181392</td>\n",
       "      <td>-0.168524</td>\n",
       "      <td>...</td>\n",
       "      <td>-0.663512</td>\n",
       "      <td>-0.310639</td>\n",
       "      <td>-0.128308</td>\n",
       "      <td>-0.114489</td>\n",
       "      <td>-0.344804</td>\n",
       "      <td>-0.20576</td>\n",
       "      <td>-0.186992</td>\n",
       "      <td>0.469567</td>\n",
       "      <td>-1.117803</td>\n",
       "      <td>2.273631</td>\n",
       "    </tr>\n",
       "    <tr>\n",
       "      <th>31609</th>\n",
       "      <td>-0.843002</td>\n",
       "      <td>-0.347395</td>\n",
       "      <td>-1.059348</td>\n",
       "      <td>-0.860683</td>\n",
       "      <td>0.091237</td>\n",
       "      <td>-0.313186</td>\n",
       "      <td>-0.360063</td>\n",
       "      <td>-0.525077</td>\n",
       "      <td>-0.181392</td>\n",
       "      <td>-0.168524</td>\n",
       "      <td>...</td>\n",
       "      <td>-0.663512</td>\n",
       "      <td>-0.310639</td>\n",
       "      <td>-0.128308</td>\n",
       "      <td>-0.114489</td>\n",
       "      <td>-0.344804</td>\n",
       "      <td>-0.20576</td>\n",
       "      <td>-0.186992</td>\n",
       "      <td>0.469567</td>\n",
       "      <td>-1.117803</td>\n",
       "      <td>-0.439825</td>\n",
       "    </tr>\n",
       "    <tr>\n",
       "      <th>31610</th>\n",
       "      <td>1.509385</td>\n",
       "      <td>-0.376116</td>\n",
       "      <td>-0.099325</td>\n",
       "      <td>-0.919023</td>\n",
       "      <td>1.462208</td>\n",
       "      <td>6.414931</td>\n",
       "      <td>-0.360063</td>\n",
       "      <td>-0.525077</td>\n",
       "      <td>-0.181392</td>\n",
       "      <td>-0.168524</td>\n",
       "      <td>...</td>\n",
       "      <td>1.507132</td>\n",
       "      <td>-0.310639</td>\n",
       "      <td>-0.128308</td>\n",
       "      <td>-0.114489</td>\n",
       "      <td>2.900196</td>\n",
       "      <td>-0.20576</td>\n",
       "      <td>-0.186992</td>\n",
       "      <td>-2.129620</td>\n",
       "      <td>0.894612</td>\n",
       "      <td>-0.439825</td>\n",
       "    </tr>\n",
       "    <tr>\n",
       "      <th>31611</th>\n",
       "      <td>1.321194</td>\n",
       "      <td>-0.383048</td>\n",
       "      <td>-0.579337</td>\n",
       "      <td>6.669107</td>\n",
       "      <td>-0.251506</td>\n",
       "      <td>-0.313186</td>\n",
       "      <td>-0.360063</td>\n",
       "      <td>-0.525077</td>\n",
       "      <td>-0.181392</td>\n",
       "      <td>-0.168524</td>\n",
       "      <td>...</td>\n",
       "      <td>-0.663512</td>\n",
       "      <td>-0.310639</td>\n",
       "      <td>-0.128308</td>\n",
       "      <td>-0.114489</td>\n",
       "      <td>-0.344804</td>\n",
       "      <td>-0.20576</td>\n",
       "      <td>-0.186992</td>\n",
       "      <td>0.469567</td>\n",
       "      <td>0.894612</td>\n",
       "      <td>-0.439825</td>\n",
       "    </tr>\n",
       "  </tbody>\n",
       "</table>\n",
       "<p>31612 rows × 46 columns</p>\n",
       "</div>"
      ],
      "text/plain": [
       "            age   balance       day  duration  campaign  previous  job_admin.  \\\n",
       "0      1.415290  0.187731  0.380686 -0.833458 -0.251506 -0.313186    2.777290   \n",
       "1     -0.937097 -0.449403  0.500689 -0.650658 -0.251506 -0.313186   -0.360063   \n",
       "2     -1.313479 -0.156255  0.260683 -0.071144 -0.594249 -0.313186   -0.360063   \n",
       "3      1.509385  0.634716  0.740694  2.367481 -0.594249  1.368844   -0.360063   \n",
       "4     -0.937097 -0.411109 -1.419356  0.473365 -0.594249 -0.313186   -0.360063   \n",
       "...         ...       ...       ...       ...       ...       ...         ...   \n",
       "31607 -1.125288 -0.450393 -0.459334 -0.553424 -0.251506 -0.313186   -0.360063   \n",
       "31608  1.133003 -0.324947 -1.299354  0.698948 -0.251506 -0.313186   -0.360063   \n",
       "31609 -0.843002 -0.347395 -1.059348 -0.860683  0.091237 -0.313186   -0.360063   \n",
       "31610  1.509385 -0.376116 -0.099325 -0.919023  1.462208  6.414931   -0.360063   \n",
       "31611  1.321194 -0.383048 -0.579337  6.669107 -0.251506 -0.313186   -0.360063   \n",
       "\n",
       "       job_blue-collar  job_entrepreneur  job_housemaid  ...  month_may  \\\n",
       "0            -0.525077         -0.181392      -0.168524  ...  -0.663512   \n",
       "1            -0.525077         -0.181392      -0.168524  ...  -0.663512   \n",
       "2            -0.525077         -0.181392      -0.168524  ...  -0.663512   \n",
       "3            -0.525077         -0.181392      -0.168524  ...  -0.663512   \n",
       "4            -0.525077         -0.181392      -0.168524  ...  -0.663512   \n",
       "...                ...               ...            ...  ...        ...   \n",
       "31607        -0.525077         -0.181392      -0.168524  ...   1.507132   \n",
       "31608        -0.525077         -0.181392      -0.168524  ...  -0.663512   \n",
       "31609        -0.525077         -0.181392      -0.168524  ...  -0.663512   \n",
       "31610        -0.525077         -0.181392      -0.168524  ...   1.507132   \n",
       "31611        -0.525077         -0.181392      -0.168524  ...  -0.663512   \n",
       "\n",
       "       month_nov  month_oct  month_sep  poutcome_failure  poutcome_other  \\\n",
       "0       3.219169  -0.128308  -0.114489         -0.344804        -0.20576   \n",
       "1      -0.310639  -0.128308  -0.114489         -0.344804        -0.20576   \n",
       "2      -0.310639  -0.128308  -0.114489         -0.344804        -0.20576   \n",
       "3      -0.310639  -0.128308  -0.114489         -0.344804        -0.20576   \n",
       "4      -0.310639  -0.128308  -0.114489         -0.344804        -0.20576   \n",
       "...          ...        ...        ...               ...             ...   \n",
       "31607  -0.310639  -0.128308  -0.114489         -0.344804        -0.20576   \n",
       "31608  -0.310639  -0.128308  -0.114489         -0.344804        -0.20576   \n",
       "31609  -0.310639  -0.128308  -0.114489         -0.344804        -0.20576   \n",
       "31610  -0.310639  -0.128308  -0.114489          2.900196        -0.20576   \n",
       "31611  -0.310639  -0.128308  -0.114489         -0.344804        -0.20576   \n",
       "\n",
       "       poutcome_success  poutcome_unknown  housing_new  loan_new  \n",
       "0             -0.186992          0.469567    -1.117803 -0.439825  \n",
       "1             -0.186992          0.469567    -1.117803 -0.439825  \n",
       "2             -0.186992          0.469567     0.894612 -0.439825  \n",
       "3              5.347827         -2.129620    -1.117803 -0.439825  \n",
       "4             -0.186992          0.469567     0.894612 -0.439825  \n",
       "...                 ...               ...          ...       ...  \n",
       "31607         -0.186992          0.469567     0.894612 -0.439825  \n",
       "31608         -0.186992          0.469567    -1.117803  2.273631  \n",
       "31609         -0.186992          0.469567    -1.117803 -0.439825  \n",
       "31610         -0.186992         -2.129620     0.894612 -0.439825  \n",
       "31611         -0.186992          0.469567     0.894612 -0.439825  \n",
       "\n",
       "[31612 rows x 46 columns]"
      ]
     },
     "execution_count": 51,
     "metadata": {},
     "output_type": "execute_result"
    }
   ],
   "source": [
    "# using this methd for biasness\n",
    "Scaler =StandardScaler()\n",
    "x = pd.DataFrame(Scaler.fit_transform(x),columns = x.columns)\n",
    "x"
   ]
  },
  {
   "cell_type": "code",
   "execution_count": 52,
   "id": "515bcbe3",
   "metadata": {},
   "outputs": [
    {
     "data": {
      "text/plain": [
       "0    27898\n",
       "1     3714\n",
       "Name: subscribed_new, dtype: int64"
      ]
     },
     "execution_count": 52,
     "metadata": {},
     "output_type": "execute_result"
    }
   ],
   "source": [
    "#lets check the y counts\n",
    "y.value_counts()"
   ]
  },
  {
   "cell_type": "code",
   "execution_count": 53,
   "id": "bb5ef1a3",
   "metadata": {},
   "outputs": [],
   "source": [
    "#oversampling the data\n",
    "from imblearn.over_sampling import SMOTE\n",
    "SM = SMOTE()\n",
    "x,y = SM.fit_resample(x,y)"
   ]
  },
  {
   "cell_type": "code",
   "execution_count": 54,
   "id": "d62cc208",
   "metadata": {},
   "outputs": [
    {
     "data": {
      "text/plain": [
       "0    27898\n",
       "1    27898\n",
       "Name: subscribed_new, dtype: int64"
      ]
     },
     "execution_count": 54,
     "metadata": {},
     "output_type": "execute_result"
    }
   ],
   "source": [
    "y.value_counts()"
   ]
  },
  {
   "cell_type": "markdown",
   "id": "abcafd2a",
   "metadata": {},
   "source": [
    "### Testiing and Spliting:"
   ]
  },
  {
   "cell_type": "code",
   "execution_count": 55,
   "id": "deabd46e",
   "metadata": {},
   "outputs": [],
   "source": [
    "x_train,x_test,y_train,y_test = train_test_split(x,y,test_size=0.25, random_state =42)"
   ]
  },
  {
   "cell_type": "code",
   "execution_count": 56,
   "id": "be24e8e8",
   "metadata": {},
   "outputs": [],
   "source": [
    "from sklearn.metrics  import confusion_matrix,classification_report,accuracy_score"
   ]
  },
  {
   "cell_type": "code",
   "execution_count": 57,
   "id": "bb9d2f15",
   "metadata": {},
   "outputs": [],
   "source": [
    "def metric_score(clf, x_train,x_test,y_train,y_test,train = True):\n",
    "    if train:\n",
    "        y_pred = clf.predict(x_train)\n",
    "        \n",
    "        print(\"\\n==========Train Result=========\")\n",
    "        \n",
    "        print(f\"Accuracy Score: {accuracy_score(y_train,y_pred)*100: .2f}%\")\n",
    "        \n",
    "    \n",
    "    elif train==False:\n",
    "        pred = clf.predict(x_test)\n",
    "        \n",
    "        print(\"\\n=========Train Result========\")\n",
    "        \n",
    "        print(f\"Accuracy Score: {accuracy_score(y_test, pred)*100: .2f}%\")\n",
    "        \n",
    "        print('\\n \\n Test Cassification Report \\n',classification_report(y_test,pred,digits=2))"
   ]
  },
  {
   "cell_type": "markdown",
   "id": "9d26b3ae",
   "metadata": {},
   "source": [
    "### Model-Training:"
   ]
  },
  {
   "cell_type": "markdown",
   "id": "2ddb31ca",
   "metadata": {},
   "source": [
    "### Randomforest classifier model:"
   ]
  },
  {
   "cell_type": "code",
   "execution_count": 58,
   "id": "1fc74f7d",
   "metadata": {},
   "outputs": [],
   "source": [
    "from sklearn.ensemble import RandomForestClassifier"
   ]
  },
  {
   "cell_type": "code",
   "execution_count": 59,
   "id": "4518b703",
   "metadata": {},
   "outputs": [
    {
     "data": {
      "text/plain": [
       "RandomForestClassifier()"
      ]
     },
     "execution_count": 59,
     "metadata": {},
     "output_type": "execute_result"
    }
   ],
   "source": [
    "RFC = RandomForestClassifier()\n",
    "RFC.fit(x_train,y_train)"
   ]
  },
  {
   "cell_type": "code",
   "execution_count": 60,
   "id": "ec12e53d",
   "metadata": {},
   "outputs": [
    {
     "name": "stdout",
     "output_type": "stream",
     "text": [
      "\n",
      "==========Train Result=========\n",
      "Accuracy Score:  100.00%\n",
      "\n",
      "=========Train Result========\n",
      "Accuracy Score:  94.97%\n",
      "\n",
      " \n",
      " Test Cassification Report \n",
      "               precision    recall  f1-score   support\n",
      "\n",
      "           0       0.97      0.93      0.95      6971\n",
      "           1       0.93      0.97      0.95      6978\n",
      "\n",
      "    accuracy                           0.95     13949\n",
      "   macro avg       0.95      0.95      0.95     13949\n",
      "weighted avg       0.95      0.95      0.95     13949\n",
      "\n"
     ]
    }
   ],
   "source": [
    "metric_score(RFC,x_train,x_test,y_train,y_test,train=True)\n",
    "metric_score(RFC,x_train,x_test,y_train,y_test,train=False)"
   ]
  },
  {
   "cell_type": "markdown",
   "id": "4af50c5d",
   "metadata": {},
   "source": [
    "### XGBoostClassifier Model:"
   ]
  },
  {
   "cell_type": "code",
   "execution_count": 62,
   "id": "7008aa67",
   "metadata": {},
   "outputs": [
    {
     "name": "stdout",
     "output_type": "stream",
     "text": [
      "Requirement already satisfied: xgboost in d:\\users\\admin\\anaconda3\\lib\\site-packages (1.7.5)\n",
      "Requirement already satisfied: numpy in d:\\users\\admin\\anaconda3\\lib\\site-packages (from xgboost) (1.21.5)\n",
      "Requirement already satisfied: scipy in d:\\users\\admin\\anaconda3\\lib\\site-packages (from xgboost) (1.7.3)\n"
     ]
    }
   ],
   "source": [
    "!pip install xgboost"
   ]
  },
  {
   "cell_type": "code",
   "execution_count": 58,
   "id": "91a26ff8",
   "metadata": {},
   "outputs": [],
   "source": [
    "from xgboost import XGBClassifier"
   ]
  },
  {
   "cell_type": "code",
   "execution_count": 59,
   "id": "8944862b",
   "metadata": {},
   "outputs": [
    {
     "data": {
      "text/plain": [
       "XGBClassifier(base_score=None, booster=None, callbacks=None,\n",
       "              colsample_bylevel=None, colsample_bynode=None,\n",
       "              colsample_bytree=None, early_stopping_rounds=None,\n",
       "              enable_categorical=False, eval_metric=None, feature_types=None,\n",
       "              gamma=None, gpu_id=None, grow_policy=None, importance_type=None,\n",
       "              interaction_constraints=None, learning_rate=None, max_bin=None,\n",
       "              max_cat_threshold=None, max_cat_to_onehot=None,\n",
       "              max_delta_step=None, max_depth=None, max_leaves=None,\n",
       "              min_child_weight=None, missing=nan, monotone_constraints=None,\n",
       "              n_estimators=100, n_jobs=None, num_parallel_tree=None,\n",
       "              predictor=None, random_state=None, ...)"
      ]
     },
     "execution_count": 59,
     "metadata": {},
     "output_type": "execute_result"
    }
   ],
   "source": [
    "XGB = XGBClassifier()\n",
    "XGB.fit(x_train,y_train)"
   ]
  },
  {
   "cell_type": "code",
   "execution_count": 60,
   "id": "8688d9df",
   "metadata": {},
   "outputs": [
    {
     "name": "stdout",
     "output_type": "stream",
     "text": [
      "\n",
      "==========Train Result=========\n",
      "Accuracy Score:  97.40%\n",
      "\n",
      "=========Train Result========\n",
      "Accuracy Score:  94.80%\n",
      "\n",
      " \n",
      " Test Cassification Report \n",
      "               precision    recall  f1-score   support\n",
      "\n",
      "           0       0.95      0.95      0.95      6971\n",
      "           1       0.95      0.95      0.95      6978\n",
      "\n",
      "    accuracy                           0.95     13949\n",
      "   macro avg       0.95      0.95      0.95     13949\n",
      "weighted avg       0.95      0.95      0.95     13949\n",
      "\n"
     ]
    }
   ],
   "source": [
    "metric_score(XGB,x_train,x_test,y_train,y_test,train=True)\n",
    "metric_score(XGB,x_train,x_test,y_train,y_test,train=False)"
   ]
  },
  {
   "cell_type": "markdown",
   "id": "fff524ac",
   "metadata": {},
   "source": [
    "### DecisionTreeClassifier Model:"
   ]
  },
  {
   "cell_type": "code",
   "execution_count": 64,
   "id": "2efed572",
   "metadata": {},
   "outputs": [],
   "source": [
    "from sklearn.tree import DecisionTreeClassifier"
   ]
  },
  {
   "cell_type": "code",
   "execution_count": 65,
   "id": "9444c7f9",
   "metadata": {},
   "outputs": [
    {
     "data": {
      "text/plain": [
       "DecisionTreeClassifier()"
      ]
     },
     "execution_count": 65,
     "metadata": {},
     "output_type": "execute_result"
    }
   ],
   "source": [
    "DEC = DecisionTreeClassifier()\n",
    "DEC.fit(x_train,y_train)"
   ]
  },
  {
   "cell_type": "code",
   "execution_count": 66,
   "id": "f8a627e8",
   "metadata": {},
   "outputs": [
    {
     "name": "stdout",
     "output_type": "stream",
     "text": [
      "\n",
      "==========Train Result=========\n",
      "Accuracy Score:  100.00%\n",
      "\n",
      "=========Train Result========\n",
      "Accuracy Score:  90.69%\n",
      "\n",
      " \n",
      " Test Cassification Report \n",
      "               precision    recall  f1-score   support\n",
      "\n",
      "           0       0.92      0.90      0.91      6971\n",
      "           1       0.90      0.92      0.91      6978\n",
      "\n",
      "    accuracy                           0.91     13949\n",
      "   macro avg       0.91      0.91      0.91     13949\n",
      "weighted avg       0.91      0.91      0.91     13949\n",
      "\n"
     ]
    }
   ],
   "source": [
    "metric_score(DEC,x_train,x_test,y_train,y_test,train=True)\n",
    "metric_score(DEC,x_train,x_test,y_train,y_test,train=False)"
   ]
  },
  {
   "cell_type": "markdown",
   "id": "189f4864",
   "metadata": {},
   "source": [
    "### GradientBoostClassifier model:"
   ]
  },
  {
   "cell_type": "code",
   "execution_count": 67,
   "id": "212ac398",
   "metadata": {},
   "outputs": [],
   "source": [
    "from sklearn.ensemble import GradientBoostingClassifier"
   ]
  },
  {
   "cell_type": "code",
   "execution_count": 68,
   "id": "784c0a26",
   "metadata": {},
   "outputs": [
    {
     "data": {
      "text/plain": [
       "GradientBoostingClassifier()"
      ]
     },
     "execution_count": 68,
     "metadata": {},
     "output_type": "execute_result"
    }
   ],
   "source": [
    "GRD = GradientBoostingClassifier()\n",
    "GRD.fit(x_train,y_train)"
   ]
  },
  {
   "cell_type": "code",
   "execution_count": 69,
   "id": "3849d5d5",
   "metadata": {},
   "outputs": [
    {
     "name": "stdout",
     "output_type": "stream",
     "text": [
      "\n",
      "==========Train Result=========\n",
      "Accuracy Score:  91.78%\n",
      "\n",
      "=========Train Result========\n",
      "Accuracy Score:  91.91%\n",
      "\n",
      " \n",
      " Test Cassification Report \n",
      "               precision    recall  f1-score   support\n",
      "\n",
      "           0       0.94      0.90      0.92      6971\n",
      "           1       0.90      0.94      0.92      6978\n",
      "\n",
      "    accuracy                           0.92     13949\n",
      "   macro avg       0.92      0.92      0.92     13949\n",
      "weighted avg       0.92      0.92      0.92     13949\n",
      "\n"
     ]
    }
   ],
   "source": [
    "metric_score(GRD,x_train,x_test,y_train,y_test,train = True)\n",
    "metric_score(GRD,x_train,x_test,y_train,y_test,train = False)"
   ]
  },
  {
   "cell_type": "code",
   "execution_count": 70,
   "id": "a20239a7",
   "metadata": {},
   "outputs": [],
   "source": [
    "#Now Checking The Cross-Validation Score for Models overfitting."
   ]
  },
  {
   "cell_type": "markdown",
   "id": "892102cf",
   "metadata": {},
   "source": [
    "### Cross-Val-Score:"
   ]
  },
  {
   "cell_type": "code",
   "execution_count": 68,
   "id": "f521f1f6",
   "metadata": {},
   "outputs": [],
   "source": [
    "from sklearn.model_selection import cross_val_score"
   ]
  },
  {
   "cell_type": "code",
   "execution_count": 69,
   "id": "cd2e092c",
   "metadata": {},
   "outputs": [
    {
     "name": "stdout",
     "output_type": "stream",
     "text": [
      "[0.87921147 0.96379604 0.96245183 0.96397527 0.96236222]\n",
      "0.9463593653289804\n"
     ]
    }
   ],
   "source": [
    "# checking cv score for RandomForestClassifier\n",
    "score = cross_val_score(RFC,x,y)\n",
    "print(score)\n",
    "print(score.mean())"
   ]
  },
  {
   "cell_type": "code",
   "execution_count": 71,
   "id": "fc41b3ac",
   "metadata": {},
   "outputs": [
    {
     "name": "stdout",
     "output_type": "stream",
     "text": [
      "[0.68521505 0.96764943 0.96720136 0.96988978 0.96881441]\n",
      "0.9117540063616136\n"
     ]
    }
   ],
   "source": [
    "# checking cv score fr XGBoostClassifier\n",
    "score = cross_val_score(XGB,x,y)\n",
    "print(score)\n",
    "print(score.mean())"
   ]
  },
  {
   "cell_type": "code",
   "execution_count": 74,
   "id": "166fcb8a",
   "metadata": {},
   "outputs": [
    {
     "name": "stdout",
     "output_type": "stream",
     "text": [
      "[0.8155914  0.91952684 0.92346984 0.92606864 0.92669594]\n",
      "0.902270533356074\n"
     ]
    }
   ],
   "source": [
    "# checking cv score for DecisionTreeClassifier\n",
    "score = cross_val_score(DEC,x,y)\n",
    "print(score)\n",
    "print(score.mean())"
   ]
  },
  {
   "cell_type": "code",
   "execution_count": 75,
   "id": "a8150449",
   "metadata": {},
   "outputs": [
    {
     "name": "stdout",
     "output_type": "stream",
     "text": [
      "[0.82428315 0.92696478 0.93180393 0.93252084 0.92983242]\n",
      "0.9090810236911171\n"
     ]
    }
   ],
   "source": [
    "# checking cv score for GradientBoostingClassifier\n",
    "score = cross_val_score(GRD,x,y)\n",
    "print(score)\n",
    "print(score.mean())"
   ]
  },
  {
   "cell_type": "markdown",
   "id": "a8df428d",
   "metadata": {},
   "source": [
    "### we are choosing RandomForestClassifier as our best Model:"
   ]
  },
  {
   "cell_type": "markdown",
   "id": "86abee1a",
   "metadata": {},
   "source": [
    "### Hypertuning Parameters."
   ]
  },
  {
   "cell_type": "code",
   "execution_count": 61,
   "id": "1d2ad3c2",
   "metadata": {},
   "outputs": [],
   "source": [
    "#  RandomForestClassifier:\n",
    "from sklearn.model_selection import RandomizedSearchCV\n",
    "\n",
    "parameters = {'max_depth':[2,8],\n",
    "              'max_features':[0.2,0.6,1.0],\n",
    "              'n_estimators':[20,60,100,120],\n",
    "              'max_samples':[0.5,0.75,1.0],\n",
    "              'criterion':['gini','entropy'],\n",
    "              'bootstrap':[True,False]}"
   ]
  },
  {
   "cell_type": "code",
   "execution_count": 62,
   "id": "223f81c2",
   "metadata": {},
   "outputs": [],
   "source": [
    "RFC=  RandomizedSearchCV(RandomForestClassifier(),parameters,cv= 5)"
   ]
  },
  {
   "cell_type": "code",
   "execution_count": 63,
   "id": "5c32099f",
   "metadata": {},
   "outputs": [
    {
     "data": {
      "text/plain": [
       "RandomizedSearchCV(cv=5, estimator=RandomForestClassifier(),\n",
       "                   param_distributions={'bootstrap': [True, False],\n",
       "                                        'criterion': ['gini', 'entropy'],\n",
       "                                        'max_depth': [2, 8],\n",
       "                                        'max_features': [0.2, 0.6, 1.0],\n",
       "                                        'max_samples': [0.5, 0.75, 1.0],\n",
       "                                        'n_estimators': [20, 60, 100, 120]})"
      ]
     },
     "execution_count": 63,
     "metadata": {},
     "output_type": "execute_result"
    }
   ],
   "source": [
    "RFC.fit(x_train,y_train)"
   ]
  },
  {
   "cell_type": "code",
   "execution_count": 64,
   "id": "c0d9508a",
   "metadata": {},
   "outputs": [
    {
     "data": {
      "text/plain": [
       "{'n_estimators': 100,\n",
       " 'max_samples': 1.0,\n",
       " 'max_features': 0.2,\n",
       " 'max_depth': 8,\n",
       " 'criterion': 'gini',\n",
       " 'bootstrap': True}"
      ]
     },
     "execution_count": 64,
     "metadata": {},
     "output_type": "execute_result"
    }
   ],
   "source": [
    "RFC.best_params_"
   ]
  },
  {
   "cell_type": "code",
   "execution_count": 65,
   "id": "d774616a",
   "metadata": {},
   "outputs": [
    {
     "name": "stdout",
     "output_type": "stream",
     "text": [
      "89.71252419528281\n"
     ]
    }
   ],
   "source": [
    "Final_model = RandomForestClassifier(n_estimators = 100, max_features= 0.2,max_depth= 8,criterion= 'gini',bootstrap = 'True',max_samples=1.0)\n",
    "Final_model.fit(x_train,y_train)\n",
    "pred = Final_model.predict(x_test)\n",
    "acc = accuracy_score(y_test,pred)\n",
    "print(acc*100)"
   ]
  },
  {
   "cell_type": "markdown",
   "id": "09a55128",
   "metadata": {},
   "source": [
    "### predict the trained model in to test data,"
   ]
  },
  {
   "cell_type": "code",
   "execution_count": 75,
   "id": "0c20cf2c",
   "metadata": {},
   "outputs": [
    {
     "data": {
      "text/plain": [
       "array(['no', 'no', 'no', 'yes', 'no'], dtype=object)"
      ]
     },
     "execution_count": 75,
     "metadata": {},
     "output_type": "execute_result"
    }
   ],
   "source": [
    "#loading my train dataset into python\n",
    "train = pd.read_csv('https://raw.githubusercontent.com/dsrscientist/dataset5/main/termdeposit_train.csv')\n",
    "\n",
    "#factors that will predict the price\n",
    "train_pr = ['age','balance','day','duration','campaign','previous']\n",
    "\n",
    "#set my model to RandomFoestclassifier\n",
    "RFC = RandomForestClassifier()\n",
    "\n",
    "#set prediction data to factors that will predict, and set target to SalePrice\n",
    "prdata = train[train_pr]\n",
    "target = train.subscribed\n",
    "\n",
    "#fitting model with prediction data and telling it my target\n",
    "RFC.fit(prdata, target)\n",
    "\n",
    "RFC.predict(prdata.head())"
   ]
  },
  {
   "cell_type": "code",
   "execution_count": 76,
   "id": "4fc18133",
   "metadata": {},
   "outputs": [
    {
     "data": {
      "text/plain": [
       "array(['no', 'no', 'yes', 'no', 'no'], dtype=object)"
      ]
     },
     "execution_count": 76,
     "metadata": {},
     "output_type": "execute_result"
    }
   ],
   "source": [
    "#loading my train dataset into python\n",
    "train = pd.read_csv('https://raw.githubusercontent.com/dsrscientist/dataset5/main/termdeposit_train.csv')\n",
    "test = pd.read_csv('https://raw.githubusercontent.com/dsrscientist/dataset5/main/termdeposit_test.csv')\n",
    "\n",
    "#factors that will predict the price\n",
    "desired_factors = ['age','balance','day','duration','campaign','previous']\n",
    "\n",
    "#set my model to DecisionTree\n",
    "RFC = RandomForestClassifier()\n",
    "\n",
    "#set prediction data to factors that will predict, and set target to SalePrice\n",
    "train_data = train[desired_factors]\n",
    "test_data = test[desired_factors]\n",
    "target = train.subscribed\n",
    "\n",
    "#fitting model with prediction data and telling it my target\n",
    "RFC.fit(train_data, target)\n",
    "\n",
    "RFC.predict(test_data.head())"
   ]
  },
  {
   "cell_type": "markdown",
   "id": "ebe80761",
   "metadata": {},
   "source": [
    "### Saving the Model:"
   ]
  },
  {
   "cell_type": "code",
   "execution_count": 79,
   "id": "6b57826f",
   "metadata": {},
   "outputs": [
    {
     "data": {
      "text/plain": [
       "['Deposit Prediction']"
      ]
     },
     "execution_count": 79,
     "metadata": {},
     "output_type": "execute_result"
    }
   ],
   "source": [
    "# we use joblib methode for save the model\n",
    "import joblib\n",
    "joblib.dump(Final_model,\"Deposit Prediction\")"
   ]
  },
  {
   "cell_type": "code",
   "execution_count": 80,
   "id": "9a347bba",
   "metadata": {},
   "outputs": [
    {
     "data": {
      "text/plain": [
       "array([0, 0, 0, ..., 1, 1, 0], dtype=int64)"
      ]
     },
     "execution_count": 80,
     "metadata": {},
     "output_type": "execute_result"
    }
   ],
   "source": [
    "# load the saved model\n",
    "model = joblib.load(\"Deposit Prediction\")\n",
    "\n",
    "#pediction\n",
    "prediction = model.predict(x_test)\n",
    "prediction"
   ]
  },
  {
   "cell_type": "code",
   "execution_count": null,
   "id": "fa809576",
   "metadata": {},
   "outputs": [],
   "source": []
  }
 ],
 "metadata": {
  "kernelspec": {
   "display_name": "Python 3 (ipykernel)",
   "language": "python",
   "name": "python3"
  },
  "language_info": {
   "codemirror_mode": {
    "name": "ipython",
    "version": 3
   },
   "file_extension": ".py",
   "mimetype": "text/x-python",
   "name": "python",
   "nbconvert_exporter": "python",
   "pygments_lexer": "ipython3",
   "version": "3.9.12"
  }
 },
 "nbformat": 4,
 "nbformat_minor": 5
}
